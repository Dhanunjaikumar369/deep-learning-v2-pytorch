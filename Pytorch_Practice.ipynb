{
  "nbformat": 4,
  "nbformat_minor": 0,
  "metadata": {
    "colab": {
      "provenance": []
    },
    "kernelspec": {
      "name": "python3",
      "display_name": "Python 3"
    },
    "language_info": {
      "name": "python"
    },
    "widgets": {
      "application/vnd.jupyter.widget-state+json": {
        "4320cc1848b140f5a912541d14b63c31": {
          "model_module": "@jupyter-widgets/controls",
          "model_name": "HBoxModel",
          "model_module_version": "1.5.0",
          "state": {
            "_dom_classes": [],
            "_model_module": "@jupyter-widgets/controls",
            "_model_module_version": "1.5.0",
            "_model_name": "HBoxModel",
            "_view_count": null,
            "_view_module": "@jupyter-widgets/controls",
            "_view_module_version": "1.5.0",
            "_view_name": "HBoxView",
            "box_style": "",
            "children": [
              "IPY_MODEL_8a722bea9a754232a845a00f1d08a28d",
              "IPY_MODEL_f0910c1c0bb540b689db0741f624f884",
              "IPY_MODEL_2dcec3cebbbe47e9bc47d6d9fab093a2"
            ],
            "layout": "IPY_MODEL_a81b6970a22f480c92785a917dec3b9b"
          }
        },
        "8a722bea9a754232a845a00f1d08a28d": {
          "model_module": "@jupyter-widgets/controls",
          "model_name": "HTMLModel",
          "model_module_version": "1.5.0",
          "state": {
            "_dom_classes": [],
            "_model_module": "@jupyter-widgets/controls",
            "_model_module_version": "1.5.0",
            "_model_name": "HTMLModel",
            "_view_count": null,
            "_view_module": "@jupyter-widgets/controls",
            "_view_module_version": "1.5.0",
            "_view_name": "HTMLView",
            "description": "",
            "description_tooltip": null,
            "layout": "IPY_MODEL_8146bbab657b4324b2d6fa938ba8062e",
            "placeholder": "​",
            "style": "IPY_MODEL_dd2b5e68a52648a7a07278dcaefdd642",
            "value": "100%"
          }
        },
        "f0910c1c0bb540b689db0741f624f884": {
          "model_module": "@jupyter-widgets/controls",
          "model_name": "FloatProgressModel",
          "model_module_version": "1.5.0",
          "state": {
            "_dom_classes": [],
            "_model_module": "@jupyter-widgets/controls",
            "_model_module_version": "1.5.0",
            "_model_name": "FloatProgressModel",
            "_view_count": null,
            "_view_module": "@jupyter-widgets/controls",
            "_view_module_version": "1.5.0",
            "_view_name": "ProgressView",
            "bar_style": "success",
            "description": "",
            "description_tooltip": null,
            "layout": "IPY_MODEL_506049923a0a40daa1b793f2fbe72f31",
            "max": 9912422,
            "min": 0,
            "orientation": "horizontal",
            "style": "IPY_MODEL_d85ba1405616456d93df9d272c6c2a85",
            "value": 9912422
          }
        },
        "2dcec3cebbbe47e9bc47d6d9fab093a2": {
          "model_module": "@jupyter-widgets/controls",
          "model_name": "HTMLModel",
          "model_module_version": "1.5.0",
          "state": {
            "_dom_classes": [],
            "_model_module": "@jupyter-widgets/controls",
            "_model_module_version": "1.5.0",
            "_model_name": "HTMLModel",
            "_view_count": null,
            "_view_module": "@jupyter-widgets/controls",
            "_view_module_version": "1.5.0",
            "_view_name": "HTMLView",
            "description": "",
            "description_tooltip": null,
            "layout": "IPY_MODEL_86fcc219799b4abaa816abfb8f4be8e4",
            "placeholder": "​",
            "style": "IPY_MODEL_7bd2935b101f45a781ca8ee428623f3f",
            "value": " 9912422/9912422 [00:00&lt;00:00, 16919568.14it/s]"
          }
        },
        "a81b6970a22f480c92785a917dec3b9b": {
          "model_module": "@jupyter-widgets/base",
          "model_name": "LayoutModel",
          "model_module_version": "1.2.0",
          "state": {
            "_model_module": "@jupyter-widgets/base",
            "_model_module_version": "1.2.0",
            "_model_name": "LayoutModel",
            "_view_count": null,
            "_view_module": "@jupyter-widgets/base",
            "_view_module_version": "1.2.0",
            "_view_name": "LayoutView",
            "align_content": null,
            "align_items": null,
            "align_self": null,
            "border": null,
            "bottom": null,
            "display": null,
            "flex": null,
            "flex_flow": null,
            "grid_area": null,
            "grid_auto_columns": null,
            "grid_auto_flow": null,
            "grid_auto_rows": null,
            "grid_column": null,
            "grid_gap": null,
            "grid_row": null,
            "grid_template_areas": null,
            "grid_template_columns": null,
            "grid_template_rows": null,
            "height": null,
            "justify_content": null,
            "justify_items": null,
            "left": null,
            "margin": null,
            "max_height": null,
            "max_width": null,
            "min_height": null,
            "min_width": null,
            "object_fit": null,
            "object_position": null,
            "order": null,
            "overflow": null,
            "overflow_x": null,
            "overflow_y": null,
            "padding": null,
            "right": null,
            "top": null,
            "visibility": null,
            "width": null
          }
        },
        "8146bbab657b4324b2d6fa938ba8062e": {
          "model_module": "@jupyter-widgets/base",
          "model_name": "LayoutModel",
          "model_module_version": "1.2.0",
          "state": {
            "_model_module": "@jupyter-widgets/base",
            "_model_module_version": "1.2.0",
            "_model_name": "LayoutModel",
            "_view_count": null,
            "_view_module": "@jupyter-widgets/base",
            "_view_module_version": "1.2.0",
            "_view_name": "LayoutView",
            "align_content": null,
            "align_items": null,
            "align_self": null,
            "border": null,
            "bottom": null,
            "display": null,
            "flex": null,
            "flex_flow": null,
            "grid_area": null,
            "grid_auto_columns": null,
            "grid_auto_flow": null,
            "grid_auto_rows": null,
            "grid_column": null,
            "grid_gap": null,
            "grid_row": null,
            "grid_template_areas": null,
            "grid_template_columns": null,
            "grid_template_rows": null,
            "height": null,
            "justify_content": null,
            "justify_items": null,
            "left": null,
            "margin": null,
            "max_height": null,
            "max_width": null,
            "min_height": null,
            "min_width": null,
            "object_fit": null,
            "object_position": null,
            "order": null,
            "overflow": null,
            "overflow_x": null,
            "overflow_y": null,
            "padding": null,
            "right": null,
            "top": null,
            "visibility": null,
            "width": null
          }
        },
        "dd2b5e68a52648a7a07278dcaefdd642": {
          "model_module": "@jupyter-widgets/controls",
          "model_name": "DescriptionStyleModel",
          "model_module_version": "1.5.0",
          "state": {
            "_model_module": "@jupyter-widgets/controls",
            "_model_module_version": "1.5.0",
            "_model_name": "DescriptionStyleModel",
            "_view_count": null,
            "_view_module": "@jupyter-widgets/base",
            "_view_module_version": "1.2.0",
            "_view_name": "StyleView",
            "description_width": ""
          }
        },
        "506049923a0a40daa1b793f2fbe72f31": {
          "model_module": "@jupyter-widgets/base",
          "model_name": "LayoutModel",
          "model_module_version": "1.2.0",
          "state": {
            "_model_module": "@jupyter-widgets/base",
            "_model_module_version": "1.2.0",
            "_model_name": "LayoutModel",
            "_view_count": null,
            "_view_module": "@jupyter-widgets/base",
            "_view_module_version": "1.2.0",
            "_view_name": "LayoutView",
            "align_content": null,
            "align_items": null,
            "align_self": null,
            "border": null,
            "bottom": null,
            "display": null,
            "flex": null,
            "flex_flow": null,
            "grid_area": null,
            "grid_auto_columns": null,
            "grid_auto_flow": null,
            "grid_auto_rows": null,
            "grid_column": null,
            "grid_gap": null,
            "grid_row": null,
            "grid_template_areas": null,
            "grid_template_columns": null,
            "grid_template_rows": null,
            "height": null,
            "justify_content": null,
            "justify_items": null,
            "left": null,
            "margin": null,
            "max_height": null,
            "max_width": null,
            "min_height": null,
            "min_width": null,
            "object_fit": null,
            "object_position": null,
            "order": null,
            "overflow": null,
            "overflow_x": null,
            "overflow_y": null,
            "padding": null,
            "right": null,
            "top": null,
            "visibility": null,
            "width": null
          }
        },
        "d85ba1405616456d93df9d272c6c2a85": {
          "model_module": "@jupyter-widgets/controls",
          "model_name": "ProgressStyleModel",
          "model_module_version": "1.5.0",
          "state": {
            "_model_module": "@jupyter-widgets/controls",
            "_model_module_version": "1.5.0",
            "_model_name": "ProgressStyleModel",
            "_view_count": null,
            "_view_module": "@jupyter-widgets/base",
            "_view_module_version": "1.2.0",
            "_view_name": "StyleView",
            "bar_color": null,
            "description_width": ""
          }
        },
        "86fcc219799b4abaa816abfb8f4be8e4": {
          "model_module": "@jupyter-widgets/base",
          "model_name": "LayoutModel",
          "model_module_version": "1.2.0",
          "state": {
            "_model_module": "@jupyter-widgets/base",
            "_model_module_version": "1.2.0",
            "_model_name": "LayoutModel",
            "_view_count": null,
            "_view_module": "@jupyter-widgets/base",
            "_view_module_version": "1.2.0",
            "_view_name": "LayoutView",
            "align_content": null,
            "align_items": null,
            "align_self": null,
            "border": null,
            "bottom": null,
            "display": null,
            "flex": null,
            "flex_flow": null,
            "grid_area": null,
            "grid_auto_columns": null,
            "grid_auto_flow": null,
            "grid_auto_rows": null,
            "grid_column": null,
            "grid_gap": null,
            "grid_row": null,
            "grid_template_areas": null,
            "grid_template_columns": null,
            "grid_template_rows": null,
            "height": null,
            "justify_content": null,
            "justify_items": null,
            "left": null,
            "margin": null,
            "max_height": null,
            "max_width": null,
            "min_height": null,
            "min_width": null,
            "object_fit": null,
            "object_position": null,
            "order": null,
            "overflow": null,
            "overflow_x": null,
            "overflow_y": null,
            "padding": null,
            "right": null,
            "top": null,
            "visibility": null,
            "width": null
          }
        },
        "7bd2935b101f45a781ca8ee428623f3f": {
          "model_module": "@jupyter-widgets/controls",
          "model_name": "DescriptionStyleModel",
          "model_module_version": "1.5.0",
          "state": {
            "_model_module": "@jupyter-widgets/controls",
            "_model_module_version": "1.5.0",
            "_model_name": "DescriptionStyleModel",
            "_view_count": null,
            "_view_module": "@jupyter-widgets/base",
            "_view_module_version": "1.2.0",
            "_view_name": "StyleView",
            "description_width": ""
          }
        },
        "818b14ea5f6848448f8f15b2c9319111": {
          "model_module": "@jupyter-widgets/controls",
          "model_name": "HBoxModel",
          "model_module_version": "1.5.0",
          "state": {
            "_dom_classes": [],
            "_model_module": "@jupyter-widgets/controls",
            "_model_module_version": "1.5.0",
            "_model_name": "HBoxModel",
            "_view_count": null,
            "_view_module": "@jupyter-widgets/controls",
            "_view_module_version": "1.5.0",
            "_view_name": "HBoxView",
            "box_style": "",
            "children": [
              "IPY_MODEL_05e9b796f50548849057de65bbbee7a1",
              "IPY_MODEL_c56e90c015f24e6a9081d44975fa103f",
              "IPY_MODEL_71f0fbd958cd4c5fbe2e01bbb6d5d5d5"
            ],
            "layout": "IPY_MODEL_c6cb56df3a2d4cc3adb2e856740f5d40"
          }
        },
        "05e9b796f50548849057de65bbbee7a1": {
          "model_module": "@jupyter-widgets/controls",
          "model_name": "HTMLModel",
          "model_module_version": "1.5.0",
          "state": {
            "_dom_classes": [],
            "_model_module": "@jupyter-widgets/controls",
            "_model_module_version": "1.5.0",
            "_model_name": "HTMLModel",
            "_view_count": null,
            "_view_module": "@jupyter-widgets/controls",
            "_view_module_version": "1.5.0",
            "_view_name": "HTMLView",
            "description": "",
            "description_tooltip": null,
            "layout": "IPY_MODEL_103fbf3a7b4f4c8cb8af693141d0f126",
            "placeholder": "​",
            "style": "IPY_MODEL_c0da0c072822443787d24119b5837f1a",
            "value": "100%"
          }
        },
        "c56e90c015f24e6a9081d44975fa103f": {
          "model_module": "@jupyter-widgets/controls",
          "model_name": "FloatProgressModel",
          "model_module_version": "1.5.0",
          "state": {
            "_dom_classes": [],
            "_model_module": "@jupyter-widgets/controls",
            "_model_module_version": "1.5.0",
            "_model_name": "FloatProgressModel",
            "_view_count": null,
            "_view_module": "@jupyter-widgets/controls",
            "_view_module_version": "1.5.0",
            "_view_name": "ProgressView",
            "bar_style": "success",
            "description": "",
            "description_tooltip": null,
            "layout": "IPY_MODEL_7e32d1ef5a134f50ac11a0b70e6da065",
            "max": 28881,
            "min": 0,
            "orientation": "horizontal",
            "style": "IPY_MODEL_871ad1f0d738454fbad6848598212558",
            "value": 28881
          }
        },
        "71f0fbd958cd4c5fbe2e01bbb6d5d5d5": {
          "model_module": "@jupyter-widgets/controls",
          "model_name": "HTMLModel",
          "model_module_version": "1.5.0",
          "state": {
            "_dom_classes": [],
            "_model_module": "@jupyter-widgets/controls",
            "_model_module_version": "1.5.0",
            "_model_name": "HTMLModel",
            "_view_count": null,
            "_view_module": "@jupyter-widgets/controls",
            "_view_module_version": "1.5.0",
            "_view_name": "HTMLView",
            "description": "",
            "description_tooltip": null,
            "layout": "IPY_MODEL_4ef22d297c7947d2b55d8f1c3c0bd5cd",
            "placeholder": "​",
            "style": "IPY_MODEL_8c0c65cb204249f6a16851be7e1b6994",
            "value": " 28881/28881 [00:00&lt;00:00, 1400088.93it/s]"
          }
        },
        "c6cb56df3a2d4cc3adb2e856740f5d40": {
          "model_module": "@jupyter-widgets/base",
          "model_name": "LayoutModel",
          "model_module_version": "1.2.0",
          "state": {
            "_model_module": "@jupyter-widgets/base",
            "_model_module_version": "1.2.0",
            "_model_name": "LayoutModel",
            "_view_count": null,
            "_view_module": "@jupyter-widgets/base",
            "_view_module_version": "1.2.0",
            "_view_name": "LayoutView",
            "align_content": null,
            "align_items": null,
            "align_self": null,
            "border": null,
            "bottom": null,
            "display": null,
            "flex": null,
            "flex_flow": null,
            "grid_area": null,
            "grid_auto_columns": null,
            "grid_auto_flow": null,
            "grid_auto_rows": null,
            "grid_column": null,
            "grid_gap": null,
            "grid_row": null,
            "grid_template_areas": null,
            "grid_template_columns": null,
            "grid_template_rows": null,
            "height": null,
            "justify_content": null,
            "justify_items": null,
            "left": null,
            "margin": null,
            "max_height": null,
            "max_width": null,
            "min_height": null,
            "min_width": null,
            "object_fit": null,
            "object_position": null,
            "order": null,
            "overflow": null,
            "overflow_x": null,
            "overflow_y": null,
            "padding": null,
            "right": null,
            "top": null,
            "visibility": null,
            "width": null
          }
        },
        "103fbf3a7b4f4c8cb8af693141d0f126": {
          "model_module": "@jupyter-widgets/base",
          "model_name": "LayoutModel",
          "model_module_version": "1.2.0",
          "state": {
            "_model_module": "@jupyter-widgets/base",
            "_model_module_version": "1.2.0",
            "_model_name": "LayoutModel",
            "_view_count": null,
            "_view_module": "@jupyter-widgets/base",
            "_view_module_version": "1.2.0",
            "_view_name": "LayoutView",
            "align_content": null,
            "align_items": null,
            "align_self": null,
            "border": null,
            "bottom": null,
            "display": null,
            "flex": null,
            "flex_flow": null,
            "grid_area": null,
            "grid_auto_columns": null,
            "grid_auto_flow": null,
            "grid_auto_rows": null,
            "grid_column": null,
            "grid_gap": null,
            "grid_row": null,
            "grid_template_areas": null,
            "grid_template_columns": null,
            "grid_template_rows": null,
            "height": null,
            "justify_content": null,
            "justify_items": null,
            "left": null,
            "margin": null,
            "max_height": null,
            "max_width": null,
            "min_height": null,
            "min_width": null,
            "object_fit": null,
            "object_position": null,
            "order": null,
            "overflow": null,
            "overflow_x": null,
            "overflow_y": null,
            "padding": null,
            "right": null,
            "top": null,
            "visibility": null,
            "width": null
          }
        },
        "c0da0c072822443787d24119b5837f1a": {
          "model_module": "@jupyter-widgets/controls",
          "model_name": "DescriptionStyleModel",
          "model_module_version": "1.5.0",
          "state": {
            "_model_module": "@jupyter-widgets/controls",
            "_model_module_version": "1.5.0",
            "_model_name": "DescriptionStyleModel",
            "_view_count": null,
            "_view_module": "@jupyter-widgets/base",
            "_view_module_version": "1.2.0",
            "_view_name": "StyleView",
            "description_width": ""
          }
        },
        "7e32d1ef5a134f50ac11a0b70e6da065": {
          "model_module": "@jupyter-widgets/base",
          "model_name": "LayoutModel",
          "model_module_version": "1.2.0",
          "state": {
            "_model_module": "@jupyter-widgets/base",
            "_model_module_version": "1.2.0",
            "_model_name": "LayoutModel",
            "_view_count": null,
            "_view_module": "@jupyter-widgets/base",
            "_view_module_version": "1.2.0",
            "_view_name": "LayoutView",
            "align_content": null,
            "align_items": null,
            "align_self": null,
            "border": null,
            "bottom": null,
            "display": null,
            "flex": null,
            "flex_flow": null,
            "grid_area": null,
            "grid_auto_columns": null,
            "grid_auto_flow": null,
            "grid_auto_rows": null,
            "grid_column": null,
            "grid_gap": null,
            "grid_row": null,
            "grid_template_areas": null,
            "grid_template_columns": null,
            "grid_template_rows": null,
            "height": null,
            "justify_content": null,
            "justify_items": null,
            "left": null,
            "margin": null,
            "max_height": null,
            "max_width": null,
            "min_height": null,
            "min_width": null,
            "object_fit": null,
            "object_position": null,
            "order": null,
            "overflow": null,
            "overflow_x": null,
            "overflow_y": null,
            "padding": null,
            "right": null,
            "top": null,
            "visibility": null,
            "width": null
          }
        },
        "871ad1f0d738454fbad6848598212558": {
          "model_module": "@jupyter-widgets/controls",
          "model_name": "ProgressStyleModel",
          "model_module_version": "1.5.0",
          "state": {
            "_model_module": "@jupyter-widgets/controls",
            "_model_module_version": "1.5.0",
            "_model_name": "ProgressStyleModel",
            "_view_count": null,
            "_view_module": "@jupyter-widgets/base",
            "_view_module_version": "1.2.0",
            "_view_name": "StyleView",
            "bar_color": null,
            "description_width": ""
          }
        },
        "4ef22d297c7947d2b55d8f1c3c0bd5cd": {
          "model_module": "@jupyter-widgets/base",
          "model_name": "LayoutModel",
          "model_module_version": "1.2.0",
          "state": {
            "_model_module": "@jupyter-widgets/base",
            "_model_module_version": "1.2.0",
            "_model_name": "LayoutModel",
            "_view_count": null,
            "_view_module": "@jupyter-widgets/base",
            "_view_module_version": "1.2.0",
            "_view_name": "LayoutView",
            "align_content": null,
            "align_items": null,
            "align_self": null,
            "border": null,
            "bottom": null,
            "display": null,
            "flex": null,
            "flex_flow": null,
            "grid_area": null,
            "grid_auto_columns": null,
            "grid_auto_flow": null,
            "grid_auto_rows": null,
            "grid_column": null,
            "grid_gap": null,
            "grid_row": null,
            "grid_template_areas": null,
            "grid_template_columns": null,
            "grid_template_rows": null,
            "height": null,
            "justify_content": null,
            "justify_items": null,
            "left": null,
            "margin": null,
            "max_height": null,
            "max_width": null,
            "min_height": null,
            "min_width": null,
            "object_fit": null,
            "object_position": null,
            "order": null,
            "overflow": null,
            "overflow_x": null,
            "overflow_y": null,
            "padding": null,
            "right": null,
            "top": null,
            "visibility": null,
            "width": null
          }
        },
        "8c0c65cb204249f6a16851be7e1b6994": {
          "model_module": "@jupyter-widgets/controls",
          "model_name": "DescriptionStyleModel",
          "model_module_version": "1.5.0",
          "state": {
            "_model_module": "@jupyter-widgets/controls",
            "_model_module_version": "1.5.0",
            "_model_name": "DescriptionStyleModel",
            "_view_count": null,
            "_view_module": "@jupyter-widgets/base",
            "_view_module_version": "1.2.0",
            "_view_name": "StyleView",
            "description_width": ""
          }
        },
        "764c96d9235f4fc7a874091cb5a43756": {
          "model_module": "@jupyter-widgets/controls",
          "model_name": "HBoxModel",
          "model_module_version": "1.5.0",
          "state": {
            "_dom_classes": [],
            "_model_module": "@jupyter-widgets/controls",
            "_model_module_version": "1.5.0",
            "_model_name": "HBoxModel",
            "_view_count": null,
            "_view_module": "@jupyter-widgets/controls",
            "_view_module_version": "1.5.0",
            "_view_name": "HBoxView",
            "box_style": "",
            "children": [
              "IPY_MODEL_67a647a40af047f2911f6db577b6e6e6",
              "IPY_MODEL_85cab89eb4514b9abf22c8fdb653a020",
              "IPY_MODEL_15557691345143ea912c5cf7e6dfd4d0"
            ],
            "layout": "IPY_MODEL_169f2021239940f5936989d92b8d015e"
          }
        },
        "67a647a40af047f2911f6db577b6e6e6": {
          "model_module": "@jupyter-widgets/controls",
          "model_name": "HTMLModel",
          "model_module_version": "1.5.0",
          "state": {
            "_dom_classes": [],
            "_model_module": "@jupyter-widgets/controls",
            "_model_module_version": "1.5.0",
            "_model_name": "HTMLModel",
            "_view_count": null,
            "_view_module": "@jupyter-widgets/controls",
            "_view_module_version": "1.5.0",
            "_view_name": "HTMLView",
            "description": "",
            "description_tooltip": null,
            "layout": "IPY_MODEL_3bdccd84284343f78914cee9f1b6f9da",
            "placeholder": "​",
            "style": "IPY_MODEL_e18c6382216748c5a68c14fe15ef3e34",
            "value": "100%"
          }
        },
        "85cab89eb4514b9abf22c8fdb653a020": {
          "model_module": "@jupyter-widgets/controls",
          "model_name": "FloatProgressModel",
          "model_module_version": "1.5.0",
          "state": {
            "_dom_classes": [],
            "_model_module": "@jupyter-widgets/controls",
            "_model_module_version": "1.5.0",
            "_model_name": "FloatProgressModel",
            "_view_count": null,
            "_view_module": "@jupyter-widgets/controls",
            "_view_module_version": "1.5.0",
            "_view_name": "ProgressView",
            "bar_style": "success",
            "description": "",
            "description_tooltip": null,
            "layout": "IPY_MODEL_94ac4bd16cd34ec7b3f7eb0093452194",
            "max": 1648877,
            "min": 0,
            "orientation": "horizontal",
            "style": "IPY_MODEL_9d034ab01bd84a6396def28f23addcd3",
            "value": 1648877
          }
        },
        "15557691345143ea912c5cf7e6dfd4d0": {
          "model_module": "@jupyter-widgets/controls",
          "model_name": "HTMLModel",
          "model_module_version": "1.5.0",
          "state": {
            "_dom_classes": [],
            "_model_module": "@jupyter-widgets/controls",
            "_model_module_version": "1.5.0",
            "_model_name": "HTMLModel",
            "_view_count": null,
            "_view_module": "@jupyter-widgets/controls",
            "_view_module_version": "1.5.0",
            "_view_name": "HTMLView",
            "description": "",
            "description_tooltip": null,
            "layout": "IPY_MODEL_eef02099d085444790b2b42cee04457f",
            "placeholder": "​",
            "style": "IPY_MODEL_902a788526dc45a4b286edb43475e46e",
            "value": " 1648877/1648877 [00:00&lt;00:00, 20538571.00it/s]"
          }
        },
        "169f2021239940f5936989d92b8d015e": {
          "model_module": "@jupyter-widgets/base",
          "model_name": "LayoutModel",
          "model_module_version": "1.2.0",
          "state": {
            "_model_module": "@jupyter-widgets/base",
            "_model_module_version": "1.2.0",
            "_model_name": "LayoutModel",
            "_view_count": null,
            "_view_module": "@jupyter-widgets/base",
            "_view_module_version": "1.2.0",
            "_view_name": "LayoutView",
            "align_content": null,
            "align_items": null,
            "align_self": null,
            "border": null,
            "bottom": null,
            "display": null,
            "flex": null,
            "flex_flow": null,
            "grid_area": null,
            "grid_auto_columns": null,
            "grid_auto_flow": null,
            "grid_auto_rows": null,
            "grid_column": null,
            "grid_gap": null,
            "grid_row": null,
            "grid_template_areas": null,
            "grid_template_columns": null,
            "grid_template_rows": null,
            "height": null,
            "justify_content": null,
            "justify_items": null,
            "left": null,
            "margin": null,
            "max_height": null,
            "max_width": null,
            "min_height": null,
            "min_width": null,
            "object_fit": null,
            "object_position": null,
            "order": null,
            "overflow": null,
            "overflow_x": null,
            "overflow_y": null,
            "padding": null,
            "right": null,
            "top": null,
            "visibility": null,
            "width": null
          }
        },
        "3bdccd84284343f78914cee9f1b6f9da": {
          "model_module": "@jupyter-widgets/base",
          "model_name": "LayoutModel",
          "model_module_version": "1.2.0",
          "state": {
            "_model_module": "@jupyter-widgets/base",
            "_model_module_version": "1.2.0",
            "_model_name": "LayoutModel",
            "_view_count": null,
            "_view_module": "@jupyter-widgets/base",
            "_view_module_version": "1.2.0",
            "_view_name": "LayoutView",
            "align_content": null,
            "align_items": null,
            "align_self": null,
            "border": null,
            "bottom": null,
            "display": null,
            "flex": null,
            "flex_flow": null,
            "grid_area": null,
            "grid_auto_columns": null,
            "grid_auto_flow": null,
            "grid_auto_rows": null,
            "grid_column": null,
            "grid_gap": null,
            "grid_row": null,
            "grid_template_areas": null,
            "grid_template_columns": null,
            "grid_template_rows": null,
            "height": null,
            "justify_content": null,
            "justify_items": null,
            "left": null,
            "margin": null,
            "max_height": null,
            "max_width": null,
            "min_height": null,
            "min_width": null,
            "object_fit": null,
            "object_position": null,
            "order": null,
            "overflow": null,
            "overflow_x": null,
            "overflow_y": null,
            "padding": null,
            "right": null,
            "top": null,
            "visibility": null,
            "width": null
          }
        },
        "e18c6382216748c5a68c14fe15ef3e34": {
          "model_module": "@jupyter-widgets/controls",
          "model_name": "DescriptionStyleModel",
          "model_module_version": "1.5.0",
          "state": {
            "_model_module": "@jupyter-widgets/controls",
            "_model_module_version": "1.5.0",
            "_model_name": "DescriptionStyleModel",
            "_view_count": null,
            "_view_module": "@jupyter-widgets/base",
            "_view_module_version": "1.2.0",
            "_view_name": "StyleView",
            "description_width": ""
          }
        },
        "94ac4bd16cd34ec7b3f7eb0093452194": {
          "model_module": "@jupyter-widgets/base",
          "model_name": "LayoutModel",
          "model_module_version": "1.2.0",
          "state": {
            "_model_module": "@jupyter-widgets/base",
            "_model_module_version": "1.2.0",
            "_model_name": "LayoutModel",
            "_view_count": null,
            "_view_module": "@jupyter-widgets/base",
            "_view_module_version": "1.2.0",
            "_view_name": "LayoutView",
            "align_content": null,
            "align_items": null,
            "align_self": null,
            "border": null,
            "bottom": null,
            "display": null,
            "flex": null,
            "flex_flow": null,
            "grid_area": null,
            "grid_auto_columns": null,
            "grid_auto_flow": null,
            "grid_auto_rows": null,
            "grid_column": null,
            "grid_gap": null,
            "grid_row": null,
            "grid_template_areas": null,
            "grid_template_columns": null,
            "grid_template_rows": null,
            "height": null,
            "justify_content": null,
            "justify_items": null,
            "left": null,
            "margin": null,
            "max_height": null,
            "max_width": null,
            "min_height": null,
            "min_width": null,
            "object_fit": null,
            "object_position": null,
            "order": null,
            "overflow": null,
            "overflow_x": null,
            "overflow_y": null,
            "padding": null,
            "right": null,
            "top": null,
            "visibility": null,
            "width": null
          }
        },
        "9d034ab01bd84a6396def28f23addcd3": {
          "model_module": "@jupyter-widgets/controls",
          "model_name": "ProgressStyleModel",
          "model_module_version": "1.5.0",
          "state": {
            "_model_module": "@jupyter-widgets/controls",
            "_model_module_version": "1.5.0",
            "_model_name": "ProgressStyleModel",
            "_view_count": null,
            "_view_module": "@jupyter-widgets/base",
            "_view_module_version": "1.2.0",
            "_view_name": "StyleView",
            "bar_color": null,
            "description_width": ""
          }
        },
        "eef02099d085444790b2b42cee04457f": {
          "model_module": "@jupyter-widgets/base",
          "model_name": "LayoutModel",
          "model_module_version": "1.2.0",
          "state": {
            "_model_module": "@jupyter-widgets/base",
            "_model_module_version": "1.2.0",
            "_model_name": "LayoutModel",
            "_view_count": null,
            "_view_module": "@jupyter-widgets/base",
            "_view_module_version": "1.2.0",
            "_view_name": "LayoutView",
            "align_content": null,
            "align_items": null,
            "align_self": null,
            "border": null,
            "bottom": null,
            "display": null,
            "flex": null,
            "flex_flow": null,
            "grid_area": null,
            "grid_auto_columns": null,
            "grid_auto_flow": null,
            "grid_auto_rows": null,
            "grid_column": null,
            "grid_gap": null,
            "grid_row": null,
            "grid_template_areas": null,
            "grid_template_columns": null,
            "grid_template_rows": null,
            "height": null,
            "justify_content": null,
            "justify_items": null,
            "left": null,
            "margin": null,
            "max_height": null,
            "max_width": null,
            "min_height": null,
            "min_width": null,
            "object_fit": null,
            "object_position": null,
            "order": null,
            "overflow": null,
            "overflow_x": null,
            "overflow_y": null,
            "padding": null,
            "right": null,
            "top": null,
            "visibility": null,
            "width": null
          }
        },
        "902a788526dc45a4b286edb43475e46e": {
          "model_module": "@jupyter-widgets/controls",
          "model_name": "DescriptionStyleModel",
          "model_module_version": "1.5.0",
          "state": {
            "_model_module": "@jupyter-widgets/controls",
            "_model_module_version": "1.5.0",
            "_model_name": "DescriptionStyleModel",
            "_view_count": null,
            "_view_module": "@jupyter-widgets/base",
            "_view_module_version": "1.2.0",
            "_view_name": "StyleView",
            "description_width": ""
          }
        },
        "d73d101c974b429287e0fc3a8ba45ec7": {
          "model_module": "@jupyter-widgets/controls",
          "model_name": "HBoxModel",
          "model_module_version": "1.5.0",
          "state": {
            "_dom_classes": [],
            "_model_module": "@jupyter-widgets/controls",
            "_model_module_version": "1.5.0",
            "_model_name": "HBoxModel",
            "_view_count": null,
            "_view_module": "@jupyter-widgets/controls",
            "_view_module_version": "1.5.0",
            "_view_name": "HBoxView",
            "box_style": "",
            "children": [
              "IPY_MODEL_2034c7c97f974857975dfb10de2873ee",
              "IPY_MODEL_83a002b580b5482781d2b77730ee6258",
              "IPY_MODEL_ea0ea9e8c18c486d9dca25bf605fd1e1"
            ],
            "layout": "IPY_MODEL_72da9106d9714ae1b7d55830c14aba69"
          }
        },
        "2034c7c97f974857975dfb10de2873ee": {
          "model_module": "@jupyter-widgets/controls",
          "model_name": "HTMLModel",
          "model_module_version": "1.5.0",
          "state": {
            "_dom_classes": [],
            "_model_module": "@jupyter-widgets/controls",
            "_model_module_version": "1.5.0",
            "_model_name": "HTMLModel",
            "_view_count": null,
            "_view_module": "@jupyter-widgets/controls",
            "_view_module_version": "1.5.0",
            "_view_name": "HTMLView",
            "description": "",
            "description_tooltip": null,
            "layout": "IPY_MODEL_03e3dca7a99a40de919280376c422ff3",
            "placeholder": "​",
            "style": "IPY_MODEL_61c92e95d90949b192bcc7ba43b7a8ae",
            "value": "100%"
          }
        },
        "83a002b580b5482781d2b77730ee6258": {
          "model_module": "@jupyter-widgets/controls",
          "model_name": "FloatProgressModel",
          "model_module_version": "1.5.0",
          "state": {
            "_dom_classes": [],
            "_model_module": "@jupyter-widgets/controls",
            "_model_module_version": "1.5.0",
            "_model_name": "FloatProgressModel",
            "_view_count": null,
            "_view_module": "@jupyter-widgets/controls",
            "_view_module_version": "1.5.0",
            "_view_name": "ProgressView",
            "bar_style": "success",
            "description": "",
            "description_tooltip": null,
            "layout": "IPY_MODEL_10ccbaf55670421dbf17829a254ece54",
            "max": 4542,
            "min": 0,
            "orientation": "horizontal",
            "style": "IPY_MODEL_1c23bd540d284eec9b0f3005f9d83b76",
            "value": 4542
          }
        },
        "ea0ea9e8c18c486d9dca25bf605fd1e1": {
          "model_module": "@jupyter-widgets/controls",
          "model_name": "HTMLModel",
          "model_module_version": "1.5.0",
          "state": {
            "_dom_classes": [],
            "_model_module": "@jupyter-widgets/controls",
            "_model_module_version": "1.5.0",
            "_model_name": "HTMLModel",
            "_view_count": null,
            "_view_module": "@jupyter-widgets/controls",
            "_view_module_version": "1.5.0",
            "_view_name": "HTMLView",
            "description": "",
            "description_tooltip": null,
            "layout": "IPY_MODEL_7f857a0301f840b1b3394d57c8c8e95e",
            "placeholder": "​",
            "style": "IPY_MODEL_180d6982a86d48279cf2334ff794a30e",
            "value": " 4542/4542 [00:00&lt;00:00, 315119.16it/s]"
          }
        },
        "72da9106d9714ae1b7d55830c14aba69": {
          "model_module": "@jupyter-widgets/base",
          "model_name": "LayoutModel",
          "model_module_version": "1.2.0",
          "state": {
            "_model_module": "@jupyter-widgets/base",
            "_model_module_version": "1.2.0",
            "_model_name": "LayoutModel",
            "_view_count": null,
            "_view_module": "@jupyter-widgets/base",
            "_view_module_version": "1.2.0",
            "_view_name": "LayoutView",
            "align_content": null,
            "align_items": null,
            "align_self": null,
            "border": null,
            "bottom": null,
            "display": null,
            "flex": null,
            "flex_flow": null,
            "grid_area": null,
            "grid_auto_columns": null,
            "grid_auto_flow": null,
            "grid_auto_rows": null,
            "grid_column": null,
            "grid_gap": null,
            "grid_row": null,
            "grid_template_areas": null,
            "grid_template_columns": null,
            "grid_template_rows": null,
            "height": null,
            "justify_content": null,
            "justify_items": null,
            "left": null,
            "margin": null,
            "max_height": null,
            "max_width": null,
            "min_height": null,
            "min_width": null,
            "object_fit": null,
            "object_position": null,
            "order": null,
            "overflow": null,
            "overflow_x": null,
            "overflow_y": null,
            "padding": null,
            "right": null,
            "top": null,
            "visibility": null,
            "width": null
          }
        },
        "03e3dca7a99a40de919280376c422ff3": {
          "model_module": "@jupyter-widgets/base",
          "model_name": "LayoutModel",
          "model_module_version": "1.2.0",
          "state": {
            "_model_module": "@jupyter-widgets/base",
            "_model_module_version": "1.2.0",
            "_model_name": "LayoutModel",
            "_view_count": null,
            "_view_module": "@jupyter-widgets/base",
            "_view_module_version": "1.2.0",
            "_view_name": "LayoutView",
            "align_content": null,
            "align_items": null,
            "align_self": null,
            "border": null,
            "bottom": null,
            "display": null,
            "flex": null,
            "flex_flow": null,
            "grid_area": null,
            "grid_auto_columns": null,
            "grid_auto_flow": null,
            "grid_auto_rows": null,
            "grid_column": null,
            "grid_gap": null,
            "grid_row": null,
            "grid_template_areas": null,
            "grid_template_columns": null,
            "grid_template_rows": null,
            "height": null,
            "justify_content": null,
            "justify_items": null,
            "left": null,
            "margin": null,
            "max_height": null,
            "max_width": null,
            "min_height": null,
            "min_width": null,
            "object_fit": null,
            "object_position": null,
            "order": null,
            "overflow": null,
            "overflow_x": null,
            "overflow_y": null,
            "padding": null,
            "right": null,
            "top": null,
            "visibility": null,
            "width": null
          }
        },
        "61c92e95d90949b192bcc7ba43b7a8ae": {
          "model_module": "@jupyter-widgets/controls",
          "model_name": "DescriptionStyleModel",
          "model_module_version": "1.5.0",
          "state": {
            "_model_module": "@jupyter-widgets/controls",
            "_model_module_version": "1.5.0",
            "_model_name": "DescriptionStyleModel",
            "_view_count": null,
            "_view_module": "@jupyter-widgets/base",
            "_view_module_version": "1.2.0",
            "_view_name": "StyleView",
            "description_width": ""
          }
        },
        "10ccbaf55670421dbf17829a254ece54": {
          "model_module": "@jupyter-widgets/base",
          "model_name": "LayoutModel",
          "model_module_version": "1.2.0",
          "state": {
            "_model_module": "@jupyter-widgets/base",
            "_model_module_version": "1.2.0",
            "_model_name": "LayoutModel",
            "_view_count": null,
            "_view_module": "@jupyter-widgets/base",
            "_view_module_version": "1.2.0",
            "_view_name": "LayoutView",
            "align_content": null,
            "align_items": null,
            "align_self": null,
            "border": null,
            "bottom": null,
            "display": null,
            "flex": null,
            "flex_flow": null,
            "grid_area": null,
            "grid_auto_columns": null,
            "grid_auto_flow": null,
            "grid_auto_rows": null,
            "grid_column": null,
            "grid_gap": null,
            "grid_row": null,
            "grid_template_areas": null,
            "grid_template_columns": null,
            "grid_template_rows": null,
            "height": null,
            "justify_content": null,
            "justify_items": null,
            "left": null,
            "margin": null,
            "max_height": null,
            "max_width": null,
            "min_height": null,
            "min_width": null,
            "object_fit": null,
            "object_position": null,
            "order": null,
            "overflow": null,
            "overflow_x": null,
            "overflow_y": null,
            "padding": null,
            "right": null,
            "top": null,
            "visibility": null,
            "width": null
          }
        },
        "1c23bd540d284eec9b0f3005f9d83b76": {
          "model_module": "@jupyter-widgets/controls",
          "model_name": "ProgressStyleModel",
          "model_module_version": "1.5.0",
          "state": {
            "_model_module": "@jupyter-widgets/controls",
            "_model_module_version": "1.5.0",
            "_model_name": "ProgressStyleModel",
            "_view_count": null,
            "_view_module": "@jupyter-widgets/base",
            "_view_module_version": "1.2.0",
            "_view_name": "StyleView",
            "bar_color": null,
            "description_width": ""
          }
        },
        "7f857a0301f840b1b3394d57c8c8e95e": {
          "model_module": "@jupyter-widgets/base",
          "model_name": "LayoutModel",
          "model_module_version": "1.2.0",
          "state": {
            "_model_module": "@jupyter-widgets/base",
            "_model_module_version": "1.2.0",
            "_model_name": "LayoutModel",
            "_view_count": null,
            "_view_module": "@jupyter-widgets/base",
            "_view_module_version": "1.2.0",
            "_view_name": "LayoutView",
            "align_content": null,
            "align_items": null,
            "align_self": null,
            "border": null,
            "bottom": null,
            "display": null,
            "flex": null,
            "flex_flow": null,
            "grid_area": null,
            "grid_auto_columns": null,
            "grid_auto_flow": null,
            "grid_auto_rows": null,
            "grid_column": null,
            "grid_gap": null,
            "grid_row": null,
            "grid_template_areas": null,
            "grid_template_columns": null,
            "grid_template_rows": null,
            "height": null,
            "justify_content": null,
            "justify_items": null,
            "left": null,
            "margin": null,
            "max_height": null,
            "max_width": null,
            "min_height": null,
            "min_width": null,
            "object_fit": null,
            "object_position": null,
            "order": null,
            "overflow": null,
            "overflow_x": null,
            "overflow_y": null,
            "padding": null,
            "right": null,
            "top": null,
            "visibility": null,
            "width": null
          }
        },
        "180d6982a86d48279cf2334ff794a30e": {
          "model_module": "@jupyter-widgets/controls",
          "model_name": "DescriptionStyleModel",
          "model_module_version": "1.5.0",
          "state": {
            "_model_module": "@jupyter-widgets/controls",
            "_model_module_version": "1.5.0",
            "_model_name": "DescriptionStyleModel",
            "_view_count": null,
            "_view_module": "@jupyter-widgets/base",
            "_view_module_version": "1.2.0",
            "_view_name": "StyleView",
            "description_width": ""
          }
        },
        "c4385645bf1e41afb1a924db8dcffd49": {
          "model_module": "@jupyter-widgets/controls",
          "model_name": "HBoxModel",
          "model_module_version": "1.5.0",
          "state": {
            "_dom_classes": [],
            "_model_module": "@jupyter-widgets/controls",
            "_model_module_version": "1.5.0",
            "_model_name": "HBoxModel",
            "_view_count": null,
            "_view_module": "@jupyter-widgets/controls",
            "_view_module_version": "1.5.0",
            "_view_name": "HBoxView",
            "box_style": "",
            "children": [
              "IPY_MODEL_29f6fe611f114cc48d359ac0fe73cfc9",
              "IPY_MODEL_557e5f6fa5b94dc1b798bf1a023cb513",
              "IPY_MODEL_d7145f18299a418397bcb7aa64582433"
            ],
            "layout": "IPY_MODEL_42824e394a324ca5974f7d71039e263b"
          }
        },
        "29f6fe611f114cc48d359ac0fe73cfc9": {
          "model_module": "@jupyter-widgets/controls",
          "model_name": "HTMLModel",
          "model_module_version": "1.5.0",
          "state": {
            "_dom_classes": [],
            "_model_module": "@jupyter-widgets/controls",
            "_model_module_version": "1.5.0",
            "_model_name": "HTMLModel",
            "_view_count": null,
            "_view_module": "@jupyter-widgets/controls",
            "_view_module_version": "1.5.0",
            "_view_name": "HTMLView",
            "description": "",
            "description_tooltip": null,
            "layout": "IPY_MODEL_bbaace21433e4179b084f9bea436c9f0",
            "placeholder": "​",
            "style": "IPY_MODEL_96e7dd684b9e45cdbdd0af2a5613b7ff",
            "value": "100%"
          }
        },
        "557e5f6fa5b94dc1b798bf1a023cb513": {
          "model_module": "@jupyter-widgets/controls",
          "model_name": "FloatProgressModel",
          "model_module_version": "1.5.0",
          "state": {
            "_dom_classes": [],
            "_model_module": "@jupyter-widgets/controls",
            "_model_module_version": "1.5.0",
            "_model_name": "FloatProgressModel",
            "_view_count": null,
            "_view_module": "@jupyter-widgets/controls",
            "_view_module_version": "1.5.0",
            "_view_name": "ProgressView",
            "bar_style": "success",
            "description": "",
            "description_tooltip": null,
            "layout": "IPY_MODEL_3d6ecf98c8bf454fbb0089eb07f632b6",
            "max": 26421880,
            "min": 0,
            "orientation": "horizontal",
            "style": "IPY_MODEL_29135403aac24240bb0053835f7b9d3f",
            "value": 26421880
          }
        },
        "d7145f18299a418397bcb7aa64582433": {
          "model_module": "@jupyter-widgets/controls",
          "model_name": "HTMLModel",
          "model_module_version": "1.5.0",
          "state": {
            "_dom_classes": [],
            "_model_module": "@jupyter-widgets/controls",
            "_model_module_version": "1.5.0",
            "_model_name": "HTMLModel",
            "_view_count": null,
            "_view_module": "@jupyter-widgets/controls",
            "_view_module_version": "1.5.0",
            "_view_name": "HTMLView",
            "description": "",
            "description_tooltip": null,
            "layout": "IPY_MODEL_42c6892e5a3f4ea8944655306b37b776",
            "placeholder": "​",
            "style": "IPY_MODEL_2b9b5e5bdf6c4ffe8bbeb75dee251bdb",
            "value": " 26421880/26421880 [00:01&lt;00:00, 25160071.34it/s]"
          }
        },
        "42824e394a324ca5974f7d71039e263b": {
          "model_module": "@jupyter-widgets/base",
          "model_name": "LayoutModel",
          "model_module_version": "1.2.0",
          "state": {
            "_model_module": "@jupyter-widgets/base",
            "_model_module_version": "1.2.0",
            "_model_name": "LayoutModel",
            "_view_count": null,
            "_view_module": "@jupyter-widgets/base",
            "_view_module_version": "1.2.0",
            "_view_name": "LayoutView",
            "align_content": null,
            "align_items": null,
            "align_self": null,
            "border": null,
            "bottom": null,
            "display": null,
            "flex": null,
            "flex_flow": null,
            "grid_area": null,
            "grid_auto_columns": null,
            "grid_auto_flow": null,
            "grid_auto_rows": null,
            "grid_column": null,
            "grid_gap": null,
            "grid_row": null,
            "grid_template_areas": null,
            "grid_template_columns": null,
            "grid_template_rows": null,
            "height": null,
            "justify_content": null,
            "justify_items": null,
            "left": null,
            "margin": null,
            "max_height": null,
            "max_width": null,
            "min_height": null,
            "min_width": null,
            "object_fit": null,
            "object_position": null,
            "order": null,
            "overflow": null,
            "overflow_x": null,
            "overflow_y": null,
            "padding": null,
            "right": null,
            "top": null,
            "visibility": null,
            "width": null
          }
        },
        "bbaace21433e4179b084f9bea436c9f0": {
          "model_module": "@jupyter-widgets/base",
          "model_name": "LayoutModel",
          "model_module_version": "1.2.0",
          "state": {
            "_model_module": "@jupyter-widgets/base",
            "_model_module_version": "1.2.0",
            "_model_name": "LayoutModel",
            "_view_count": null,
            "_view_module": "@jupyter-widgets/base",
            "_view_module_version": "1.2.0",
            "_view_name": "LayoutView",
            "align_content": null,
            "align_items": null,
            "align_self": null,
            "border": null,
            "bottom": null,
            "display": null,
            "flex": null,
            "flex_flow": null,
            "grid_area": null,
            "grid_auto_columns": null,
            "grid_auto_flow": null,
            "grid_auto_rows": null,
            "grid_column": null,
            "grid_gap": null,
            "grid_row": null,
            "grid_template_areas": null,
            "grid_template_columns": null,
            "grid_template_rows": null,
            "height": null,
            "justify_content": null,
            "justify_items": null,
            "left": null,
            "margin": null,
            "max_height": null,
            "max_width": null,
            "min_height": null,
            "min_width": null,
            "object_fit": null,
            "object_position": null,
            "order": null,
            "overflow": null,
            "overflow_x": null,
            "overflow_y": null,
            "padding": null,
            "right": null,
            "top": null,
            "visibility": null,
            "width": null
          }
        },
        "96e7dd684b9e45cdbdd0af2a5613b7ff": {
          "model_module": "@jupyter-widgets/controls",
          "model_name": "DescriptionStyleModel",
          "model_module_version": "1.5.0",
          "state": {
            "_model_module": "@jupyter-widgets/controls",
            "_model_module_version": "1.5.0",
            "_model_name": "DescriptionStyleModel",
            "_view_count": null,
            "_view_module": "@jupyter-widgets/base",
            "_view_module_version": "1.2.0",
            "_view_name": "StyleView",
            "description_width": ""
          }
        },
        "3d6ecf98c8bf454fbb0089eb07f632b6": {
          "model_module": "@jupyter-widgets/base",
          "model_name": "LayoutModel",
          "model_module_version": "1.2.0",
          "state": {
            "_model_module": "@jupyter-widgets/base",
            "_model_module_version": "1.2.0",
            "_model_name": "LayoutModel",
            "_view_count": null,
            "_view_module": "@jupyter-widgets/base",
            "_view_module_version": "1.2.0",
            "_view_name": "LayoutView",
            "align_content": null,
            "align_items": null,
            "align_self": null,
            "border": null,
            "bottom": null,
            "display": null,
            "flex": null,
            "flex_flow": null,
            "grid_area": null,
            "grid_auto_columns": null,
            "grid_auto_flow": null,
            "grid_auto_rows": null,
            "grid_column": null,
            "grid_gap": null,
            "grid_row": null,
            "grid_template_areas": null,
            "grid_template_columns": null,
            "grid_template_rows": null,
            "height": null,
            "justify_content": null,
            "justify_items": null,
            "left": null,
            "margin": null,
            "max_height": null,
            "max_width": null,
            "min_height": null,
            "min_width": null,
            "object_fit": null,
            "object_position": null,
            "order": null,
            "overflow": null,
            "overflow_x": null,
            "overflow_y": null,
            "padding": null,
            "right": null,
            "top": null,
            "visibility": null,
            "width": null
          }
        },
        "29135403aac24240bb0053835f7b9d3f": {
          "model_module": "@jupyter-widgets/controls",
          "model_name": "ProgressStyleModel",
          "model_module_version": "1.5.0",
          "state": {
            "_model_module": "@jupyter-widgets/controls",
            "_model_module_version": "1.5.0",
            "_model_name": "ProgressStyleModel",
            "_view_count": null,
            "_view_module": "@jupyter-widgets/base",
            "_view_module_version": "1.2.0",
            "_view_name": "StyleView",
            "bar_color": null,
            "description_width": ""
          }
        },
        "42c6892e5a3f4ea8944655306b37b776": {
          "model_module": "@jupyter-widgets/base",
          "model_name": "LayoutModel",
          "model_module_version": "1.2.0",
          "state": {
            "_model_module": "@jupyter-widgets/base",
            "_model_module_version": "1.2.0",
            "_model_name": "LayoutModel",
            "_view_count": null,
            "_view_module": "@jupyter-widgets/base",
            "_view_module_version": "1.2.0",
            "_view_name": "LayoutView",
            "align_content": null,
            "align_items": null,
            "align_self": null,
            "border": null,
            "bottom": null,
            "display": null,
            "flex": null,
            "flex_flow": null,
            "grid_area": null,
            "grid_auto_columns": null,
            "grid_auto_flow": null,
            "grid_auto_rows": null,
            "grid_column": null,
            "grid_gap": null,
            "grid_row": null,
            "grid_template_areas": null,
            "grid_template_columns": null,
            "grid_template_rows": null,
            "height": null,
            "justify_content": null,
            "justify_items": null,
            "left": null,
            "margin": null,
            "max_height": null,
            "max_width": null,
            "min_height": null,
            "min_width": null,
            "object_fit": null,
            "object_position": null,
            "order": null,
            "overflow": null,
            "overflow_x": null,
            "overflow_y": null,
            "padding": null,
            "right": null,
            "top": null,
            "visibility": null,
            "width": null
          }
        },
        "2b9b5e5bdf6c4ffe8bbeb75dee251bdb": {
          "model_module": "@jupyter-widgets/controls",
          "model_name": "DescriptionStyleModel",
          "model_module_version": "1.5.0",
          "state": {
            "_model_module": "@jupyter-widgets/controls",
            "_model_module_version": "1.5.0",
            "_model_name": "DescriptionStyleModel",
            "_view_count": null,
            "_view_module": "@jupyter-widgets/base",
            "_view_module_version": "1.2.0",
            "_view_name": "StyleView",
            "description_width": ""
          }
        },
        "def3e6fe99164e3980204417ea7f6a19": {
          "model_module": "@jupyter-widgets/controls",
          "model_name": "HBoxModel",
          "model_module_version": "1.5.0",
          "state": {
            "_dom_classes": [],
            "_model_module": "@jupyter-widgets/controls",
            "_model_module_version": "1.5.0",
            "_model_name": "HBoxModel",
            "_view_count": null,
            "_view_module": "@jupyter-widgets/controls",
            "_view_module_version": "1.5.0",
            "_view_name": "HBoxView",
            "box_style": "",
            "children": [
              "IPY_MODEL_3d0b1d2f0e52423a9ab9a0254555bb3f",
              "IPY_MODEL_a4459387b6714594a610afe1b69a1ecf",
              "IPY_MODEL_e13f25681d574c57a41ff8bfcb0270e7"
            ],
            "layout": "IPY_MODEL_54d84cbdbbd34c108c9b6856946170a0"
          }
        },
        "3d0b1d2f0e52423a9ab9a0254555bb3f": {
          "model_module": "@jupyter-widgets/controls",
          "model_name": "HTMLModel",
          "model_module_version": "1.5.0",
          "state": {
            "_dom_classes": [],
            "_model_module": "@jupyter-widgets/controls",
            "_model_module_version": "1.5.0",
            "_model_name": "HTMLModel",
            "_view_count": null,
            "_view_module": "@jupyter-widgets/controls",
            "_view_module_version": "1.5.0",
            "_view_name": "HTMLView",
            "description": "",
            "description_tooltip": null,
            "layout": "IPY_MODEL_3f890f9f0b6248b4b6173d0a4282cbd9",
            "placeholder": "​",
            "style": "IPY_MODEL_9cce0e812184424f8abb51f349377c41",
            "value": "100%"
          }
        },
        "a4459387b6714594a610afe1b69a1ecf": {
          "model_module": "@jupyter-widgets/controls",
          "model_name": "FloatProgressModel",
          "model_module_version": "1.5.0",
          "state": {
            "_dom_classes": [],
            "_model_module": "@jupyter-widgets/controls",
            "_model_module_version": "1.5.0",
            "_model_name": "FloatProgressModel",
            "_view_count": null,
            "_view_module": "@jupyter-widgets/controls",
            "_view_module_version": "1.5.0",
            "_view_name": "ProgressView",
            "bar_style": "success",
            "description": "",
            "description_tooltip": null,
            "layout": "IPY_MODEL_b16b87c446874748adfd85c5fb48ead6",
            "max": 29515,
            "min": 0,
            "orientation": "horizontal",
            "style": "IPY_MODEL_2485f3d6ac1448479e2a6bb9adb46415",
            "value": 29515
          }
        },
        "e13f25681d574c57a41ff8bfcb0270e7": {
          "model_module": "@jupyter-widgets/controls",
          "model_name": "HTMLModel",
          "model_module_version": "1.5.0",
          "state": {
            "_dom_classes": [],
            "_model_module": "@jupyter-widgets/controls",
            "_model_module_version": "1.5.0",
            "_model_name": "HTMLModel",
            "_view_count": null,
            "_view_module": "@jupyter-widgets/controls",
            "_view_module_version": "1.5.0",
            "_view_name": "HTMLView",
            "description": "",
            "description_tooltip": null,
            "layout": "IPY_MODEL_4dee6e0e11604e879f5bc4352cd69e02",
            "placeholder": "​",
            "style": "IPY_MODEL_817a9b8be12d4daab5ccdb38ffbeeef9",
            "value": " 29515/29515 [00:00&lt;00:00, 268285.29it/s]"
          }
        },
        "54d84cbdbbd34c108c9b6856946170a0": {
          "model_module": "@jupyter-widgets/base",
          "model_name": "LayoutModel",
          "model_module_version": "1.2.0",
          "state": {
            "_model_module": "@jupyter-widgets/base",
            "_model_module_version": "1.2.0",
            "_model_name": "LayoutModel",
            "_view_count": null,
            "_view_module": "@jupyter-widgets/base",
            "_view_module_version": "1.2.0",
            "_view_name": "LayoutView",
            "align_content": null,
            "align_items": null,
            "align_self": null,
            "border": null,
            "bottom": null,
            "display": null,
            "flex": null,
            "flex_flow": null,
            "grid_area": null,
            "grid_auto_columns": null,
            "grid_auto_flow": null,
            "grid_auto_rows": null,
            "grid_column": null,
            "grid_gap": null,
            "grid_row": null,
            "grid_template_areas": null,
            "grid_template_columns": null,
            "grid_template_rows": null,
            "height": null,
            "justify_content": null,
            "justify_items": null,
            "left": null,
            "margin": null,
            "max_height": null,
            "max_width": null,
            "min_height": null,
            "min_width": null,
            "object_fit": null,
            "object_position": null,
            "order": null,
            "overflow": null,
            "overflow_x": null,
            "overflow_y": null,
            "padding": null,
            "right": null,
            "top": null,
            "visibility": null,
            "width": null
          }
        },
        "3f890f9f0b6248b4b6173d0a4282cbd9": {
          "model_module": "@jupyter-widgets/base",
          "model_name": "LayoutModel",
          "model_module_version": "1.2.0",
          "state": {
            "_model_module": "@jupyter-widgets/base",
            "_model_module_version": "1.2.0",
            "_model_name": "LayoutModel",
            "_view_count": null,
            "_view_module": "@jupyter-widgets/base",
            "_view_module_version": "1.2.0",
            "_view_name": "LayoutView",
            "align_content": null,
            "align_items": null,
            "align_self": null,
            "border": null,
            "bottom": null,
            "display": null,
            "flex": null,
            "flex_flow": null,
            "grid_area": null,
            "grid_auto_columns": null,
            "grid_auto_flow": null,
            "grid_auto_rows": null,
            "grid_column": null,
            "grid_gap": null,
            "grid_row": null,
            "grid_template_areas": null,
            "grid_template_columns": null,
            "grid_template_rows": null,
            "height": null,
            "justify_content": null,
            "justify_items": null,
            "left": null,
            "margin": null,
            "max_height": null,
            "max_width": null,
            "min_height": null,
            "min_width": null,
            "object_fit": null,
            "object_position": null,
            "order": null,
            "overflow": null,
            "overflow_x": null,
            "overflow_y": null,
            "padding": null,
            "right": null,
            "top": null,
            "visibility": null,
            "width": null
          }
        },
        "9cce0e812184424f8abb51f349377c41": {
          "model_module": "@jupyter-widgets/controls",
          "model_name": "DescriptionStyleModel",
          "model_module_version": "1.5.0",
          "state": {
            "_model_module": "@jupyter-widgets/controls",
            "_model_module_version": "1.5.0",
            "_model_name": "DescriptionStyleModel",
            "_view_count": null,
            "_view_module": "@jupyter-widgets/base",
            "_view_module_version": "1.2.0",
            "_view_name": "StyleView",
            "description_width": ""
          }
        },
        "b16b87c446874748adfd85c5fb48ead6": {
          "model_module": "@jupyter-widgets/base",
          "model_name": "LayoutModel",
          "model_module_version": "1.2.0",
          "state": {
            "_model_module": "@jupyter-widgets/base",
            "_model_module_version": "1.2.0",
            "_model_name": "LayoutModel",
            "_view_count": null,
            "_view_module": "@jupyter-widgets/base",
            "_view_module_version": "1.2.0",
            "_view_name": "LayoutView",
            "align_content": null,
            "align_items": null,
            "align_self": null,
            "border": null,
            "bottom": null,
            "display": null,
            "flex": null,
            "flex_flow": null,
            "grid_area": null,
            "grid_auto_columns": null,
            "grid_auto_flow": null,
            "grid_auto_rows": null,
            "grid_column": null,
            "grid_gap": null,
            "grid_row": null,
            "grid_template_areas": null,
            "grid_template_columns": null,
            "grid_template_rows": null,
            "height": null,
            "justify_content": null,
            "justify_items": null,
            "left": null,
            "margin": null,
            "max_height": null,
            "max_width": null,
            "min_height": null,
            "min_width": null,
            "object_fit": null,
            "object_position": null,
            "order": null,
            "overflow": null,
            "overflow_x": null,
            "overflow_y": null,
            "padding": null,
            "right": null,
            "top": null,
            "visibility": null,
            "width": null
          }
        },
        "2485f3d6ac1448479e2a6bb9adb46415": {
          "model_module": "@jupyter-widgets/controls",
          "model_name": "ProgressStyleModel",
          "model_module_version": "1.5.0",
          "state": {
            "_model_module": "@jupyter-widgets/controls",
            "_model_module_version": "1.5.0",
            "_model_name": "ProgressStyleModel",
            "_view_count": null,
            "_view_module": "@jupyter-widgets/base",
            "_view_module_version": "1.2.0",
            "_view_name": "StyleView",
            "bar_color": null,
            "description_width": ""
          }
        },
        "4dee6e0e11604e879f5bc4352cd69e02": {
          "model_module": "@jupyter-widgets/base",
          "model_name": "LayoutModel",
          "model_module_version": "1.2.0",
          "state": {
            "_model_module": "@jupyter-widgets/base",
            "_model_module_version": "1.2.0",
            "_model_name": "LayoutModel",
            "_view_count": null,
            "_view_module": "@jupyter-widgets/base",
            "_view_module_version": "1.2.0",
            "_view_name": "LayoutView",
            "align_content": null,
            "align_items": null,
            "align_self": null,
            "border": null,
            "bottom": null,
            "display": null,
            "flex": null,
            "flex_flow": null,
            "grid_area": null,
            "grid_auto_columns": null,
            "grid_auto_flow": null,
            "grid_auto_rows": null,
            "grid_column": null,
            "grid_gap": null,
            "grid_row": null,
            "grid_template_areas": null,
            "grid_template_columns": null,
            "grid_template_rows": null,
            "height": null,
            "justify_content": null,
            "justify_items": null,
            "left": null,
            "margin": null,
            "max_height": null,
            "max_width": null,
            "min_height": null,
            "min_width": null,
            "object_fit": null,
            "object_position": null,
            "order": null,
            "overflow": null,
            "overflow_x": null,
            "overflow_y": null,
            "padding": null,
            "right": null,
            "top": null,
            "visibility": null,
            "width": null
          }
        },
        "817a9b8be12d4daab5ccdb38ffbeeef9": {
          "model_module": "@jupyter-widgets/controls",
          "model_name": "DescriptionStyleModel",
          "model_module_version": "1.5.0",
          "state": {
            "_model_module": "@jupyter-widgets/controls",
            "_model_module_version": "1.5.0",
            "_model_name": "DescriptionStyleModel",
            "_view_count": null,
            "_view_module": "@jupyter-widgets/base",
            "_view_module_version": "1.2.0",
            "_view_name": "StyleView",
            "description_width": ""
          }
        },
        "df0931232cac4436a1f7d0463befd2cd": {
          "model_module": "@jupyter-widgets/controls",
          "model_name": "HBoxModel",
          "model_module_version": "1.5.0",
          "state": {
            "_dom_classes": [],
            "_model_module": "@jupyter-widgets/controls",
            "_model_module_version": "1.5.0",
            "_model_name": "HBoxModel",
            "_view_count": null,
            "_view_module": "@jupyter-widgets/controls",
            "_view_module_version": "1.5.0",
            "_view_name": "HBoxView",
            "box_style": "",
            "children": [
              "IPY_MODEL_d066e44252d2443cb0e83b20e8806bf7",
              "IPY_MODEL_43bc30a302734fa4a3b1455ed2d5bc90",
              "IPY_MODEL_5f0cde6b808443fb973301be7c0cab4f"
            ],
            "layout": "IPY_MODEL_55c410bc23d74c33a2c0c29c53e91b6d"
          }
        },
        "d066e44252d2443cb0e83b20e8806bf7": {
          "model_module": "@jupyter-widgets/controls",
          "model_name": "HTMLModel",
          "model_module_version": "1.5.0",
          "state": {
            "_dom_classes": [],
            "_model_module": "@jupyter-widgets/controls",
            "_model_module_version": "1.5.0",
            "_model_name": "HTMLModel",
            "_view_count": null,
            "_view_module": "@jupyter-widgets/controls",
            "_view_module_version": "1.5.0",
            "_view_name": "HTMLView",
            "description": "",
            "description_tooltip": null,
            "layout": "IPY_MODEL_649f46fc4fcc4e55911e206c4709089f",
            "placeholder": "​",
            "style": "IPY_MODEL_edf809d5ebad47e19fdebe4c0f7c0e67",
            "value": "100%"
          }
        },
        "43bc30a302734fa4a3b1455ed2d5bc90": {
          "model_module": "@jupyter-widgets/controls",
          "model_name": "FloatProgressModel",
          "model_module_version": "1.5.0",
          "state": {
            "_dom_classes": [],
            "_model_module": "@jupyter-widgets/controls",
            "_model_module_version": "1.5.0",
            "_model_name": "FloatProgressModel",
            "_view_count": null,
            "_view_module": "@jupyter-widgets/controls",
            "_view_module_version": "1.5.0",
            "_view_name": "ProgressView",
            "bar_style": "success",
            "description": "",
            "description_tooltip": null,
            "layout": "IPY_MODEL_701467eaed11410abde2809a1ee5c4fc",
            "max": 4422102,
            "min": 0,
            "orientation": "horizontal",
            "style": "IPY_MODEL_cc211f4bb96c4d46ba493feaad75a532",
            "value": 4422102
          }
        },
        "5f0cde6b808443fb973301be7c0cab4f": {
          "model_module": "@jupyter-widgets/controls",
          "model_name": "HTMLModel",
          "model_module_version": "1.5.0",
          "state": {
            "_dom_classes": [],
            "_model_module": "@jupyter-widgets/controls",
            "_model_module_version": "1.5.0",
            "_model_name": "HTMLModel",
            "_view_count": null,
            "_view_module": "@jupyter-widgets/controls",
            "_view_module_version": "1.5.0",
            "_view_name": "HTMLView",
            "description": "",
            "description_tooltip": null,
            "layout": "IPY_MODEL_5c759e2208604c168b761685a585b281",
            "placeholder": "​",
            "style": "IPY_MODEL_dce3ba321cd84967ade9df59bfd1f7a3",
            "value": " 4422102/4422102 [00:00&lt;00:00, 7945076.65it/s]"
          }
        },
        "55c410bc23d74c33a2c0c29c53e91b6d": {
          "model_module": "@jupyter-widgets/base",
          "model_name": "LayoutModel",
          "model_module_version": "1.2.0",
          "state": {
            "_model_module": "@jupyter-widgets/base",
            "_model_module_version": "1.2.0",
            "_model_name": "LayoutModel",
            "_view_count": null,
            "_view_module": "@jupyter-widgets/base",
            "_view_module_version": "1.2.0",
            "_view_name": "LayoutView",
            "align_content": null,
            "align_items": null,
            "align_self": null,
            "border": null,
            "bottom": null,
            "display": null,
            "flex": null,
            "flex_flow": null,
            "grid_area": null,
            "grid_auto_columns": null,
            "grid_auto_flow": null,
            "grid_auto_rows": null,
            "grid_column": null,
            "grid_gap": null,
            "grid_row": null,
            "grid_template_areas": null,
            "grid_template_columns": null,
            "grid_template_rows": null,
            "height": null,
            "justify_content": null,
            "justify_items": null,
            "left": null,
            "margin": null,
            "max_height": null,
            "max_width": null,
            "min_height": null,
            "min_width": null,
            "object_fit": null,
            "object_position": null,
            "order": null,
            "overflow": null,
            "overflow_x": null,
            "overflow_y": null,
            "padding": null,
            "right": null,
            "top": null,
            "visibility": null,
            "width": null
          }
        },
        "649f46fc4fcc4e55911e206c4709089f": {
          "model_module": "@jupyter-widgets/base",
          "model_name": "LayoutModel",
          "model_module_version": "1.2.0",
          "state": {
            "_model_module": "@jupyter-widgets/base",
            "_model_module_version": "1.2.0",
            "_model_name": "LayoutModel",
            "_view_count": null,
            "_view_module": "@jupyter-widgets/base",
            "_view_module_version": "1.2.0",
            "_view_name": "LayoutView",
            "align_content": null,
            "align_items": null,
            "align_self": null,
            "border": null,
            "bottom": null,
            "display": null,
            "flex": null,
            "flex_flow": null,
            "grid_area": null,
            "grid_auto_columns": null,
            "grid_auto_flow": null,
            "grid_auto_rows": null,
            "grid_column": null,
            "grid_gap": null,
            "grid_row": null,
            "grid_template_areas": null,
            "grid_template_columns": null,
            "grid_template_rows": null,
            "height": null,
            "justify_content": null,
            "justify_items": null,
            "left": null,
            "margin": null,
            "max_height": null,
            "max_width": null,
            "min_height": null,
            "min_width": null,
            "object_fit": null,
            "object_position": null,
            "order": null,
            "overflow": null,
            "overflow_x": null,
            "overflow_y": null,
            "padding": null,
            "right": null,
            "top": null,
            "visibility": null,
            "width": null
          }
        },
        "edf809d5ebad47e19fdebe4c0f7c0e67": {
          "model_module": "@jupyter-widgets/controls",
          "model_name": "DescriptionStyleModel",
          "model_module_version": "1.5.0",
          "state": {
            "_model_module": "@jupyter-widgets/controls",
            "_model_module_version": "1.5.0",
            "_model_name": "DescriptionStyleModel",
            "_view_count": null,
            "_view_module": "@jupyter-widgets/base",
            "_view_module_version": "1.2.0",
            "_view_name": "StyleView",
            "description_width": ""
          }
        },
        "701467eaed11410abde2809a1ee5c4fc": {
          "model_module": "@jupyter-widgets/base",
          "model_name": "LayoutModel",
          "model_module_version": "1.2.0",
          "state": {
            "_model_module": "@jupyter-widgets/base",
            "_model_module_version": "1.2.0",
            "_model_name": "LayoutModel",
            "_view_count": null,
            "_view_module": "@jupyter-widgets/base",
            "_view_module_version": "1.2.0",
            "_view_name": "LayoutView",
            "align_content": null,
            "align_items": null,
            "align_self": null,
            "border": null,
            "bottom": null,
            "display": null,
            "flex": null,
            "flex_flow": null,
            "grid_area": null,
            "grid_auto_columns": null,
            "grid_auto_flow": null,
            "grid_auto_rows": null,
            "grid_column": null,
            "grid_gap": null,
            "grid_row": null,
            "grid_template_areas": null,
            "grid_template_columns": null,
            "grid_template_rows": null,
            "height": null,
            "justify_content": null,
            "justify_items": null,
            "left": null,
            "margin": null,
            "max_height": null,
            "max_width": null,
            "min_height": null,
            "min_width": null,
            "object_fit": null,
            "object_position": null,
            "order": null,
            "overflow": null,
            "overflow_x": null,
            "overflow_y": null,
            "padding": null,
            "right": null,
            "top": null,
            "visibility": null,
            "width": null
          }
        },
        "cc211f4bb96c4d46ba493feaad75a532": {
          "model_module": "@jupyter-widgets/controls",
          "model_name": "ProgressStyleModel",
          "model_module_version": "1.5.0",
          "state": {
            "_model_module": "@jupyter-widgets/controls",
            "_model_module_version": "1.5.0",
            "_model_name": "ProgressStyleModel",
            "_view_count": null,
            "_view_module": "@jupyter-widgets/base",
            "_view_module_version": "1.2.0",
            "_view_name": "StyleView",
            "bar_color": null,
            "description_width": ""
          }
        },
        "5c759e2208604c168b761685a585b281": {
          "model_module": "@jupyter-widgets/base",
          "model_name": "LayoutModel",
          "model_module_version": "1.2.0",
          "state": {
            "_model_module": "@jupyter-widgets/base",
            "_model_module_version": "1.2.0",
            "_model_name": "LayoutModel",
            "_view_count": null,
            "_view_module": "@jupyter-widgets/base",
            "_view_module_version": "1.2.0",
            "_view_name": "LayoutView",
            "align_content": null,
            "align_items": null,
            "align_self": null,
            "border": null,
            "bottom": null,
            "display": null,
            "flex": null,
            "flex_flow": null,
            "grid_area": null,
            "grid_auto_columns": null,
            "grid_auto_flow": null,
            "grid_auto_rows": null,
            "grid_column": null,
            "grid_gap": null,
            "grid_row": null,
            "grid_template_areas": null,
            "grid_template_columns": null,
            "grid_template_rows": null,
            "height": null,
            "justify_content": null,
            "justify_items": null,
            "left": null,
            "margin": null,
            "max_height": null,
            "max_width": null,
            "min_height": null,
            "min_width": null,
            "object_fit": null,
            "object_position": null,
            "order": null,
            "overflow": null,
            "overflow_x": null,
            "overflow_y": null,
            "padding": null,
            "right": null,
            "top": null,
            "visibility": null,
            "width": null
          }
        },
        "dce3ba321cd84967ade9df59bfd1f7a3": {
          "model_module": "@jupyter-widgets/controls",
          "model_name": "DescriptionStyleModel",
          "model_module_version": "1.5.0",
          "state": {
            "_model_module": "@jupyter-widgets/controls",
            "_model_module_version": "1.5.0",
            "_model_name": "DescriptionStyleModel",
            "_view_count": null,
            "_view_module": "@jupyter-widgets/base",
            "_view_module_version": "1.2.0",
            "_view_name": "StyleView",
            "description_width": ""
          }
        },
        "1fef7804669943a29a83b8825401ee27": {
          "model_module": "@jupyter-widgets/controls",
          "model_name": "HBoxModel",
          "model_module_version": "1.5.0",
          "state": {
            "_dom_classes": [],
            "_model_module": "@jupyter-widgets/controls",
            "_model_module_version": "1.5.0",
            "_model_name": "HBoxModel",
            "_view_count": null,
            "_view_module": "@jupyter-widgets/controls",
            "_view_module_version": "1.5.0",
            "_view_name": "HBoxView",
            "box_style": "",
            "children": [
              "IPY_MODEL_7846650a90c74f9695dd7adc711b75eb",
              "IPY_MODEL_db536502867248bc978257e6bf9e4107",
              "IPY_MODEL_008a9722330f4aa587c6be0173a3d968"
            ],
            "layout": "IPY_MODEL_ee9245d249de4786b2a240cd25ff06f0"
          }
        },
        "7846650a90c74f9695dd7adc711b75eb": {
          "model_module": "@jupyter-widgets/controls",
          "model_name": "HTMLModel",
          "model_module_version": "1.5.0",
          "state": {
            "_dom_classes": [],
            "_model_module": "@jupyter-widgets/controls",
            "_model_module_version": "1.5.0",
            "_model_name": "HTMLModel",
            "_view_count": null,
            "_view_module": "@jupyter-widgets/controls",
            "_view_module_version": "1.5.0",
            "_view_name": "HTMLView",
            "description": "",
            "description_tooltip": null,
            "layout": "IPY_MODEL_bc86e6db1bc04c0da3cb49e740576e2a",
            "placeholder": "​",
            "style": "IPY_MODEL_35cd9986e8de474bb2872e6aa6c97b84",
            "value": "100%"
          }
        },
        "db536502867248bc978257e6bf9e4107": {
          "model_module": "@jupyter-widgets/controls",
          "model_name": "FloatProgressModel",
          "model_module_version": "1.5.0",
          "state": {
            "_dom_classes": [],
            "_model_module": "@jupyter-widgets/controls",
            "_model_module_version": "1.5.0",
            "_model_name": "FloatProgressModel",
            "_view_count": null,
            "_view_module": "@jupyter-widgets/controls",
            "_view_module_version": "1.5.0",
            "_view_name": "ProgressView",
            "bar_style": "success",
            "description": "",
            "description_tooltip": null,
            "layout": "IPY_MODEL_187e31a6c4be476bbac7a3861e6fc6f1",
            "max": 5148,
            "min": 0,
            "orientation": "horizontal",
            "style": "IPY_MODEL_c3d324722dc3488dbef0cae78a09cea6",
            "value": 5148
          }
        },
        "008a9722330f4aa587c6be0173a3d968": {
          "model_module": "@jupyter-widgets/controls",
          "model_name": "HTMLModel",
          "model_module_version": "1.5.0",
          "state": {
            "_dom_classes": [],
            "_model_module": "@jupyter-widgets/controls",
            "_model_module_version": "1.5.0",
            "_model_name": "HTMLModel",
            "_view_count": null,
            "_view_module": "@jupyter-widgets/controls",
            "_view_module_version": "1.5.0",
            "_view_name": "HTMLView",
            "description": "",
            "description_tooltip": null,
            "layout": "IPY_MODEL_bda90ced2bb94ee9af980df89b738a04",
            "placeholder": "​",
            "style": "IPY_MODEL_1e08389605b54001ac0c2525d961f2b3",
            "value": " 5148/5148 [00:00&lt;00:00, 205966.36it/s]"
          }
        },
        "ee9245d249de4786b2a240cd25ff06f0": {
          "model_module": "@jupyter-widgets/base",
          "model_name": "LayoutModel",
          "model_module_version": "1.2.0",
          "state": {
            "_model_module": "@jupyter-widgets/base",
            "_model_module_version": "1.2.0",
            "_model_name": "LayoutModel",
            "_view_count": null,
            "_view_module": "@jupyter-widgets/base",
            "_view_module_version": "1.2.0",
            "_view_name": "LayoutView",
            "align_content": null,
            "align_items": null,
            "align_self": null,
            "border": null,
            "bottom": null,
            "display": null,
            "flex": null,
            "flex_flow": null,
            "grid_area": null,
            "grid_auto_columns": null,
            "grid_auto_flow": null,
            "grid_auto_rows": null,
            "grid_column": null,
            "grid_gap": null,
            "grid_row": null,
            "grid_template_areas": null,
            "grid_template_columns": null,
            "grid_template_rows": null,
            "height": null,
            "justify_content": null,
            "justify_items": null,
            "left": null,
            "margin": null,
            "max_height": null,
            "max_width": null,
            "min_height": null,
            "min_width": null,
            "object_fit": null,
            "object_position": null,
            "order": null,
            "overflow": null,
            "overflow_x": null,
            "overflow_y": null,
            "padding": null,
            "right": null,
            "top": null,
            "visibility": null,
            "width": null
          }
        },
        "bc86e6db1bc04c0da3cb49e740576e2a": {
          "model_module": "@jupyter-widgets/base",
          "model_name": "LayoutModel",
          "model_module_version": "1.2.0",
          "state": {
            "_model_module": "@jupyter-widgets/base",
            "_model_module_version": "1.2.0",
            "_model_name": "LayoutModel",
            "_view_count": null,
            "_view_module": "@jupyter-widgets/base",
            "_view_module_version": "1.2.0",
            "_view_name": "LayoutView",
            "align_content": null,
            "align_items": null,
            "align_self": null,
            "border": null,
            "bottom": null,
            "display": null,
            "flex": null,
            "flex_flow": null,
            "grid_area": null,
            "grid_auto_columns": null,
            "grid_auto_flow": null,
            "grid_auto_rows": null,
            "grid_column": null,
            "grid_gap": null,
            "grid_row": null,
            "grid_template_areas": null,
            "grid_template_columns": null,
            "grid_template_rows": null,
            "height": null,
            "justify_content": null,
            "justify_items": null,
            "left": null,
            "margin": null,
            "max_height": null,
            "max_width": null,
            "min_height": null,
            "min_width": null,
            "object_fit": null,
            "object_position": null,
            "order": null,
            "overflow": null,
            "overflow_x": null,
            "overflow_y": null,
            "padding": null,
            "right": null,
            "top": null,
            "visibility": null,
            "width": null
          }
        },
        "35cd9986e8de474bb2872e6aa6c97b84": {
          "model_module": "@jupyter-widgets/controls",
          "model_name": "DescriptionStyleModel",
          "model_module_version": "1.5.0",
          "state": {
            "_model_module": "@jupyter-widgets/controls",
            "_model_module_version": "1.5.0",
            "_model_name": "DescriptionStyleModel",
            "_view_count": null,
            "_view_module": "@jupyter-widgets/base",
            "_view_module_version": "1.2.0",
            "_view_name": "StyleView",
            "description_width": ""
          }
        },
        "187e31a6c4be476bbac7a3861e6fc6f1": {
          "model_module": "@jupyter-widgets/base",
          "model_name": "LayoutModel",
          "model_module_version": "1.2.0",
          "state": {
            "_model_module": "@jupyter-widgets/base",
            "_model_module_version": "1.2.0",
            "_model_name": "LayoutModel",
            "_view_count": null,
            "_view_module": "@jupyter-widgets/base",
            "_view_module_version": "1.2.0",
            "_view_name": "LayoutView",
            "align_content": null,
            "align_items": null,
            "align_self": null,
            "border": null,
            "bottom": null,
            "display": null,
            "flex": null,
            "flex_flow": null,
            "grid_area": null,
            "grid_auto_columns": null,
            "grid_auto_flow": null,
            "grid_auto_rows": null,
            "grid_column": null,
            "grid_gap": null,
            "grid_row": null,
            "grid_template_areas": null,
            "grid_template_columns": null,
            "grid_template_rows": null,
            "height": null,
            "justify_content": null,
            "justify_items": null,
            "left": null,
            "margin": null,
            "max_height": null,
            "max_width": null,
            "min_height": null,
            "min_width": null,
            "object_fit": null,
            "object_position": null,
            "order": null,
            "overflow": null,
            "overflow_x": null,
            "overflow_y": null,
            "padding": null,
            "right": null,
            "top": null,
            "visibility": null,
            "width": null
          }
        },
        "c3d324722dc3488dbef0cae78a09cea6": {
          "model_module": "@jupyter-widgets/controls",
          "model_name": "ProgressStyleModel",
          "model_module_version": "1.5.0",
          "state": {
            "_model_module": "@jupyter-widgets/controls",
            "_model_module_version": "1.5.0",
            "_model_name": "ProgressStyleModel",
            "_view_count": null,
            "_view_module": "@jupyter-widgets/base",
            "_view_module_version": "1.2.0",
            "_view_name": "StyleView",
            "bar_color": null,
            "description_width": ""
          }
        },
        "bda90ced2bb94ee9af980df89b738a04": {
          "model_module": "@jupyter-widgets/base",
          "model_name": "LayoutModel",
          "model_module_version": "1.2.0",
          "state": {
            "_model_module": "@jupyter-widgets/base",
            "_model_module_version": "1.2.0",
            "_model_name": "LayoutModel",
            "_view_count": null,
            "_view_module": "@jupyter-widgets/base",
            "_view_module_version": "1.2.0",
            "_view_name": "LayoutView",
            "align_content": null,
            "align_items": null,
            "align_self": null,
            "border": null,
            "bottom": null,
            "display": null,
            "flex": null,
            "flex_flow": null,
            "grid_area": null,
            "grid_auto_columns": null,
            "grid_auto_flow": null,
            "grid_auto_rows": null,
            "grid_column": null,
            "grid_gap": null,
            "grid_row": null,
            "grid_template_areas": null,
            "grid_template_columns": null,
            "grid_template_rows": null,
            "height": null,
            "justify_content": null,
            "justify_items": null,
            "left": null,
            "margin": null,
            "max_height": null,
            "max_width": null,
            "min_height": null,
            "min_width": null,
            "object_fit": null,
            "object_position": null,
            "order": null,
            "overflow": null,
            "overflow_x": null,
            "overflow_y": null,
            "padding": null,
            "right": null,
            "top": null,
            "visibility": null,
            "width": null
          }
        },
        "1e08389605b54001ac0c2525d961f2b3": {
          "model_module": "@jupyter-widgets/controls",
          "model_name": "DescriptionStyleModel",
          "model_module_version": "1.5.0",
          "state": {
            "_model_module": "@jupyter-widgets/controls",
            "_model_module_version": "1.5.0",
            "_model_name": "DescriptionStyleModel",
            "_view_count": null,
            "_view_module": "@jupyter-widgets/base",
            "_view_module_version": "1.2.0",
            "_view_name": "StyleView",
            "description_width": ""
          }
        }
      }
    }
  },
  "cells": [
    {
      "cell_type": "code",
      "execution_count": 97,
      "metadata": {
        "id": "GHaJfFNhS74r"
      },
      "outputs": [],
      "source": [
        "import torch\n",
        "from torch import nn\n",
        "\n",
        "import matplotlib.pyplot as plt\n",
        "import numpy as np\n",
        "from torch import nn, optim\n",
        "from torch.autograd import Variable\n",
        "\n",
        "\n",
        "def test_network(net, trainloader):\n",
        "\n",
        "    criterion = nn.MSELoss()\n",
        "    optimizer = optim.Adam(net.parameters(), lr=0.001)\n",
        "\n",
        "    dataiter = iter(trainloader)\n",
        "    images, labels = dataiter.next()\n",
        "\n",
        "    # Create Variables for the inputs and targets\n",
        "    inputs = Variable(images)\n",
        "    targets = Variable(images)\n",
        "\n",
        "    # Clear the gradients from all Variables\n",
        "    optimizer.zero_grad()\n",
        "\n",
        "    # Forward pass, then backward pass, then update weights\n",
        "    output = net.forward(inputs)\n",
        "    loss = criterion(output, targets)\n",
        "    loss.backward()\n",
        "    optimizer.step()\n",
        "\n",
        "    return True\n",
        "\n",
        "\n",
        "def imshow(image, ax=None, title=None, normalize=True):\n",
        "    \"\"\"Imshow for Tensor.\"\"\"\n",
        "    if ax is None:\n",
        "        fig, ax = plt.subplots()\n",
        "    image = image.numpy().transpose((1, 2, 0))\n",
        "\n",
        "    if normalize:\n",
        "        mean = np.array([0.485, 0.456, 0.406])\n",
        "        std = np.array([0.229, 0.224, 0.225])\n",
        "        image = std * image + mean\n",
        "        image = np.clip(image, 0, 1)\n",
        "\n",
        "    ax.imshow(image)\n",
        "    ax.spines['top'].set_visible(False)\n",
        "    ax.spines['right'].set_visible(False)\n",
        "    ax.spines['left'].set_visible(False)\n",
        "    ax.spines['bottom'].set_visible(False)\n",
        "    ax.tick_params(axis='both', length=0)\n",
        "    ax.set_xticklabels('')\n",
        "    ax.set_yticklabels('')\n",
        "\n",
        "    return ax\n",
        "\n",
        "\n",
        "def view_recon(img, recon):\n",
        "    ''' Function for displaying an image (as a PyTorch Tensor) and its\n",
        "        reconstruction also a PyTorch Tensor\n",
        "    '''\n",
        "\n",
        "    fig, axes = plt.subplots(ncols=2, sharex=True, sharey=True)\n",
        "    axes[0].imshow(img.numpy().squeeze())\n",
        "    axes[1].imshow(recon.data.numpy().squeeze())\n",
        "    for ax in axes:\n",
        "        ax.axis('off')\n",
        "        ax.set_adjustable('box-forced')\n",
        "\n",
        "def view_classify(img, ps, version=\"MNIST\"):\n",
        "    ''' Function for viewing an image and it's predicted classes.\n",
        "    '''\n",
        "    ps = ps.data.numpy().squeeze()\n",
        "\n",
        "    fig, (ax1, ax2) = plt.subplots(figsize=(6,9), ncols=2)\n",
        "    ax1.imshow(img.resize_(1, 28, 28).numpy().squeeze())\n",
        "    ax1.axis('off')\n",
        "    ax2.barh(np.arange(10), ps)\n",
        "    ax2.set_aspect(0.1)\n",
        "    ax2.set_yticks(np.arange(10))\n",
        "    if version == \"MNIST\":\n",
        "        ax2.set_yticklabels(np.arange(10))\n",
        "    elif version == \"Fashion\":\n",
        "        ax2.set_yticklabels(['T-shirt/top',\n",
        "                            'Trouser',\n",
        "                            'Pullover',\n",
        "                            'Dress',\n",
        "                            'Coat',\n",
        "                            'Sandal',\n",
        "                            'Shirt',\n",
        "                            'Sneaker',\n",
        "                            'Bag',\n",
        "                            'Ankle Boot'], size='small');\n",
        "    ax2.set_title('Class Probability')\n",
        "    ax2.set_xlim(0, 1.1)\n",
        "\n",
        "    plt.tight_layout()\n"
      ]
    },
    {
      "cell_type": "code",
      "source": [
        "def activation(x):\n",
        "  \"\"\" x: Torch.tensor\"\"\"\n",
        "  return 1/(1+torch.exp(x))"
      ],
      "metadata": {
        "id": "KJUF0jFqTAql"
      },
      "execution_count": null,
      "outputs": []
    },
    {
      "cell_type": "code",
      "source": [
        "torch.manual_seed(7)\n",
        "features = torch.randn(1,5)\n",
        "weights = torch.randn_like(features)\n",
        "bias = torch.randn(1,1)"
      ],
      "metadata": {
        "id": "NuqCKVyhTUtR"
      },
      "execution_count": null,
      "outputs": []
    },
    {
      "cell_type": "code",
      "source": [
        "%%time\n",
        "activation((features*weights).sum()+ bias)"
      ],
      "metadata": {
        "colab": {
          "base_uri": "https://localhost:8080/"
        },
        "id": "4r4zOnXYUECn",
        "outputId": "1c57be40-903f-4a03-ce61-c2ec2345d41e"
      },
      "execution_count": null,
      "outputs": [
        {
          "output_type": "stream",
          "name": "stdout",
          "text": [
            "CPU times: user 360 µs, sys: 2.07 ms, total: 2.43 ms\n",
            "Wall time: 54.9 ms\n"
          ]
        },
        {
          "output_type": "execute_result",
          "data": {
            "text/plain": [
              "tensor([[0.8405]])"
            ]
          },
          "metadata": {},
          "execution_count": 5
        }
      ]
    },
    {
      "cell_type": "code",
      "source": [
        "%%time\n",
        "activation(torch.sum(features*weights)+ bias)"
      ],
      "metadata": {
        "colab": {
          "base_uri": "https://localhost:8080/"
        },
        "id": "U2XbcJXoWJ_l",
        "outputId": "8bfcce03-f920-43ba-abbc-b538dca01ba8"
      },
      "execution_count": null,
      "outputs": [
        {
          "output_type": "stream",
          "name": "stdout",
          "text": [
            "CPU times: user 233 µs, sys: 38 µs, total: 271 µs\n",
            "Wall time: 244 µs\n"
          ]
        },
        {
          "output_type": "execute_result",
          "data": {
            "text/plain": [
              "tensor([[0.8405]])"
            ]
          },
          "metadata": {},
          "execution_count": 6
        }
      ]
    },
    {
      "cell_type": "code",
      "source": [
        "print(\"shape of features\",features.shape)\n",
        "print(\"shape of Weights\",weights.shape)\n"
      ],
      "metadata": {
        "colab": {
          "base_uri": "https://localhost:8080/"
        },
        "id": "byk4lXytWzVD",
        "outputId": "2da073b2-4eec-4a3d-e803-a896b1e055ac"
      },
      "execution_count": null,
      "outputs": [
        {
          "output_type": "stream",
          "name": "stdout",
          "text": [
            "shape of features torch.Size([1, 5])\n",
            "shape of Weights torch.Size([1, 5])\n"
          ]
        }
      ]
    },
    {
      "cell_type": "code",
      "source": [
        "weights.resize_(5,1)\n",
        "weights.reshape(5,1)"
      ],
      "metadata": {
        "colab": {
          "base_uri": "https://localhost:8080/"
        },
        "id": "PBRLIuotXfYj",
        "outputId": "19839149-e3b5-4319-df14-895a52b95056"
      },
      "execution_count": null,
      "outputs": [
        {
          "output_type": "execute_result",
          "data": {
            "text/plain": [
              "tensor([[-0.8948],\n",
              "        [-0.3556],\n",
              "        [ 1.2324],\n",
              "        [ 0.1382],\n",
              "        [-1.6822]])"
            ]
          },
          "metadata": {},
          "execution_count": 8
        }
      ]
    },
    {
      "cell_type": "code",
      "source": [
        "weights=weights.view(5,1)"
      ],
      "metadata": {
        "id": "hyOUEzLxW55Y"
      },
      "execution_count": null,
      "outputs": []
    },
    {
      "cell_type": "code",
      "source": [
        "activation(torch.mm(features,weights) + bias)"
      ],
      "metadata": {
        "colab": {
          "base_uri": "https://localhost:8080/"
        },
        "id": "2RvZd8k6WPWj",
        "outputId": "914d9be7-7336-4fbc-e61e-d1ec171efa70"
      },
      "execution_count": null,
      "outputs": [
        {
          "output_type": "execute_result",
          "data": {
            "text/plain": [
              "tensor([[0.8405]])"
            ]
          },
          "metadata": {},
          "execution_count": 10
        }
      ]
    },
    {
      "cell_type": "code",
      "source": [
        "# Creating some random data\n",
        "\n",
        "torch.manual_seed(7)\n",
        "features = torch.randn((1,3))\n",
        "n_input = features.shape[1]\n",
        "hidden_layers = 2\n",
        "n_output =1\n",
        "\n",
        "W1 = torch.randn(n_input, hidden_layers)\n",
        "W2 = torch.randn(hidden_layers, n_output)\n",
        "\n",
        "B1 = torch.randn(1,hidden_layers)\n",
        "B2 = torch.randn(1,n_output)\n",
        "\n",
        "\n",
        "\n"
      ],
      "metadata": {
        "id": "gv9GLq53WxFA"
      },
      "execution_count": null,
      "outputs": []
    },
    {
      "cell_type": "code",
      "source": [
        "W1.shape"
      ],
      "metadata": {
        "colab": {
          "base_uri": "https://localhost:8080/"
        },
        "id": "pli-l3htbPED",
        "outputId": "1ec357bd-d22e-4286-933f-84cb335f62b9"
      },
      "execution_count": null,
      "outputs": [
        {
          "output_type": "execute_result",
          "data": {
            "text/plain": [
              "torch.Size([3, 2])"
            ]
          },
          "metadata": {},
          "execution_count": 12
        }
      ]
    },
    {
      "cell_type": "code",
      "source": [
        "features.shape"
      ],
      "metadata": {
        "colab": {
          "base_uri": "https://localhost:8080/"
        },
        "id": "2fzywdvzbdPU",
        "outputId": "f76f5187-288b-4275-e387-c3ad5dd9fc5e"
      },
      "execution_count": null,
      "outputs": [
        {
          "output_type": "execute_result",
          "data": {
            "text/plain": [
              "torch.Size([1, 3])"
            ]
          },
          "metadata": {},
          "execution_count": 13
        }
      ]
    },
    {
      "cell_type": "code",
      "source": [
        "c= activation(torch.mm(features,W1) + B1)\n",
        "activation(torch.mm(c,W2) + B2)"
      ],
      "metadata": {
        "colab": {
          "base_uri": "https://localhost:8080/"
        },
        "id": "w57nkjzgatxh",
        "outputId": "ee39b31a-6558-48fa-c6b8-762fdc7ef400"
      },
      "execution_count": null,
      "outputs": [
        {
          "output_type": "execute_result",
          "data": {
            "text/plain": [
              "tensor([[0.5290]])"
            ]
          },
          "metadata": {},
          "execution_count": 14
        }
      ]
    },
    {
      "cell_type": "code",
      "source": [
        "# numpy to tensor\n",
        "\n",
        "import numpy as np\n",
        "a=np.random.rand(4,3)\n",
        "a"
      ],
      "metadata": {
        "colab": {
          "base_uri": "https://localhost:8080/"
        },
        "id": "PAtSPrhpcGCl",
        "outputId": "9aa324b0-9174-4dcb-c13d-fc36d3d952df"
      },
      "execution_count": null,
      "outputs": [
        {
          "output_type": "execute_result",
          "data": {
            "text/plain": [
              "array([[0.17069732, 0.37228523, 0.49603143],\n",
              "       [0.16769446, 0.69854081, 0.72425344],\n",
              "       [0.66525987, 0.38892656, 0.16273605],\n",
              "       [0.26488386, 0.38471304, 0.62473763]])"
            ]
          },
          "metadata": {},
          "execution_count": 15
        }
      ]
    },
    {
      "cell_type": "code",
      "source": [
        "b=torch.from_numpy(a)"
      ],
      "metadata": {
        "id": "14g-UjKEdxkr"
      },
      "execution_count": null,
      "outputs": []
    },
    {
      "cell_type": "code",
      "source": [
        "b.numpy()"
      ],
      "metadata": {
        "colab": {
          "base_uri": "https://localhost:8080/"
        },
        "id": "x4bvLbVRd5wz",
        "outputId": "a79c31d9-f629-4305-fb8f-02c60591e96c"
      },
      "execution_count": null,
      "outputs": [
        {
          "output_type": "execute_result",
          "data": {
            "text/plain": [
              "array([[0.17069732, 0.37228523, 0.49603143],\n",
              "       [0.16769446, 0.69854081, 0.72425344],\n",
              "       [0.66525987, 0.38892656, 0.16273605],\n",
              "       [0.26488386, 0.38471304, 0.62473763]])"
            ]
          },
          "metadata": {},
          "execution_count": 17
        }
      ]
    },
    {
      "cell_type": "code",
      "source": [
        "b.mul_(2)"
      ],
      "metadata": {
        "colab": {
          "base_uri": "https://localhost:8080/"
        },
        "id": "jWeK2NXGeEQT",
        "outputId": "6b05e6a1-1b55-489e-f615-864c9ec9c1fe"
      },
      "execution_count": null,
      "outputs": [
        {
          "output_type": "execute_result",
          "data": {
            "text/plain": [
              "tensor([[0.3414, 0.7446, 0.9921],\n",
              "        [0.3354, 1.3971, 1.4485],\n",
              "        [1.3305, 0.7779, 0.3255],\n",
              "        [0.5298, 0.7694, 1.2495]], dtype=torch.float64)"
            ]
          },
          "metadata": {},
          "execution_count": 18
        }
      ]
    },
    {
      "cell_type": "code",
      "source": [
        "a"
      ],
      "metadata": {
        "colab": {
          "base_uri": "https://localhost:8080/"
        },
        "id": "W1qur3ZOeTGk",
        "outputId": "4199f022-c67d-4af5-e498-31d89abad677"
      },
      "execution_count": null,
      "outputs": [
        {
          "output_type": "execute_result",
          "data": {
            "text/plain": [
              "array([[0.34139464, 0.74457047, 0.99206285],\n",
              "       [0.33538893, 1.39708163, 1.44850688],\n",
              "       [1.33051975, 0.77785312, 0.3254721 ],\n",
              "       [0.52976773, 0.76942607, 1.24947527]])"
            ]
          },
          "metadata": {},
          "execution_count": 19
        }
      ]
    },
    {
      "cell_type": "code",
      "source": [
        "# MNIST data  using NN class in pytorch\n",
        "\n",
        "from matplotlib import pyplot as plt\n",
        "%matplotlib inline \n",
        "import torch\n",
        "import helper"
      ],
      "metadata": {
        "id": "ubSBiBG2ecpE"
      },
      "execution_count": null,
      "outputs": []
    },
    {
      "cell_type": "code",
      "source": [
        "from torchvision import datasets, transforms\n",
        "\n",
        "transform = transforms.Compose([transforms.ToTensor(),transforms.Normalize((0.5,),(0.5,)),])"
      ],
      "metadata": {
        "id": "_h2AwVr_g3mA"
      },
      "execution_count": null,
      "outputs": []
    },
    {
      "cell_type": "code",
      "source": [
        "transform"
      ],
      "metadata": {
        "colab": {
          "base_uri": "https://localhost:8080/"
        },
        "id": "wgc4mTEqhB9A",
        "outputId": "01186541-c0e4-4f74-f3c2-6af3de5571bd"
      },
      "execution_count": null,
      "outputs": [
        {
          "output_type": "execute_result",
          "data": {
            "text/plain": [
              "Compose(\n",
              "    ToTensor()\n",
              "    Normalize(mean=(0.5,), std=(0.5,))\n",
              ")"
            ]
          },
          "metadata": {},
          "execution_count": 22
        }
      ]
    },
    {
      "cell_type": "code",
      "source": [
        "trainset= datasets.MNIST('MNIST_data/',download=True,train=True,transform=transform)\n",
        "\n",
        "trainloader = torch.utils.data.DataLoader2(trainset,batch_size=64,shuffle=True)"
      ],
      "metadata": {
        "colab": {
          "base_uri": "https://localhost:8080/",
          "height": 451,
          "referenced_widgets": [
            "4320cc1848b140f5a912541d14b63c31",
            "8a722bea9a754232a845a00f1d08a28d",
            "f0910c1c0bb540b689db0741f624f884",
            "2dcec3cebbbe47e9bc47d6d9fab093a2",
            "a81b6970a22f480c92785a917dec3b9b",
            "8146bbab657b4324b2d6fa938ba8062e",
            "dd2b5e68a52648a7a07278dcaefdd642",
            "506049923a0a40daa1b793f2fbe72f31",
            "d85ba1405616456d93df9d272c6c2a85",
            "86fcc219799b4abaa816abfb8f4be8e4",
            "7bd2935b101f45a781ca8ee428623f3f",
            "818b14ea5f6848448f8f15b2c9319111",
            "05e9b796f50548849057de65bbbee7a1",
            "c56e90c015f24e6a9081d44975fa103f",
            "71f0fbd958cd4c5fbe2e01bbb6d5d5d5",
            "c6cb56df3a2d4cc3adb2e856740f5d40",
            "103fbf3a7b4f4c8cb8af693141d0f126",
            "c0da0c072822443787d24119b5837f1a",
            "7e32d1ef5a134f50ac11a0b70e6da065",
            "871ad1f0d738454fbad6848598212558",
            "4ef22d297c7947d2b55d8f1c3c0bd5cd",
            "8c0c65cb204249f6a16851be7e1b6994",
            "764c96d9235f4fc7a874091cb5a43756",
            "67a647a40af047f2911f6db577b6e6e6",
            "85cab89eb4514b9abf22c8fdb653a020",
            "15557691345143ea912c5cf7e6dfd4d0",
            "169f2021239940f5936989d92b8d015e",
            "3bdccd84284343f78914cee9f1b6f9da",
            "e18c6382216748c5a68c14fe15ef3e34",
            "94ac4bd16cd34ec7b3f7eb0093452194",
            "9d034ab01bd84a6396def28f23addcd3",
            "eef02099d085444790b2b42cee04457f",
            "902a788526dc45a4b286edb43475e46e",
            "d73d101c974b429287e0fc3a8ba45ec7",
            "2034c7c97f974857975dfb10de2873ee",
            "83a002b580b5482781d2b77730ee6258",
            "ea0ea9e8c18c486d9dca25bf605fd1e1",
            "72da9106d9714ae1b7d55830c14aba69",
            "03e3dca7a99a40de919280376c422ff3",
            "61c92e95d90949b192bcc7ba43b7a8ae",
            "10ccbaf55670421dbf17829a254ece54",
            "1c23bd540d284eec9b0f3005f9d83b76",
            "7f857a0301f840b1b3394d57c8c8e95e",
            "180d6982a86d48279cf2334ff794a30e"
          ]
        },
        "id": "K6389NN2h1_d",
        "outputId": "385e4b1c-21b6-4ace-b191-257e1b0f742e"
      },
      "execution_count": null,
      "outputs": [
        {
          "output_type": "stream",
          "name": "stdout",
          "text": [
            "Downloading http://yann.lecun.com/exdb/mnist/train-images-idx3-ubyte.gz\n",
            "Downloading http://yann.lecun.com/exdb/mnist/train-images-idx3-ubyte.gz to MNIST_data/MNIST/raw/train-images-idx3-ubyte.gz\n"
          ]
        },
        {
          "output_type": "display_data",
          "data": {
            "text/plain": [
              "  0%|          | 0/9912422 [00:00<?, ?it/s]"
            ],
            "application/vnd.jupyter.widget-view+json": {
              "version_major": 2,
              "version_minor": 0,
              "model_id": "4320cc1848b140f5a912541d14b63c31"
            }
          },
          "metadata": {}
        },
        {
          "output_type": "stream",
          "name": "stdout",
          "text": [
            "Extracting MNIST_data/MNIST/raw/train-images-idx3-ubyte.gz to MNIST_data/MNIST/raw\n",
            "\n",
            "Downloading http://yann.lecun.com/exdb/mnist/train-labels-idx1-ubyte.gz\n",
            "Downloading http://yann.lecun.com/exdb/mnist/train-labels-idx1-ubyte.gz to MNIST_data/MNIST/raw/train-labels-idx1-ubyte.gz\n"
          ]
        },
        {
          "output_type": "display_data",
          "data": {
            "text/plain": [
              "  0%|          | 0/28881 [00:00<?, ?it/s]"
            ],
            "application/vnd.jupyter.widget-view+json": {
              "version_major": 2,
              "version_minor": 0,
              "model_id": "818b14ea5f6848448f8f15b2c9319111"
            }
          },
          "metadata": {}
        },
        {
          "output_type": "stream",
          "name": "stdout",
          "text": [
            "Extracting MNIST_data/MNIST/raw/train-labels-idx1-ubyte.gz to MNIST_data/MNIST/raw\n",
            "\n",
            "Downloading http://yann.lecun.com/exdb/mnist/t10k-images-idx3-ubyte.gz\n",
            "Downloading http://yann.lecun.com/exdb/mnist/t10k-images-idx3-ubyte.gz to MNIST_data/MNIST/raw/t10k-images-idx3-ubyte.gz\n"
          ]
        },
        {
          "output_type": "display_data",
          "data": {
            "text/plain": [
              "  0%|          | 0/1648877 [00:00<?, ?it/s]"
            ],
            "application/vnd.jupyter.widget-view+json": {
              "version_major": 2,
              "version_minor": 0,
              "model_id": "764c96d9235f4fc7a874091cb5a43756"
            }
          },
          "metadata": {}
        },
        {
          "output_type": "stream",
          "name": "stdout",
          "text": [
            "Extracting MNIST_data/MNIST/raw/t10k-images-idx3-ubyte.gz to MNIST_data/MNIST/raw\n",
            "\n",
            "Downloading http://yann.lecun.com/exdb/mnist/t10k-labels-idx1-ubyte.gz\n",
            "Downloading http://yann.lecun.com/exdb/mnist/t10k-labels-idx1-ubyte.gz to MNIST_data/MNIST/raw/t10k-labels-idx1-ubyte.gz\n"
          ]
        },
        {
          "output_type": "display_data",
          "data": {
            "text/plain": [
              "  0%|          | 0/4542 [00:00<?, ?it/s]"
            ],
            "application/vnd.jupyter.widget-view+json": {
              "version_major": 2,
              "version_minor": 0,
              "model_id": "d73d101c974b429287e0fc3a8ba45ec7"
            }
          },
          "metadata": {}
        },
        {
          "output_type": "stream",
          "name": "stdout",
          "text": [
            "Extracting MNIST_data/MNIST/raw/t10k-labels-idx1-ubyte.gz to MNIST_data/MNIST/raw\n",
            "\n"
          ]
        }
      ]
    },
    {
      "cell_type": "code",
      "source": [
        "dataiter = iter(trainloader)"
      ],
      "metadata": {
        "id": "Olx6--qpiZJy"
      },
      "execution_count": null,
      "outputs": []
    },
    {
      "cell_type": "code",
      "source": [
        "for images, labels in trainloader:\n",
        "  print(type(images))\n",
        "  print(images.shape , \" Image shape\")\n",
        "  print(labels.shape, \" label shape\")\n",
        "  break"
      ],
      "metadata": {
        "colab": {
          "base_uri": "https://localhost:8080/"
        },
        "id": "CvD8XMfSiecX",
        "outputId": "ca59327c-a561-4581-8240-b936d004ad4a"
      },
      "execution_count": null,
      "outputs": [
        {
          "output_type": "stream",
          "name": "stdout",
          "text": [
            "<class 'torch.Tensor'>\n",
            "torch.Size([64, 1, 28, 28])  Image shape\n",
            "torch.Size([64])  label shape\n"
          ]
        }
      ]
    },
    {
      "cell_type": "code",
      "source": [
        "plt.imshow(images[1].numpy().squeeze())"
      ],
      "metadata": {
        "colab": {
          "base_uri": "https://localhost:8080/",
          "height": 283
        },
        "id": "PXdMAF48jKEA",
        "outputId": "a4830a7f-2fe4-4e14-8fca-a5f59b752660"
      },
      "execution_count": null,
      "outputs": [
        {
          "output_type": "execute_result",
          "data": {
            "text/plain": [
              "<matplotlib.image.AxesImage at 0x7fb5118a4b20>"
            ]
          },
          "metadata": {},
          "execution_count": 26
        },
        {
          "output_type": "display_data",
          "data": {
            "text/plain": [
              "<Figure size 432x288 with 1 Axes>"
            ],
            "image/png": "[encoded data removed]"
          },
          "metadata": {
            "needs_background": "light"
          }
        }
      ]
    },
    {
      "cell_type": "code",
      "source": [
        "def activation(x):\n",
        "  return 1/(1+torch.exp(x))"
      ],
      "metadata": {
        "id": "OQ8aZs9cnthg"
      },
      "execution_count": null,
      "outputs": []
    },
    {
      "cell_type": "code",
      "source": [
        "images.view(images.shape[0],-1).shape"
      ],
      "metadata": {
        "colab": {
          "base_uri": "https://localhost:8080/"
        },
        "id": "vIChTMAFVdAb",
        "outputId": "1e30dfc8-027a-4161-d5ed-6c46b7143ea4"
      },
      "execution_count": null,
      "outputs": [
        {
          "output_type": "execute_result",
          "data": {
            "text/plain": [
              "torch.Size([64, 784])"
            ]
          },
          "metadata": {},
          "execution_count": 28
        }
      ]
    },
    {
      "cell_type": "code",
      "source": [
        "# building neural network\n",
        "features = images.view(images.shape[0],-1)\n",
        "hidden_layers =256\n",
        "Weights1 = torch.randn(features.shape[1],hidden_layers)\n",
        "Weights2 = torch.randn(hidden_layers,10)\n",
        "Bias1 = torch.randn(1,hidden_layers)\n",
        "\n",
        "Bias2 = torch.randn(1,10)\n",
        "\n",
        "h = activation(torch.mm(features,Weights1) + Bias1)\n",
        "final_layer=activation(torch.mm(h,Weights2) + Bias2)\n",
        "\n",
        "final_layer.shape\n",
        "\n"
      ],
      "metadata": {
        "colab": {
          "base_uri": "https://localhost:8080/"
        },
        "id": "WSiaK2RyotiN",
        "outputId": "4a959585-4dd4-4764-9e2e-838c08bed463"
      },
      "execution_count": null,
      "outputs": [
        {
          "output_type": "execute_result",
          "data": {
            "text/plain": [
              "torch.Size([64, 10])"
            ]
          },
          "metadata": {},
          "execution_count": 29
        }
      ]
    },
    {
      "cell_type": "code",
      "source": [
        "# softmax function\n",
        "\n",
        "def softmax_func(x):\n",
        "  return torch.exp(x)/torch.sum(torch.exp(final_layer),dim=1).view(-1,1)"
      ],
      "metadata": {
        "id": "0yXlPZQMap0P"
      },
      "execution_count": null,
      "outputs": []
    },
    {
      "cell_type": "code",
      "source": [
        "softmax_func(final_layer)[0],labels[0]"
      ],
      "metadata": {
        "colab": {
          "base_uri": "https://localhost:8080/"
        },
        "id": "6WCwUJzDa-t9",
        "outputId": "3343713a-21be-4201-a4e8-614d6f6c7286"
      },
      "execution_count": null,
      "outputs": [
        {
          "output_type": "execute_result",
          "data": {
            "text/plain": [
              "(tensor([0.0687, 0.0727, 0.0687, 0.1866, 0.0708, 0.0826, 0.1169, 0.1865, 0.0743,\n",
              "         0.0722]), tensor(4))"
            ]
          },
          "metadata": {},
          "execution_count": 31
        }
      ]
    },
    {
      "cell_type": "code",
      "source": [
        "class Network(nn.Module):\n",
        "\n",
        "  def __init__(self):\n",
        "    super().__init__()\n",
        "\n",
        "    self.hidden = nn.Linear(784,256)\n",
        "    self.output = nn.Linear(256,10)\n",
        "    self.sigmoid = nn.Sigmoid()\n",
        "    self.softmax = nn.Softmax(dim=1)\n",
        "\n",
        "  def forward(self,x):\n",
        "    x = self.hidden(x)\n",
        "    x = self.sigmoid(x)\n",
        "    x=  self.output(x)\n",
        "    x = self.softmax(x)\n",
        "\n",
        "    return x\n",
        "\n",
        "\n"
      ],
      "metadata": {
        "id": "kbWes4CGboVe"
      },
      "execution_count": null,
      "outputs": []
    },
    {
      "cell_type": "code",
      "source": [
        "c =Network()\n",
        "c.forward(features)"
      ],
      "metadata": {
        "colab": {
          "base_uri": "https://localhost:8080/"
        },
        "id": "XcuKlDBDdbbZ",
        "outputId": "3586037f-acaf-4ddf-cdac-cd632abf20e0"
      },
      "execution_count": null,
      "outputs": [
        {
          "output_type": "execute_result",
          "data": {
            "text/plain": [
              "tensor([[0.0934, 0.1023, 0.1357, 0.1070, 0.0711, 0.0809, 0.0766, 0.1039, 0.0809,\n",
              "         0.1482],\n",
              "        [0.0922, 0.0977, 0.1288, 0.1129, 0.0710, 0.0833, 0.0748, 0.1111, 0.0882,\n",
              "         0.1401],\n",
              "        [0.0953, 0.0983, 0.1352, 0.1099, 0.0722, 0.0754, 0.0746, 0.1046, 0.0864,\n",
              "         0.1481],\n",
              "        [0.0986, 0.0986, 0.1336, 0.1075, 0.0747, 0.0857, 0.0683, 0.1110, 0.0760,\n",
              "         0.1458],\n",
              "        [0.0980, 0.1028, 0.1312, 0.1069, 0.0720, 0.0902, 0.0693, 0.1014, 0.0785,\n",
              "         0.1497],\n",
              "        [0.0923, 0.0989, 0.1305, 0.1044, 0.0686, 0.0895, 0.0788, 0.1109, 0.0800,\n",
              "         0.1460],\n",
              "        [0.0976, 0.1091, 0.1337, 0.1051, 0.0716, 0.0917, 0.0672, 0.1067, 0.0787,\n",
              "         0.1385],\n",
              "        [0.0923, 0.1026, 0.1334, 0.1092, 0.0782, 0.0863, 0.0750, 0.1060, 0.0810,\n",
              "         0.1359],\n",
              "        [0.0957, 0.1025, 0.1355, 0.1053, 0.0755, 0.0859, 0.0774, 0.1073, 0.0814,\n",
              "         0.1335],\n",
              "        [0.0955, 0.1074, 0.1313, 0.1121, 0.0718, 0.0905, 0.0685, 0.1078, 0.0758,\n",
              "         0.1393],\n",
              "        [0.0920, 0.1058, 0.1272, 0.1113, 0.0705, 0.0875, 0.0712, 0.1082, 0.0852,\n",
              "         0.1410],\n",
              "        [0.0983, 0.1010, 0.1318, 0.1156, 0.0763, 0.0904, 0.0694, 0.1061, 0.0734,\n",
              "         0.1375],\n",
              "        [0.0920, 0.1051, 0.1328, 0.1093, 0.0722, 0.0859, 0.0726, 0.1130, 0.0830,\n",
              "         0.1341],\n",
              "        [0.0962, 0.1051, 0.1328, 0.1094, 0.0739, 0.0874, 0.0702, 0.1151, 0.0778,\n",
              "         0.1321],\n",
              "        [0.0933, 0.0984, 0.1312, 0.1036, 0.0745, 0.0812, 0.0820, 0.1193, 0.0842,\n",
              "         0.1324],\n",
              "        [0.0938, 0.0970, 0.1354, 0.1088, 0.0692, 0.0900, 0.0802, 0.1161, 0.0768,\n",
              "         0.1327],\n",
              "        [0.0848, 0.0986, 0.1314, 0.1165, 0.0735, 0.0873, 0.0731, 0.1121, 0.0791,\n",
              "         0.1436],\n",
              "        [0.0917, 0.0990, 0.1301, 0.1057, 0.0713, 0.0825, 0.0759, 0.1224, 0.0872,\n",
              "         0.1342],\n",
              "        [0.0985, 0.1033, 0.1290, 0.1071, 0.0750, 0.0910, 0.0705, 0.1138, 0.0763,\n",
              "         0.1355],\n",
              "        [0.0954, 0.1029, 0.1390, 0.0986, 0.0726, 0.0848, 0.0748, 0.1051, 0.0810,\n",
              "         0.1458],\n",
              "        [0.0941, 0.1022, 0.1380, 0.1053, 0.0763, 0.0871, 0.0726, 0.1109, 0.0839,\n",
              "         0.1295],\n",
              "        [0.0946, 0.0976, 0.1252, 0.1150, 0.0761, 0.0910, 0.0732, 0.1031, 0.0816,\n",
              "         0.1427],\n",
              "        [0.0891, 0.1034, 0.1332, 0.1141, 0.0705, 0.0839, 0.0716, 0.1113, 0.0817,\n",
              "         0.1413],\n",
              "        [0.0936, 0.1004, 0.1298, 0.1155, 0.0721, 0.0978, 0.0726, 0.1053, 0.0795,\n",
              "         0.1333],\n",
              "        [0.0929, 0.1026, 0.1276, 0.1130, 0.0704, 0.0929, 0.0707, 0.1080, 0.0833,\n",
              "         0.1386],\n",
              "        [0.0971, 0.1000, 0.1330, 0.1095, 0.0729, 0.0790, 0.0751, 0.0958, 0.0874,\n",
              "         0.1502],\n",
              "        [0.0996, 0.1000, 0.1312, 0.1025, 0.0729, 0.0793, 0.0773, 0.1176, 0.0848,\n",
              "         0.1350],\n",
              "        [0.1004, 0.1002, 0.1351, 0.1082, 0.0797, 0.0819, 0.0721, 0.1066, 0.0828,\n",
              "         0.1329],\n",
              "        [0.0967, 0.0995, 0.1304, 0.1086, 0.0745, 0.0833, 0.0722, 0.1097, 0.0894,\n",
              "         0.1357],\n",
              "        [0.0940, 0.1029, 0.1282, 0.1046, 0.0745, 0.0874, 0.0767, 0.1176, 0.0784,\n",
              "         0.1356],\n",
              "        [0.0947, 0.1018, 0.1387, 0.1069, 0.0738, 0.0811, 0.0717, 0.1085, 0.0838,\n",
              "         0.1391],\n",
              "        [0.0989, 0.0973, 0.1338, 0.1054, 0.0796, 0.0793, 0.0776, 0.1131, 0.0813,\n",
              "         0.1337],\n",
              "        [0.0952, 0.0976, 0.1401, 0.1029, 0.0710, 0.0804, 0.0784, 0.1024, 0.0899,\n",
              "         0.1422],\n",
              "        [0.0976, 0.0935, 0.1276, 0.1095, 0.0729, 0.0853, 0.0713, 0.1093, 0.0877,\n",
              "         0.1453],\n",
              "        [0.0903, 0.1013, 0.1279, 0.1054, 0.0720, 0.0910, 0.0761, 0.1095, 0.0863,\n",
              "         0.1403],\n",
              "        [0.0942, 0.0985, 0.1269, 0.1134, 0.0767, 0.0867, 0.0727, 0.1089, 0.0849,\n",
              "         0.1371],\n",
              "        [0.0935, 0.0936, 0.1284, 0.1055, 0.0743, 0.0843, 0.0814, 0.1172, 0.0893,\n",
              "         0.1325],\n",
              "        [0.0920, 0.1006, 0.1253, 0.1172, 0.0736, 0.0911, 0.0683, 0.1067, 0.0777,\n",
              "         0.1476],\n",
              "        [0.0997, 0.1103, 0.1329, 0.1089, 0.0737, 0.0827, 0.0679, 0.1083, 0.0833,\n",
              "         0.1324],\n",
              "        [0.0989, 0.1009, 0.1359, 0.1064, 0.0745, 0.0838, 0.0698, 0.1095, 0.0808,\n",
              "         0.1395],\n",
              "        [0.0986, 0.1023, 0.1287, 0.1091, 0.0737, 0.0829, 0.0784, 0.1098, 0.0886,\n",
              "         0.1278],\n",
              "        [0.0995, 0.1020, 0.1316, 0.1116, 0.0737, 0.0867, 0.0692, 0.1041, 0.0768,\n",
              "         0.1448],\n",
              "        [0.0914, 0.1024, 0.1263, 0.1106, 0.0728, 0.0910, 0.0751, 0.1075, 0.0835,\n",
              "         0.1393],\n",
              "        [0.0995, 0.0998, 0.1361, 0.1069, 0.0747, 0.0889, 0.0704, 0.1088, 0.0815,\n",
              "         0.1334],\n",
              "        [0.0973, 0.1011, 0.1326, 0.1089, 0.0724, 0.0836, 0.0728, 0.1060, 0.0831,\n",
              "         0.1422],\n",
              "        [0.0911, 0.0950, 0.1401, 0.1078, 0.0729, 0.0866, 0.0767, 0.1132, 0.0830,\n",
              "         0.1337],\n",
              "        [0.0966, 0.0986, 0.1286, 0.1173, 0.0773, 0.0875, 0.0680, 0.1090, 0.0802,\n",
              "         0.1370],\n",
              "        [0.0966, 0.1025, 0.1321, 0.1086, 0.0762, 0.0838, 0.0746, 0.1079, 0.0835,\n",
              "         0.1341],\n",
              "        [0.0974, 0.1026, 0.1286, 0.1018, 0.0785, 0.0870, 0.0718, 0.1155, 0.0740,\n",
              "         0.1429],\n",
              "        [0.0913, 0.1057, 0.1281, 0.1071, 0.0701, 0.0896, 0.0730, 0.1069, 0.0781,\n",
              "         0.1500],\n",
              "        [0.1012, 0.1002, 0.1360, 0.1098, 0.0772, 0.0786, 0.0719, 0.1090, 0.0869,\n",
              "         0.1292],\n",
              "        [0.0942, 0.0974, 0.1412, 0.0999, 0.0755, 0.0907, 0.0786, 0.1150, 0.0762,\n",
              "         0.1312],\n",
              "        [0.0926, 0.0987, 0.1190, 0.1118, 0.0709, 0.0905, 0.0766, 0.1082, 0.0855,\n",
              "         0.1461],\n",
              "        [0.0985, 0.1018, 0.1278, 0.1085, 0.0737, 0.0885, 0.0703, 0.1099, 0.0859,\n",
              "         0.1350],\n",
              "        [0.0989, 0.1066, 0.1354, 0.1046, 0.0714, 0.0834, 0.0757, 0.1072, 0.0852,\n",
              "         0.1316],\n",
              "        [0.0994, 0.1064, 0.1346, 0.1082, 0.0720, 0.0859, 0.0704, 0.1102, 0.0769,\n",
              "         0.1359],\n",
              "        [0.0933, 0.0901, 0.1428, 0.1100, 0.0722, 0.0801, 0.0764, 0.1021, 0.0878,\n",
              "         0.1452],\n",
              "        [0.0940, 0.1052, 0.1361, 0.1015, 0.0743, 0.0817, 0.0795, 0.1054, 0.0851,\n",
              "         0.1372],\n",
              "        [0.1013, 0.1021, 0.1306, 0.1104, 0.0778, 0.0849, 0.0702, 0.1061, 0.0794,\n",
              "         0.1372],\n",
              "        [0.0935, 0.1033, 0.1333, 0.1109, 0.0752, 0.0865, 0.0701, 0.1120, 0.0786,\n",
              "         0.1367],\n",
              "        [0.0996, 0.0998, 0.1393, 0.1020, 0.0747, 0.0888, 0.0733, 0.1093, 0.0768,\n",
              "         0.1364],\n",
              "        [0.0960, 0.0982, 0.1336, 0.1121, 0.0722, 0.0837, 0.0755, 0.1056, 0.0853,\n",
              "         0.1379],\n",
              "        [0.0926, 0.0997, 0.1385, 0.1018, 0.0728, 0.0843, 0.0737, 0.1142, 0.0809,\n",
              "         0.1415],\n",
              "        [0.0931, 0.0981, 0.1250, 0.1134, 0.0751, 0.0889, 0.0750, 0.1083, 0.0861,\n",
              "         0.1371]], grad_fn=<SoftmaxBackward0>)"
            ]
          },
          "metadata": {},
          "execution_count": 33
        }
      ]
    },
    {
      "cell_type": "code",
      "source": [
        "import torch.nn.functional as F\n",
        "class Network(nn.Module):\n",
        "\n",
        "  def __init__(self):\n",
        "    super().__init__()\n",
        "\n",
        "    self.hidden = nn.Linear(784,256)\n",
        "    self.output = nn.Linear(256,10)\n",
        "    \n",
        "\n",
        "  def forward(self,x):\n",
        "    \n",
        "    x = F.sigmoid(self.hidden(x))\n",
        "    x = F.softmax(self.output(x))\n",
        "\n",
        "    return x"
      ],
      "metadata": {
        "id": "ncUqui4qdqUS"
      },
      "execution_count": null,
      "outputs": []
    },
    {
      "cell_type": "code",
      "source": [
        "c =Network()\n",
        "c.forward(features)[0],labels[0]"
      ],
      "metadata": {
        "colab": {
          "base_uri": "https://localhost:8080/"
        },
        "id": "5SKVqrb7eWFO",
        "outputId": "4b3b23f8-d297-4674-efa9-497a2f771f6d"
      },
      "execution_count": null,
      "outputs": [
        {
          "output_type": "stream",
          "name": "stderr",
          "text": [
            "/usr/local/lib/python3.8/dist-packages/torch/nn/functional.py:1967: UserWarning: nn.functional.sigmoid is deprecated. Use torch.sigmoid instead.\n",
            "  warnings.warn(\"nn.functional.sigmoid is deprecated. Use torch.sigmoid instead.\")\n",
            "<ipython-input-34-ad75a84d45f7>:14: UserWarning: Implicit dimension choice for softmax has been deprecated. Change the call to include dim=X as an argument.\n",
            "  x = F.softmax(self.output(x))\n"
          ]
        },
        {
          "output_type": "execute_result",
          "data": {
            "text/plain": [
              "(tensor([0.1285, 0.1262, 0.1279, 0.0560, 0.0806, 0.0516, 0.1933, 0.0569, 0.0662,\n",
              "         0.1129], grad_fn=<SelectBackward0>), tensor(4))"
            ]
          },
          "metadata": {},
          "execution_count": 35
        }
      ]
    },
    {
      "cell_type": "code",
      "source": [
        "# using RELU and 2 hidden layers\n",
        "import torch.nn.functional as F\n",
        "class Network(nn.Module):\n",
        "\n",
        "  def __init__(self):\n",
        "    super().__init__()\n",
        "\n",
        "    self.hidden1 = nn.Linear(784,128)\n",
        "    self.hidden2 = nn.Linear(128,64)\n",
        "    self.output = nn.Linear(64,10)\n",
        "    \n",
        "\n",
        "  def forward(self,x):\n",
        "    \n",
        "    x = F.relu(self.hidden1(x))\n",
        "    x = torch.sigmoid(self.hidden2(x))\n",
        "    x = F.softmax(self.output(x))\n",
        "\n",
        "    return x"
      ],
      "metadata": {
        "id": "DxFWlgD9eaz-"
      },
      "execution_count": null,
      "outputs": []
    },
    {
      "cell_type": "code",
      "source": [
        "c =Network()\n",
        "c.forward(features)[0],labels[0]"
      ],
      "metadata": {
        "colab": {
          "base_uri": "https://localhost:8080/"
        },
        "id": "l9m2fr0rfVoc",
        "outputId": "1776b261-c6ca-4822-8344-c59fe63cf59e"
      },
      "execution_count": null,
      "outputs": [
        {
          "output_type": "stream",
          "name": "stderr",
          "text": [
            "<ipython-input-36-bef217b11bd4>:17: UserWarning: Implicit dimension choice for softmax has been deprecated. Change the call to include dim=X as an argument.\n",
            "  x = F.softmax(self.output(x))\n"
          ]
        },
        {
          "output_type": "execute_result",
          "data": {
            "text/plain": [
              "(tensor([0.1185, 0.0995, 0.0562, 0.1326, 0.0623, 0.1205, 0.1006, 0.1242, 0.1032,\n",
              "         0.0823], grad_fn=<SelectBackward0>), tensor(4))"
            ]
          },
          "metadata": {},
          "execution_count": 37
        }
      ]
    },
    {
      "cell_type": "code",
      "source": [
        "c"
      ],
      "metadata": {
        "colab": {
          "base_uri": "https://localhost:8080/"
        },
        "id": "KbsRdQ6pfXS3",
        "outputId": "32f8d0f2-a448-4f32-eda8-9d56aa912911"
      },
      "execution_count": null,
      "outputs": [
        {
          "output_type": "execute_result",
          "data": {
            "text/plain": [
              "Network(\n",
              "  (hidden1): Linear(in_features=784, out_features=128, bias=True)\n",
              "  (hidden2): Linear(in_features=128, out_features=64, bias=True)\n",
              "  (output): Linear(in_features=64, out_features=10, bias=True)\n",
              ")"
            ]
          },
          "metadata": {},
          "execution_count": 38
        }
      ]
    },
    {
      "cell_type": "code",
      "source": [
        "# Building model sequentially and also making it train\n",
        "\n",
        "model = nn.Sequential(nn.Linear(784,128),\n",
        "                      nn.ReLU(),\n",
        "                      nn.Linear(128,64),\n",
        "                      nn.ReLU(),\n",
        "                      nn.Linear(64,10),\n",
        "                      nn.Softmax())\n",
        "print(model)\n",
        "criterion = nn.CrossEntropyLoss()\n",
        "images,labels = next(iter(trainloader))\n",
        "images=images.view(images.shape[0],-1)\n",
        "logits = model(images)\n",
        "loss = criterion(logits,labels)\n",
        "print(loss, \"loss\")"
      ],
      "metadata": {
        "colab": {
          "base_uri": "https://localhost:8080/"
        },
        "id": "4rsDze1rfb-A",
        "outputId": "8670b354-27e0-45d8-d56b-ed8959471d43"
      },
      "execution_count": null,
      "outputs": [
        {
          "output_type": "stream",
          "name": "stdout",
          "text": [
            "Sequential(\n",
            "  (0): Linear(in_features=784, out_features=128, bias=True)\n",
            "  (1): ReLU()\n",
            "  (2): Linear(in_features=128, out_features=64, bias=True)\n",
            "  (3): ReLU()\n",
            "  (4): Linear(in_features=64, out_features=10, bias=True)\n",
            "  (5): Softmax(dim=None)\n",
            ")\n",
            "tensor(2.3031, grad_fn=<NllLossBackward0>) loss\n"
          ]
        },
        {
          "output_type": "stream",
          "name": "stderr",
          "text": [
            "/usr/local/lib/python3.8/dist-packages/torch/nn/modules/container.py:204: UserWarning: Implicit dimension choice for softmax has been deprecated. Change the call to include dim=X as an argument.\n",
            "  input = module(input)\n"
          ]
        }
      ]
    },
    {
      "cell_type": "code",
      "source": [
        "images.shape"
      ],
      "metadata": {
        "colab": {
          "base_uri": "https://localhost:8080/"
        },
        "id": "OylaJgnXjq-h",
        "outputId": "5e283152-9525-4c20-a9bb-d9094b97d493"
      },
      "execution_count": null,
      "outputs": [
        {
          "output_type": "execute_result",
          "data": {
            "text/plain": [
              "torch.Size([64, 784])"
            ]
          },
          "metadata": {},
          "execution_count": 40
        }
      ]
    },
    {
      "cell_type": "code",
      "source": [
        "# Building model sequentially and also making it train with logsoftmax\n",
        "\n",
        "model = nn.Sequential(nn.Linear(784,128),\n",
        "                      nn.ReLU(),\n",
        "                      nn.Linear(128,64),\n",
        "                      nn.ReLU(),\n",
        "                      nn.Linear(64,10),\n",
        "                      nn.LogSoftmax(dim=1))\n",
        "print(model)\n",
        "criterion = nn.NLLLoss()\n",
        "images,labels = next(iter(trainloader))\n",
        "images=images.view(images.shape[0],-1)\n",
        "logits = model(images)\n",
        "loss = criterion(logits,labels)\n",
        "print(loss, \"loss\")"
      ],
      "metadata": {
        "colab": {
          "base_uri": "https://localhost:8080/"
        },
        "id": "VSVF4DsCj5Rt",
        "outputId": "7205fc6c-5a1c-46a3-ebb8-1556fcab94fe"
      },
      "execution_count": null,
      "outputs": [
        {
          "output_type": "stream",
          "name": "stdout",
          "text": [
            "Sequential(\n",
            "  (0): Linear(in_features=784, out_features=128, bias=True)\n",
            "  (1): ReLU()\n",
            "  (2): Linear(in_features=128, out_features=64, bias=True)\n",
            "  (3): ReLU()\n",
            "  (4): Linear(in_features=64, out_features=10, bias=True)\n",
            "  (5): LogSoftmax(dim=1)\n",
            ")\n",
            "tensor(2.3391, grad_fn=<NllLossBackward0>) loss\n"
          ]
        }
      ]
    },
    {
      "cell_type": "code",
      "source": [
        "# Back propagation\n",
        "x= torch.randn(2,2,requires_grad=True)\n",
        "print(\"X\",x)\n",
        "y = x**2\n",
        "z= y.mean()\n",
        "print(\"Z\", z)\n",
        "print(\"before backward\", x.grad)\n",
        "z.backward()\n",
        "print(\"before backward\", x.grad)\n",
        "print(\"1/n * gard(x)== weights :: (1/4) * (2x)\", (x/2))"
      ],
      "metadata": {
        "colab": {
          "base_uri": "https://localhost:8080/"
        },
        "id": "zn0d8-TxlWUt",
        "outputId": "3e35bbdf-e2ca-4e1b-94cb-2fe7e4cf43f8"
      },
      "execution_count": null,
      "outputs": [
        {
          "output_type": "stream",
          "name": "stdout",
          "text": [
            "X tensor([[ 0.9993, -0.0271],\n",
            "        [ 0.6419,  1.8366]], requires_grad=True)\n",
            "Z tensor(1.1961, grad_fn=<MeanBackward0>)\n",
            "before backward None\n",
            "before backward tensor([[ 0.4997, -0.0135],\n",
            "        [ 0.3210,  0.9183]])\n",
            "1/n * gard(x)== weights :: (1/4) * (2x) tensor([[ 0.4997, -0.0135],\n",
            "        [ 0.3210,  0.9183]], grad_fn=<DivBackward0>)\n"
          ]
        }
      ]
    },
    {
      "cell_type": "code",
      "source": [
        "# Back propagation\n",
        "x= torch.randn(2,2,requires_grad=True)\n",
        "print(\"X\",x)\n",
        "y = x**3\n",
        "z= y.mean()\n",
        "print(\"Z\", z)\n",
        "print(\"before backward\", x.grad)\n",
        "z.backward()\n",
        "print(\"before backward\", x.grad)\n",
        "print(\"1/n * gard(x)== weights :: (1/4) * (3x ** 2)\", ((3*x*x)/4))"
      ],
      "metadata": {
        "colab": {
          "base_uri": "https://localhost:8080/"
        },
        "id": "RNhF3P76qETI",
        "outputId": "e79efa17-11c1-469d-80cd-2c0aafc2fbb1"
      },
      "execution_count": null,
      "outputs": [
        {
          "output_type": "stream",
          "name": "stdout",
          "text": [
            "X tensor([[ 0.9251, -0.7920],\n",
            "        [ 1.2414,  0.7099]], requires_grad=True)\n",
            "Z tensor(0.6414, grad_fn=<MeanBackward0>)\n",
            "before backward None\n",
            "before backward tensor([[0.6418, 0.4705],\n",
            "        [1.1558, 0.3780]])\n",
            "1/n * gard(x)== weights :: (1/4) * (3x ** 2) tensor([[0.6418, 0.4705],\n",
            "        [1.1558, 0.3780]], grad_fn=<DivBackward0>)\n"
          ]
        }
      ]
    },
    {
      "cell_type": "code",
      "source": [
        "# adding the back prop to train\n",
        "model = nn.Sequential(nn.Linear(784,128),\n",
        "                      nn.ReLU(),\n",
        "                      nn.Linear(128,64),\n",
        "                      nn.ReLU(),\n",
        "                      nn.Linear(64,10),\n",
        "                      nn.LogSoftmax(dim=1))\n",
        "print(model)\n",
        "criterion = nn.NLLLoss()\n",
        "images,labels = next(iter(trainloader))\n",
        "images=images.view(images.shape[0],-1)\n",
        "logits = model(images)\n",
        "loss = criterion(logits,labels)\n",
        "print(loss, \"loss\")\n"
      ],
      "metadata": {
        "colab": {
          "base_uri": "https://localhost:8080/"
        },
        "id": "RB1615NDsDL6",
        "outputId": "4b894cab-3954-426a-8af6-7f79691dbcbd"
      },
      "execution_count": null,
      "outputs": [
        {
          "output_type": "stream",
          "name": "stdout",
          "text": [
            "Sequential(\n",
            "  (0): Linear(in_features=784, out_features=128, bias=True)\n",
            "  (1): ReLU()\n",
            "  (2): Linear(in_features=128, out_features=64, bias=True)\n",
            "  (3): ReLU()\n",
            "  (4): Linear(in_features=64, out_features=10, bias=True)\n",
            "  (5): LogSoftmax(dim=1)\n",
            ")\n",
            "tensor(2.3028, grad_fn=<NllLossBackward0>) loss\n"
          ]
        }
      ]
    },
    {
      "cell_type": "code",
      "source": [
        "model[0]"
      ],
      "metadata": {
        "colab": {
          "base_uri": "https://localhost:8080/"
        },
        "id": "gxrsmODwsjTa",
        "outputId": "181b5aa4-6f7d-4d99-a804-1b44bb3b7065"
      },
      "execution_count": null,
      "outputs": [
        {
          "output_type": "execute_result",
          "data": {
            "text/plain": [
              "Linear(in_features=784, out_features=128, bias=True)"
            ]
          },
          "metadata": {},
          "execution_count": 45
        }
      ]
    },
    {
      "cell_type": "code",
      "source": [
        "print(\"before back propogation\", model[0].weight.grad)\n",
        "loss.backward()\n",
        "print(\"after back propogation\", model[0].weight.grad)"
      ],
      "metadata": {
        "colab": {
          "base_uri": "https://localhost:8080/"
        },
        "id": "2CDq_bAOsYOP",
        "outputId": "12f3b7f7-287b-483f-f1d2-881b1526dd81"
      },
      "execution_count": null,
      "outputs": [
        {
          "output_type": "stream",
          "name": "stdout",
          "text": [
            "before back propogation None\n",
            "after back propogation tensor([[ 9.5363e-04,  9.5363e-04,  9.5363e-04,  ...,  9.5363e-04,\n",
            "          9.5363e-04,  9.5363e-04],\n",
            "        [ 2.6032e-03,  2.6032e-03,  2.6032e-03,  ...,  2.6032e-03,\n",
            "          2.6032e-03,  2.6032e-03],\n",
            "        [-1.3695e-05, -1.3695e-05, -1.3695e-05,  ..., -1.3695e-05,\n",
            "         -1.3695e-05, -1.3695e-05],\n",
            "        ...,\n",
            "        [-2.0863e-03, -2.0863e-03, -2.0863e-03,  ..., -2.0863e-03,\n",
            "         -2.0863e-03, -2.0863e-03],\n",
            "        [ 4.3987e-04,  4.3987e-04,  4.3987e-04,  ...,  4.3987e-04,\n",
            "          4.3987e-04,  4.3987e-04],\n",
            "        [ 1.2644e-03,  1.2644e-03,  1.2644e-03,  ...,  1.2644e-03,\n",
            "          1.2644e-03,  1.2644e-03]])\n"
          ]
        }
      ]
    },
    {
      "cell_type": "code",
      "source": [
        "model.parameters"
      ],
      "metadata": {
        "colab": {
          "base_uri": "https://localhost:8080/"
        },
        "id": "K_1kijGCtHPB",
        "outputId": "7cf0a423-c455-4318-8f8c-f8ea6aa8bd94"
      },
      "execution_count": null,
      "outputs": [
        {
          "output_type": "execute_result",
          "data": {
            "text/plain": [
              "<bound method Module.parameters of Sequential(\n",
              "  (0): Linear(in_features=784, out_features=128, bias=True)\n",
              "  (1): ReLU()\n",
              "  (2): Linear(in_features=128, out_features=64, bias=True)\n",
              "  (3): ReLU()\n",
              "  (4): Linear(in_features=64, out_features=10, bias=True)\n",
              "  (5): LogSoftmax(dim=1)\n",
              ")>"
            ]
          },
          "metadata": {},
          "execution_count": 47
        }
      ]
    },
    {
      "cell_type": "code",
      "source": [
        "from torch.optim.optimizer import Optimizer\n",
        "from torch import optim\n",
        "optimizer = optim.SGD(model.parameters(),lr =0.1)\n",
        "print(\"initial_weights\",model[0].weight)\n",
        "images,labels = next(iter(trainloader))\n",
        "images=images.view(images.shape[0],-1)\n",
        "logits = model(images)\n",
        "loss = criterion(logits,labels)\n",
        "loss.backward()\n",
        "print(\"updated_grad\", model[0].weight.grad)\n",
        "optimizer.step()\n",
        "print(\"updated_weights\", model[0].weight)"
      ],
      "metadata": {
        "colab": {
          "base_uri": "https://localhost:8080/"
        },
        "id": "ii9NEnF1s1_1",
        "outputId": "18d8fb2f-373e-4987-866a-223c852985e0"
      },
      "execution_count": null,
      "outputs": [
        {
          "output_type": "stream",
          "name": "stdout",
          "text": [
            "initial_weights Parameter containing:\n",
            "tensor([[ 0.0141,  0.0063, -0.0223,  ...,  0.0289,  0.0066,  0.0131],\n",
            "        [ 0.0053, -0.0174, -0.0236,  ...,  0.0255,  0.0236, -0.0303],\n",
            "        [ 0.0306,  0.0010,  0.0110,  ..., -0.0245,  0.0064,  0.0322],\n",
            "        ...,\n",
            "        [ 0.0218, -0.0310, -0.0355,  ..., -0.0230,  0.0056,  0.0149],\n",
            "        [-0.0175,  0.0309,  0.0082,  ..., -0.0073, -0.0339,  0.0176],\n",
            "        [-0.0263,  0.0211,  0.0318,  ..., -0.0290,  0.0044,  0.0244]],\n",
            "       requires_grad=True)\n",
            "updated_grad tensor([[ 0.0008,  0.0008,  0.0008,  ...,  0.0008,  0.0008,  0.0008],\n",
            "        [ 0.0032,  0.0032,  0.0032,  ...,  0.0032,  0.0032,  0.0032],\n",
            "        [-0.0008, -0.0008, -0.0008,  ..., -0.0008, -0.0008, -0.0008],\n",
            "        ...,\n",
            "        [ 0.0008,  0.0008,  0.0008,  ...,  0.0008,  0.0008,  0.0008],\n",
            "        [ 0.0027,  0.0027,  0.0027,  ...,  0.0027,  0.0027,  0.0027],\n",
            "        [ 0.0018,  0.0018,  0.0018,  ...,  0.0018,  0.0018,  0.0018]])\n",
            "updated_weights Parameter containing:\n",
            "tensor([[ 0.0140,  0.0062, -0.0224,  ...,  0.0288,  0.0065,  0.0130],\n",
            "        [ 0.0050, -0.0177, -0.0240,  ...,  0.0252,  0.0232, -0.0306],\n",
            "        [ 0.0307,  0.0011,  0.0110,  ..., -0.0244,  0.0065,  0.0323],\n",
            "        ...,\n",
            "        [ 0.0217, -0.0310, -0.0356,  ..., -0.0231,  0.0055,  0.0148],\n",
            "        [-0.0178,  0.0306,  0.0079,  ..., -0.0076, -0.0342,  0.0174],\n",
            "        [-0.0265,  0.0209,  0.0316,  ..., -0.0292,  0.0042,  0.0242]],\n",
            "       requires_grad=True)\n"
          ]
        }
      ]
    },
    {
      "cell_type": "code",
      "source": [
        "loss.item()"
      ],
      "metadata": {
        "colab": {
          "base_uri": "https://localhost:8080/"
        },
        "id": "2uXeO2W8ycL1",
        "outputId": "36f864df-c908-4a0b-c999-3ceb7e26cf44"
      },
      "execution_count": null,
      "outputs": [
        {
          "output_type": "execute_result",
          "data": {
            "text/plain": [
              "2.313063859939575"
            ]
          },
          "metadata": {},
          "execution_count": 49
        }
      ]
    },
    {
      "cell_type": "code",
      "source": [
        "# training a model\n",
        "\n",
        "model = nn.Sequential(nn.Linear(784,128),\n",
        "                      nn.ReLU(),\n",
        "                      nn.Linear(128,64),\n",
        "                      nn.ReLU(),\n",
        "                      nn.Linear(64,10),\n",
        "                      nn.LogSoftmax())\n",
        "\n",
        "criterion =  nn.NLLLoss()\n",
        "optimizer = optim.SGD(model.parameters(),lr=0.003)\n",
        "epochs =5\n",
        "for epoch in range(epochs):\n",
        "  running_loss = 0\n",
        "  \n",
        "  for images,labels in trainloader :\n",
        "      \n",
        "      images = images.view(images.shape[0],-1)\n",
        "      optimizer.zero_grad()\n",
        "      logits = model(images)\n",
        "      loss = criterion(logits, labels)\n",
        "      loss.backward()\n",
        "      optimizer.step()\n",
        "      running_loss +=  loss.item()\n",
        "   \n",
        "  print(f\"Training loss : {running_loss/len(trainloader)}\")\n"
      ],
      "metadata": {
        "colab": {
          "base_uri": "https://localhost:8080/"
        },
        "id": "-lNir-vWvC-l",
        "outputId": "93631db7-41a0-469f-d13f-895213a9d54c"
      },
      "execution_count": null,
      "outputs": [
        {
          "output_type": "stream",
          "name": "stderr",
          "text": [
            "/usr/local/lib/python3.8/dist-packages/torch/nn/modules/container.py:204: UserWarning: Implicit dimension choice for log_softmax has been deprecated. Change the call to include dim=X as an argument.\n",
            "  input = module(input)\n"
          ]
        },
        {
          "output_type": "stream",
          "name": "stdout",
          "text": [
            "Training loss : 1.8856647845778638\n",
            "Training loss : 0.8273031509189464\n",
            "Training loss : 0.5245333641831046\n",
            "Training loss : 0.429974122294612\n",
            "Training loss : 0.3829106713043474\n"
          ]
        }
      ]
    },
    {
      "cell_type": "code",
      "source": [
        "# training a model with different data set\n",
        "transform= transforms.Compose([transforms.ToTensor(),transforms.Normalize((0.5,),(0.5,)),])\n",
        "trainset= datasets.FashionMNIST('~/.pytorch/F_MNIST_data/',download=True,train=True,transform=transform)\n",
        "\n",
        "trainloader = torch.utils.data.DataLoader2(trainset,batch_size=64,shuffle=True)\n",
        "\n",
        "testset = datasets.FashionMNIST('~/.pytorch/F_MNIST_data/', download=True, train=False, transform=transform)\n",
        "testloader = torch.utils.data.DataLoader(testset, batch_size=64, shuffle=True)"
      ],
      "metadata": {
        "colab": {
          "base_uri": "https://localhost:8080/",
          "height": 451,
          "referenced_widgets": [
            "c4385645bf1e41afb1a924db8dcffd49",
            "29f6fe611f114cc48d359ac0fe73cfc9",
            "557e5f6fa5b94dc1b798bf1a023cb513",
            "d7145f18299a418397bcb7aa64582433",
            "42824e394a324ca5974f7d71039e263b",
            "bbaace21433e4179b084f9bea436c9f0",
            "96e7dd684b9e45cdbdd0af2a5613b7ff",
            "3d6ecf98c8bf454fbb0089eb07f632b6",
            "29135403aac24240bb0053835f7b9d3f",
            "42c6892e5a3f4ea8944655306b37b776",
            "2b9b5e5bdf6c4ffe8bbeb75dee251bdb",
            "def3e6fe99164e3980204417ea7f6a19",
            "3d0b1d2f0e52423a9ab9a0254555bb3f",
            "a4459387b6714594a610afe1b69a1ecf",
            "e13f25681d574c57a41ff8bfcb0270e7",
            "54d84cbdbbd34c108c9b6856946170a0",
            "3f890f9f0b6248b4b6173d0a4282cbd9",
            "9cce0e812184424f8abb51f349377c41",
            "b16b87c446874748adfd85c5fb48ead6",
            "2485f3d6ac1448479e2a6bb9adb46415",
            "4dee6e0e11604e879f5bc4352cd69e02",
            "817a9b8be12d4daab5ccdb38ffbeeef9",
            "df0931232cac4436a1f7d0463befd2cd",
            "d066e44252d2443cb0e83b20e8806bf7",
            "43bc30a302734fa4a3b1455ed2d5bc90",
            "5f0cde6b808443fb973301be7c0cab4f",
            "55c410bc23d74c33a2c0c29c53e91b6d",
            "649f46fc4fcc4e55911e206c4709089f",
            "edf809d5ebad47e19fdebe4c0f7c0e67",
            "701467eaed11410abde2809a1ee5c4fc",
            "cc211f4bb96c4d46ba493feaad75a532",
            "5c759e2208604c168b761685a585b281",
            "dce3ba321cd84967ade9df59bfd1f7a3",
            "1fef7804669943a29a83b8825401ee27",
            "7846650a90c74f9695dd7adc711b75eb",
            "db536502867248bc978257e6bf9e4107",
            "008a9722330f4aa587c6be0173a3d968",
            "ee9245d249de4786b2a240cd25ff06f0",
            "bc86e6db1bc04c0da3cb49e740576e2a",
            "35cd9986e8de474bb2872e6aa6c97b84",
            "187e31a6c4be476bbac7a3861e6fc6f1",
            "c3d324722dc3488dbef0cae78a09cea6",
            "bda90ced2bb94ee9af980df89b738a04",
            "1e08389605b54001ac0c2525d961f2b3"
          ]
        },
        "id": "5XjMvhM9y5Hr",
        "outputId": "dad7a105-ac47-4162-a965-ca2fff854116"
      },
      "execution_count": null,
      "outputs": [
        {
          "output_type": "stream",
          "name": "stdout",
          "text": [
            "Downloading http://fashion-mnist.s3-website.eu-central-1.amazonaws.com/train-images-idx3-ubyte.gz\n",
            "Downloading http://fashion-mnist.s3-website.eu-central-1.amazonaws.com/train-images-idx3-ubyte.gz to /root/.pytorch/F_MNIST_data/FashionMNIST/raw/train-images-idx3-ubyte.gz\n"
          ]
        },
        {
          "output_type": "display_data",
          "data": {
            "text/plain": [
              "  0%|          | 0/26421880 [00:00<?, ?it/s]"
            ],
            "application/vnd.jupyter.widget-view+json": {
              "version_major": 2,
              "version_minor": 0,
              "model_id": "c4385645bf1e41afb1a924db8dcffd49"
            }
          },
          "metadata": {}
        },
        {
          "output_type": "stream",
          "name": "stdout",
          "text": [
            "Extracting /root/.pytorch/F_MNIST_data/FashionMNIST/raw/train-images-idx3-ubyte.gz to /root/.pytorch/F_MNIST_data/FashionMNIST/raw\n",
            "\n",
            "Downloading http://fashion-mnist.s3-website.eu-central-1.amazonaws.com/train-labels-idx1-ubyte.gz\n",
            "Downloading http://fashion-mnist.s3-website.eu-central-1.amazonaws.com/train-labels-idx1-ubyte.gz to /root/.pytorch/F_MNIST_data/FashionMNIST/raw/train-labels-idx1-ubyte.gz\n"
          ]
        },
        {
          "output_type": "display_data",
          "data": {
            "text/plain": [
              "  0%|          | 0/29515 [00:00<?, ?it/s]"
            ],
            "application/vnd.jupyter.widget-view+json": {
              "version_major": 2,
              "version_minor": 0,
              "model_id": "def3e6fe99164e3980204417ea7f6a19"
            }
          },
          "metadata": {}
        },
        {
          "output_type": "stream",
          "name": "stdout",
          "text": [
            "Extracting /root/.pytorch/F_MNIST_data/FashionMNIST/raw/train-labels-idx1-ubyte.gz to /root/.pytorch/F_MNIST_data/FashionMNIST/raw\n",
            "\n",
            "Downloading http://fashion-mnist.s3-website.eu-central-1.amazonaws.com/t10k-images-idx3-ubyte.gz\n",
            "Downloading http://fashion-mnist.s3-website.eu-central-1.amazonaws.com/t10k-images-idx3-ubyte.gz to /root/.pytorch/F_MNIST_data/FashionMNIST/raw/t10k-images-idx3-ubyte.gz\n"
          ]
        },
        {
          "output_type": "display_data",
          "data": {
            "text/plain": [
              "  0%|          | 0/4422102 [00:00<?, ?it/s]"
            ],
            "application/vnd.jupyter.widget-view+json": {
              "version_major": 2,
              "version_minor": 0,
              "model_id": "df0931232cac4436a1f7d0463befd2cd"
            }
          },
          "metadata": {}
        },
        {
          "output_type": "stream",
          "name": "stdout",
          "text": [
            "Extracting /root/.pytorch/F_MNIST_data/FashionMNIST/raw/t10k-images-idx3-ubyte.gz to /root/.pytorch/F_MNIST_data/FashionMNIST/raw\n",
            "\n",
            "Downloading http://fashion-mnist.s3-website.eu-central-1.amazonaws.com/t10k-labels-idx1-ubyte.gz\n",
            "Downloading http://fashion-mnist.s3-website.eu-central-1.amazonaws.com/t10k-labels-idx1-ubyte.gz to /root/.pytorch/F_MNIST_data/FashionMNIST/raw/t10k-labels-idx1-ubyte.gz\n"
          ]
        },
        {
          "output_type": "display_data",
          "data": {
            "text/plain": [
              "  0%|          | 0/5148 [00:00<?, ?it/s]"
            ],
            "application/vnd.jupyter.widget-view+json": {
              "version_major": 2,
              "version_minor": 0,
              "model_id": "1fef7804669943a29a83b8825401ee27"
            }
          },
          "metadata": {}
        },
        {
          "output_type": "stream",
          "name": "stdout",
          "text": [
            "Extracting /root/.pytorch/F_MNIST_data/FashionMNIST/raw/t10k-labels-idx1-ubyte.gz to /root/.pytorch/F_MNIST_data/FashionMNIST/raw\n",
            "\n"
          ]
        }
      ]
    },
    {
      "cell_type": "code",
      "source": [
        "# training a model\n",
        "\n",
        "model = nn.Sequential(nn.Linear(784,256),\n",
        "                      nn.ReLU(),\n",
        "                      nn.Linear(256,128),\n",
        "                      nn.ReLU(),\n",
        "                      nn.Linear(128,64),\n",
        "                      nn.ReLU(),\n",
        "                      nn.Linear(64,32),\n",
        "                      nn.ReLU(),\n",
        "                      nn.Linear(32,10),\n",
        "                      nn.LogSoftmax())\n",
        "\n",
        "criterion =  nn.NLLLoss()\n",
        "optimizer = optim.SGD(model.parameters(),lr=0.2)\n",
        "epochs =5\n",
        "for epoch in range(epochs):\n",
        "  running_loss = 0\n",
        "  \n",
        "  for images,labels in trainloader :\n",
        "      \n",
        "      images = images.view(images.shape[0],-1)\n",
        "      optimizer.zero_grad()\n",
        "      logits = model(images)\n",
        "      loss = criterion(logits, labels)\n",
        "      loss.backward()\n",
        "      optimizer.step()\n",
        "      running_loss +=  loss.item()\n",
        "   \n",
        "  print(f\"Training loss : {running_loss/len(trainloader)}\")\n"
      ],
      "metadata": {
        "colab": {
          "base_uri": "https://localhost:8080/"
        },
        "id": "tV3qJGV9Tgh7",
        "outputId": "62c0674e-e247-4944-c20d-3a56f0f69ee7"
      },
      "execution_count": null,
      "outputs": [
        {
          "output_type": "stream",
          "name": "stdout",
          "text": [
            "Training loss : 0.7257919872302745\n",
            "Training loss : 0.43770784269899193\n",
            "Training loss : 0.37804583677732106\n",
            "Training loss : 0.3457698640363938\n",
            "Training loss : 0.32540945785004954\n"
          ]
        }
      ]
    },
    {
      "cell_type": "code",
      "source": [
        "dataiter = iter(testloader)\n",
        "images, labels = next(dataiter)\n",
        "img = images[1]\n",
        "img=img.view(img.shape[0],-1)\n",
        "ps = torch.exp(model(img)) # coverting loglikelyhood to crossentropy\n",
        "\n",
        "view_classify(img,ps,version='Fashion')\n",
        "\n"
      ],
      "metadata": {
        "colab": {
          "base_uri": "https://localhost:8080/",
          "height": 234
        },
        "id": "ciV8fOibUNyL",
        "outputId": "921350d5-9cec-430f-ec7f-f94d7f6bf3c0"
      },
      "execution_count": null,
      "outputs": [
        {
          "output_type": "display_data",
          "data": {
            "text/plain": [
              "<Figure size 432x648 with 2 Axes>"
            ],
            "image/png": "[encoded data removed]"
          },
          "metadata": {
            "needs_background": "light"
          }
        }
      ]
    },
    {
      "cell_type": "code",
      "source": [
        "dataiter = iter(testloader)\n",
        "images, labels = next(dataiter)\n",
        "images=images.view(images.shape[0],-1)\n",
        "print(images.shape)\n",
        "ps = torch.exp(model(images)) # coverting loglikelyhood to crossentropy\n",
        "\n",
        "top_prop,top_class=ps.topk(k=1,dim=1)\n",
        "top_class.shape"
      ],
      "metadata": {
        "colab": {
          "base_uri": "https://localhost:8080/"
        },
        "id": "RIyfchSSZ1Dd",
        "outputId": "1ab3f0c7-5695-426a-e3da-d0399742383e"
      },
      "execution_count": null,
      "outputs": [
        {
          "output_type": "stream",
          "name": "stdout",
          "text": [
            "torch.Size([64, 784])\n"
          ]
        },
        {
          "output_type": "execute_result",
          "data": {
            "text/plain": [
              "torch.Size([64, 1])"
            ]
          },
          "metadata": {},
          "execution_count": 52
        }
      ]
    },
    {
      "cell_type": "code",
      "source": [
        "labels=labels.view(*top_class.shape)"
      ],
      "metadata": {
        "id": "2G8_SOXCsSKb"
      },
      "execution_count": null,
      "outputs": []
    },
    {
      "cell_type": "code",
      "source": [
        "top_class == labels"
      ],
      "metadata": {
        "colab": {
          "base_uri": "https://localhost:8080/"
        },
        "id": "8VGXeMOMt0jS",
        "outputId": "482ef7c2-938f-492c-89bc-9a61bcfac3fa"
      },
      "execution_count": null,
      "outputs": [
        {
          "output_type": "execute_result",
          "data": {
            "text/plain": [
              "tensor([[ True],\n",
              "        [ True],\n",
              "        [ True],\n",
              "        [ True],\n",
              "        [ True],\n",
              "        [ True],\n",
              "        [ True],\n",
              "        [ True],\n",
              "        [ True],\n",
              "        [ True],\n",
              "        [False],\n",
              "        [ True],\n",
              "        [ True],\n",
              "        [ True],\n",
              "        [ True],\n",
              "        [ True],\n",
              "        [ True],\n",
              "        [ True],\n",
              "        [ True],\n",
              "        [ True],\n",
              "        [ True],\n",
              "        [ True],\n",
              "        [ True],\n",
              "        [ True],\n",
              "        [False],\n",
              "        [ True],\n",
              "        [ True],\n",
              "        [ True],\n",
              "        [ True],\n",
              "        [ True],\n",
              "        [False],\n",
              "        [ True],\n",
              "        [ True],\n",
              "        [ True],\n",
              "        [False],\n",
              "        [ True],\n",
              "        [ True],\n",
              "        [ True],\n",
              "        [ True],\n",
              "        [ True],\n",
              "        [False],\n",
              "        [ True],\n",
              "        [ True],\n",
              "        [ True],\n",
              "        [ True],\n",
              "        [ True],\n",
              "        [ True],\n",
              "        [ True],\n",
              "        [ True],\n",
              "        [ True],\n",
              "        [ True],\n",
              "        [ True],\n",
              "        [ True],\n",
              "        [False],\n",
              "        [ True],\n",
              "        [False],\n",
              "        [ True],\n",
              "        [ True],\n",
              "        [ True],\n",
              "        [ True],\n",
              "        [False],\n",
              "        [ True],\n",
              "        [False],\n",
              "        [ True]])"
            ]
          },
          "metadata": {},
          "execution_count": 54
        }
      ]
    },
    {
      "cell_type": "code",
      "source": [
        "equals = top_class == labels"
      ],
      "metadata": {
        "id": "3os0s-D5tDjW"
      },
      "execution_count": null,
      "outputs": []
    },
    {
      "cell_type": "code",
      "source": [
        "print(\"acccuracy\",torch.mean(equals.type(torch.FloatTensor)))"
      ],
      "metadata": {
        "colab": {
          "base_uri": "https://localhost:8080/"
        },
        "id": "d7yOFkAYt-mp",
        "outputId": "9ddc419d-671f-44db-c495-4d2e601426e0"
      },
      "execution_count": null,
      "outputs": [
        {
          "output_type": "stream",
          "name": "stdout",
          "text": [
            "acccuracy tensor(0.8594)\n"
          ]
        }
      ]
    },
    {
      "cell_type": "code",
      "source": [
        "# training a model with train and test loss\n",
        "\n",
        "model = nn.Sequential(nn.Linear(784,256),\n",
        "                      nn.ReLU(),\n",
        "                      nn.Linear(256,128),\n",
        "                      nn.ReLU(),\n",
        "                      nn.Linear(128,64),\n",
        "                      nn.ReLU(),\n",
        "                      nn.Linear(64,32),\n",
        "                      nn.ReLU(),\n",
        "                      nn.Linear(32,10),\n",
        "                      nn.LogSoftmax())\n",
        "\n",
        "criterion =  nn.NLLLoss()\n",
        "optimizer = optim.SGD(model.parameters(),lr=0.2)\n",
        "epochs =20\n",
        "train_loss= []\n",
        "test_loss = []\n",
        "for epoch in range(epochs):\n",
        "  running_loss = 0\n",
        "  \n",
        "  for images,labels in trainloader :\n",
        "      \n",
        "      images = images.view(images.shape[0],-1)\n",
        "      optimizer.zero_grad()\n",
        "      logits = model(images)\n",
        "      loss = criterion(logits, labels)\n",
        "      loss.backward()\n",
        "      optimizer.step()\n",
        "      running_loss +=  loss.item()\n",
        "   \n",
        "  print(f\"Training loss : {running_loss/len(trainloader)}\")\n",
        "  \n",
        "  running_test_loss = 0\n",
        "  with torch.no_grad():\n",
        " \n",
        "    for images,labels in testloader :\n",
        "        images = images.view(images.shape[0],-1)\n",
        "        \n",
        "        test_logits = model(images)\n",
        "        loss = criterion(test_logits, labels)\n",
        "        # loss.backward()\n",
        "        # optimizer.step()\n",
        "        running_test_loss +=  loss.item()\n",
        "\n",
        "    print(f\"testing loss : {running_test_loss/len(testloader)}\")\n",
        "    \n",
        "    dataiter = iter(testloader)\n",
        "    images, labels = next(dataiter)\n",
        "    images=images.view(images.shape[0],-1)\n",
        "    print(images.shape)\n",
        "    ps = torch.exp(model(images)) # coverting loglikelyhood to crossentropy\n",
        "\n",
        "    top_prop,top_class=ps.topk(k=1,dim=1)\n",
        "    top_class.shape    \n",
        "    labels=labels.view(*top_class.shape)\n",
        "    equals = top_class == labels\n",
        "    print(\"testing acccuracy\",torch.mean(equals.type(torch.FloatTensor)))\n",
        "    train_loss.append(running_loss/len(trainloader))\n",
        "    test_loss.append(running_test_loss/len(testloader))\n"
      ],
      "metadata": {
        "colab": {
          "base_uri": "https://localhost:8080/"
        },
        "id": "k0rONN9OuKAe",
        "outputId": "39b76788-1ce3-4386-ae14-d3f26a2e9466"
      },
      "execution_count": null,
      "outputs": [
        {
          "output_type": "stream",
          "name": "stdout",
          "text": [
            "Training loss : 0.7297314672168892\n",
            "testing loss : 0.6514780952292643\n",
            "torch.Size([64, 784])\n",
            "testing acccuracy tensor(0.6875)\n",
            "Training loss : 0.43244209952318846\n",
            "testing loss : 0.413272104730272\n",
            "torch.Size([64, 784])\n",
            "testing acccuracy tensor(0.9375)\n",
            "Training loss : 0.37809261673294914\n",
            "testing loss : 0.44459481043800425\n",
            "torch.Size([64, 784])\n",
            "testing acccuracy tensor(0.8594)\n",
            "Training loss : 0.34688731336167883\n",
            "testing loss : 0.43972466848078806\n",
            "torch.Size([64, 784])\n",
            "testing acccuracy tensor(0.7656)\n",
            "Training loss : 0.322333938221751\n",
            "testing loss : 0.37112140389764386\n",
            "torch.Size([64, 784])\n",
            "testing acccuracy tensor(0.7812)\n",
            "Training loss : 0.30455596544055036\n",
            "testing loss : 0.4235863696997333\n",
            "torch.Size([64, 784])\n",
            "testing acccuracy tensor(0.8281)\n",
            "Training loss : 0.2878269188995682\n",
            "testing loss : 0.34615853058684404\n",
            "torch.Size([64, 784])\n",
            "testing acccuracy tensor(0.9219)\n",
            "Training loss : 0.2782591070447649\n",
            "testing loss : 0.35137115010790004\n",
            "torch.Size([64, 784])\n",
            "testing acccuracy tensor(0.9219)\n",
            "Training loss : 0.26507781996433416\n",
            "testing loss : 0.4816834410284735\n",
            "torch.Size([64, 784])\n",
            "testing acccuracy tensor(0.8750)\n",
            "Training loss : 0.2566303160033628\n",
            "testing loss : 0.35804151558572317\n",
            "torch.Size([64, 784])\n",
            "testing acccuracy tensor(0.8906)\n",
            "Training loss : 0.2454276446229232\n",
            "testing loss : 0.33207617766538244\n",
            "torch.Size([64, 784])\n",
            "testing acccuracy tensor(0.9062)\n",
            "Training loss : 0.23488636301762894\n",
            "testing loss : 0.3853615857423491\n",
            "torch.Size([64, 784])\n",
            "testing acccuracy tensor(0.9062)\n",
            "Training loss : 0.22946674885478482\n",
            "testing loss : 0.33163152786956474\n",
            "torch.Size([64, 784])\n",
            "testing acccuracy tensor(0.8750)\n",
            "Training loss : 0.22214948698910061\n",
            "testing loss : 0.3264377953330423\n",
            "torch.Size([64, 784])\n",
            "testing acccuracy tensor(0.9219)\n",
            "Training loss : 0.21430054574664723\n",
            "testing loss : 0.3710083165650914\n",
            "torch.Size([64, 784])\n",
            "testing acccuracy tensor(0.8906)\n",
            "Training loss : 0.20749514074181952\n",
            "testing loss : 0.3619331646307259\n",
            "torch.Size([64, 784])\n",
            "testing acccuracy tensor(0.9062)\n",
            "Training loss : 0.1995522609627895\n",
            "testing loss : 0.35692825087696123\n",
            "torch.Size([64, 784])\n",
            "testing acccuracy tensor(0.8438)\n",
            "Training loss : 0.19499736962351463\n",
            "testing loss : 0.35081737436306704\n",
            "torch.Size([64, 784])\n",
            "testing acccuracy tensor(0.9219)\n",
            "Training loss : 0.1918797198929258\n",
            "testing loss : 0.4059808041639389\n",
            "torch.Size([64, 784])\n",
            "testing acccuracy tensor(0.9062)\n",
            "Training loss : 0.18473074590759492\n",
            "testing loss : 0.3815812502697015\n",
            "torch.Size([64, 784])\n",
            "testing acccuracy tensor(0.9219)\n"
          ]
        }
      ]
    },
    {
      "cell_type": "code",
      "source": [
        "plt.plot(train_loss, label=\"train_loss\")\n",
        "plt.plot(test_loss,label='test_loss')\n",
        "plt.legend(frameon=False)"
      ],
      "metadata": {
        "colab": {
          "base_uri": "https://localhost:8080/",
          "height": 283
        },
        "id": "RCs_VqSKvKrO",
        "outputId": "bc293616-6a24-40d5-d3c8-b16e9ac31563"
      },
      "execution_count": null,
      "outputs": [
        {
          "output_type": "execute_result",
          "data": {
            "text/plain": [
              "<matplotlib.legend.Legend at 0x7fbfe6012af0>"
            ]
          },
          "metadata": {},
          "execution_count": 59
        },
        {
          "output_type": "display_data",
          "data": {
            "text/plain": [
              "<Figure size 432x288 with 1 Axes>"
            ],
            "image/png": "[encoded data removed]"
          },
          "metadata": {
            "needs_background": "light"
          }
        }
      ]
    },
    {
      "cell_type": "code",
      "source": [
        "class dropout_nn(nn.Module):\n",
        "  def __init__(self):\n",
        "    super().__init__()\n",
        "    self.h1 = nn.Linear(784,256)\n",
        "    self.h2 = nn.Linear(256,128)\n",
        "    self.h3 = nn.Linear(128,64)\n",
        "    self.h4 = nn.Linear(64,32)\n",
        "    self.h5 = nn.Linear(32,10)\n",
        "    self.dropout = nn.Dropout(p=0.2)\n",
        "    # self.func = nn.LogSoftmax()\n",
        "    # self.relu = nn.ReLU()\n",
        "  def forward(self,x):\n",
        "    x= x.view(x.shape[0],-1)\n",
        "    x= self.dropout(F.relu(self.h1(x)))\n",
        "    x= self.dropout(F.relu(self.h2(x)))\n",
        "    x= self.dropout(F.relu(self.h3(x)))\n",
        "    x= self.dropout(F.relu(self.h4(x)))\n",
        "    # x= self.dropout(F.relu(self.h5(x)))\n",
        "    x = F.log_softmax(self.h5(x),dim=1)\n",
        "    return x\n",
        "model = dropout_nn()\n",
        "epoch =20\n",
        "optimiser = optim.SGD(model.parameters(),lr=0.1)   \n",
        "criterion =  nn.NLLLoss()\n",
        "train_loss= []\n",
        "test_loss = []\n",
        "for epoch in range(epochs):\n",
        "  running_loss = 0\n",
        "  for images,labels in trainloader:\n",
        "    model.train()\n",
        "    logits=model.forward(images)\n",
        "    model.zero_grad()\n",
        "    loss = criterion(logits,labels)\n",
        "    loss.backward()\n",
        "    optimiser.step()\n",
        "    running_loss += loss.item()\n",
        "  print(f\"Training loss: {running_loss/len(trainloader)}\")\n",
        "\n",
        "  running_test_loss = 0\n",
        "  with torch.no_grad():\n",
        "    \n",
        "    for images,labels in testloader :\n",
        "        model.eval()\n",
        "        images = images.view(images.shape[0],-1)\n",
        "        \n",
        "        test_logits = model(images)\n",
        "        loss = criterion(test_logits, labels)\n",
        "        # loss.backward()\n",
        "        # optimizer.step()\n",
        "        running_test_loss +=  loss.item()\n",
        "\n",
        "    print(f\"testing loss : {running_test_loss/len(testloader)}\")\n",
        "    \n",
        "    dataiter = iter(testloader)\n",
        "    images, labels = next(dataiter)\n",
        "    images=images.view(images.shape[0],-1)\n",
        "    #print(images.shape)'\n",
        "    model.eval()\n",
        "    ps = torch.exp(model(images)) # coverting loglikelyhood to crossentropy\n",
        "\n",
        "    top_prop,top_class=ps.topk(k=1,dim=1)\n",
        "    top_class.shape    \n",
        "    labels=labels.view(*top_class.shape)\n",
        "    equals = top_class == labels\n",
        "    print(\"testing acccuracy\",torch.mean(equals.type(torch.FloatTensor)))\n",
        "    train_loss.append(running_loss/len(trainloader))\n",
        "    test_loss.append(running_test_loss/len(testloader))\n",
        "\n",
        "    \n",
        "\n",
        "\n",
        "\n",
        "    \n"
      ],
      "metadata": {
        "colab": {
          "base_uri": "https://localhost:8080/"
        },
        "id": "smf4YcUGBLRQ",
        "outputId": "951eb5df-4267-4e06-bd08-948299469cfd"
      },
      "execution_count": null,
      "outputs": [
        {
          "output_type": "stream",
          "name": "stdout",
          "text": [
            "Training loss: 0.921391857585419\n",
            "testing loss : 0.5199316375574489\n",
            "testing acccuracy tensor(0.7656)\n",
            "Training loss: 0.5443210232613692\n",
            "testing loss : 0.45511233370015575\n",
            "testing acccuracy tensor(0.8281)\n",
            "Training loss: 0.4807303977419318\n",
            "testing loss : 0.49721473208658257\n",
            "testing acccuracy tensor(0.7500)\n",
            "Training loss: 0.4432090587739243\n",
            "testing loss : 0.4253353252532376\n",
            "testing acccuracy tensor(0.7812)\n",
            "Training loss: 0.4150051879984484\n",
            "testing loss : 0.4232305035849286\n",
            "testing acccuracy tensor(0.8281)\n",
            "Training loss: 0.39946358091732076\n",
            "testing loss : 0.49346980917605626\n",
            "testing acccuracy tensor(0.7188)\n",
            "Training loss: 0.38310689722964253\n",
            "testing loss : 0.3637028877522535\n",
            "testing acccuracy tensor(0.8594)\n",
            "Training loss: 0.36912373926784436\n",
            "testing loss : 0.39677481467177156\n",
            "testing acccuracy tensor(0.8281)\n",
            "Training loss: 0.3582483889388123\n",
            "testing loss : 0.36778963229079153\n",
            "testing acccuracy tensor(0.8750)\n",
            "Training loss: 0.3474230138795462\n",
            "testing loss : 0.36570324392835046\n",
            "testing acccuracy tensor(0.9219)\n",
            "Training loss: 0.33640057550691593\n",
            "testing loss : 0.35501371418974204\n",
            "testing acccuracy tensor(0.8438)\n",
            "Training loss: 0.33152114245683145\n",
            "testing loss : 0.350017175742775\n",
            "testing acccuracy tensor(0.8906)\n",
            "Training loss: 0.3225574628519478\n",
            "testing loss : 0.34385180767554385\n",
            "testing acccuracy tensor(0.8438)\n",
            "Training loss: 0.31677256463401354\n",
            "testing loss : 0.34567660510919657\n",
            "testing acccuracy tensor(0.8750)\n",
            "Training loss: 0.31008583182560356\n",
            "testing loss : 0.3574419582535507\n",
            "testing acccuracy tensor(0.8750)\n",
            "Training loss: 0.30650894675872475\n",
            "testing loss : 0.33794558869235836\n",
            "testing acccuracy tensor(0.9219)\n",
            "Training loss: 0.29858969592018675\n",
            "testing loss : 0.38613751293367643\n",
            "testing acccuracy tensor(0.8750)\n",
            "Training loss: 0.2929765897264867\n",
            "testing loss : 0.3716637942062062\n",
            "testing acccuracy tensor(0.8125)\n",
            "Training loss: 0.2909495393271004\n",
            "testing loss : 0.3382851284021025\n",
            "testing acccuracy tensor(0.8750)\n",
            "Training loss: 0.28575732530370707\n",
            "testing loss : 0.3373466168239618\n",
            "testing acccuracy tensor(0.8906)\n"
          ]
        }
      ]
    },
    {
      "cell_type": "code",
      "source": [
        "plt.plot(train_loss, label=\"train_loss\")\n",
        "plt.plot(test_loss,label='test_loss')\n",
        "plt.legend(frameon=False)"
      ],
      "metadata": {
        "colab": {
          "base_uri": "https://localhost:8080/",
          "height": 283
        },
        "id": "Np1rLKtZH7pX",
        "outputId": "48090e08-f18b-4c6e-b695-a152c163ee4e"
      },
      "execution_count": null,
      "outputs": [
        {
          "output_type": "execute_result",
          "data": {
            "text/plain": [
              "<matplotlib.legend.Legend at 0x7fbfe5075c10>"
            ]
          },
          "metadata": {},
          "execution_count": 61
        },
        {
          "output_type": "display_data",
          "data": {
            "text/plain": [
              "<Figure size 432x288 with 1 Axes>"
            ],
            "image/png": "[encoded data removed]"
          },
          "metadata": {
            "needs_background": "light"
          }
        }
      ]
    },
    {
      "cell_type": "code",
      "source": [
        "# using fc_model\n",
        "#!pip install fc_model\n",
        "class Network(nn.Module):\n",
        "    def __init__(self, input_size, output_size, hidden_layers, drop_p=0.5):\n",
        "        ''' Builds a feedforward network with arbitrary hidden layers.\n",
        "        \n",
        "            Arguments\n",
        "            ---------\n",
        "            input_size: integer, size of the input layer\n",
        "            output_size: integer, size of the output layer\n",
        "            hidden_layers: list of integers, the sizes of the hidden layers\n",
        "        \n",
        "        '''\n",
        "        super().__init__()\n",
        "        # Input to a hidden layer\n",
        "        self.hidden_layers = nn.ModuleList([nn.Linear(input_size, hidden_layers[0])])\n",
        "        \n",
        "        # Add a variable number of more hidden layers\n",
        "        layer_sizes = zip(hidden_layers[:-1], hidden_layers[1:])\n",
        "        self.hidden_layers.extend([nn.Linear(h1, h2) for h1, h2 in layer_sizes])\n",
        "        \n",
        "        self.output = nn.Linear(hidden_layers[-1], output_size)\n",
        "        \n",
        "        self.dropout = nn.Dropout(p=drop_p)\n",
        "        \n",
        "    def forward(self, x):\n",
        "        ''' Forward pass through the network, returns the output logits '''\n",
        "        \n",
        "        for each in self.hidden_layers:\n",
        "            x = F.relu(each(x))\n",
        "            x = self.dropout(x)\n",
        "        x = self.output(x)\n",
        "        \n",
        "        return F.log_softmax(x, dim=1)\n",
        "\n",
        "\n",
        "def validation(model, testloader, criterion):\n",
        "    accuracy = 0\n",
        "    test_loss = 0\n",
        "    for images, labels in testloader:\n",
        "\n",
        "        images = images.resize_(images.size()[0], 784)\n",
        "\n",
        "        output = model.forward(images)\n",
        "        test_loss += criterion(output, labels).item()\n",
        "\n",
        "        ## Calculating the accuracy \n",
        "        # Model's output is log-softmax, take exponential to get the probabilities\n",
        "        ps = torch.exp(output)\n",
        "        # Class with highest probability is our predicted class, compare with true label\n",
        "        equality = (labels.data == ps.max(1)[1])\n",
        "        # Accuracy is number of correct predictions divided by all predictions, just take the mean\n",
        "        accuracy += equality.type_as(torch.FloatTensor()).mean()\n",
        "\n",
        "    return test_loss, accuracy\n",
        "\n",
        "\n",
        "def train(model, trainloader, testloader, criterion, optimizer, epochs=5, print_every=40):\n",
        "    \n",
        "    steps = 0\n",
        "    running_loss = 0\n",
        "    for e in range(epochs):\n",
        "        # Model in training mode, dropout is on\n",
        "        model.train()\n",
        "        for images, labels in trainloader:\n",
        "            steps += 1\n",
        "            \n",
        "            # Flatten images into a 784 long vector\n",
        "            images.resize_(images.size()[0], 784)\n",
        "            \n",
        "            optimizer.zero_grad()\n",
        "            \n",
        "            output = model.forward(images)\n",
        "            loss = criterion(output, labels)\n",
        "            loss.backward()\n",
        "            optimizer.step()\n",
        "            \n",
        "            running_loss += loss.item()\n",
        "\n",
        "            if steps % print_every == 0:\n",
        "                # Model in inference mode, dropout is off\n",
        "                model.eval()\n",
        "                \n",
        "                # Turn off gradients for validation, will speed up inference\n",
        "                with torch.no_grad():\n",
        "                    test_loss, accuracy = validation(model, testloader, criterion)\n",
        "                \n",
        "                print(\"Epoch: {}/{}.. \".format(e+1, epochs),\n",
        "                      \"Training Loss: {:.3f}.. \".format(running_loss/print_every),\n",
        "                      \"Test Loss: {:.3f}.. \".format(test_loss/len(testloader)),\n",
        "                      \"Test Accuracy: {:.3f}\".format(accuracy/len(testloader)))\n",
        "                \n",
        "                running_loss = 0\n",
        "                \n",
        "                # Make sure dropout and grads are on for training\n",
        "                model.train()\n",
        "\n",
        "\n",
        "\n"
      ],
      "metadata": {
        "id": "6EXzdmz-JzEI"
      },
      "execution_count": null,
      "outputs": []
    },
    {
      "cell_type": "code",
      "source": [
        "model = Network(input_size=784, output_size=10, hidden_layers=[256,128,64,32])\n",
        "criterion = nn.NLLLoss()\n",
        "optimizer = optim.Adam(model.parameters(), lr =0.1)\n",
        "\n",
        "train(model,trainloader, testloader, criterion, optimizer, epochs=5, print_every=40)\n",
        "\n"
      ],
      "metadata": {
        "colab": {
          "base_uri": "https://localhost:8080/"
        },
        "id": "0Km3ocAXNl0Z",
        "outputId": "61e35e93-f80f-4f08-de39-13f5bd709a68"
      },
      "execution_count": null,
      "outputs": [
        {
          "output_type": "stream",
          "name": "stdout",
          "text": [
            "Epoch: 1/5..  Training Loss: 21.530..  Test Loss: 2.311..  Test Accuracy: 0.100\n",
            "Epoch: 1/5..  Training Loss: 12.844..  Test Loss: 2.315..  Test Accuracy: 0.100\n",
            "Epoch: 1/5..  Training Loss: 4.960..  Test Loss: 2.307..  Test Accuracy: 0.100\n",
            "Epoch: 1/5..  Training Loss: 9.041..  Test Loss: 2.311..  Test Accuracy: 0.100\n",
            "Epoch: 1/5..  Training Loss: 2.311..  Test Loss: 2.307..  Test Accuracy: 0.100\n",
            "Epoch: 1/5..  Training Loss: 2.500..  Test Loss: 2.315..  Test Accuracy: 0.100\n",
            "Epoch: 1/5..  Training Loss: 71.537..  Test Loss: 2.318..  Test Accuracy: 0.100\n",
            "Epoch: 1/5..  Training Loss: 19.840..  Test Loss: 2.313..  Test Accuracy: 0.100\n",
            "Epoch: 1/5..  Training Loss: 2.750..  Test Loss: 2.308..  Test Accuracy: 0.100\n",
            "Epoch: 1/5..  Training Loss: 2.313..  Test Loss: 2.309..  Test Accuracy: 0.100\n",
            "Epoch: 1/5..  Training Loss: 4.193..  Test Loss: 2.307..  Test Accuracy: 0.100\n",
            "Epoch: 1/5..  Training Loss: 2.433..  Test Loss: 2.308..  Test Accuracy: 0.100\n",
            "Epoch: 1/5..  Training Loss: 8.365..  Test Loss: 2.309..  Test Accuracy: 0.100\n",
            "Epoch: 1/5..  Training Loss: 2.311..  Test Loss: 2.314..  Test Accuracy: 0.100\n",
            "Epoch: 1/5..  Training Loss: 7.201..  Test Loss: 2.312..  Test Accuracy: 0.100\n",
            "Epoch: 1/5..  Training Loss: 2.307..  Test Loss: 2.315..  Test Accuracy: 0.100\n",
            "Epoch: 1/5..  Training Loss: 2.310..  Test Loss: 2.312..  Test Accuracy: 0.100\n",
            "Epoch: 1/5..  Training Loss: 6.768..  Test Loss: 2.309..  Test Accuracy: 0.100\n",
            "Epoch: 1/5..  Training Loss: 2.310..  Test Loss: 2.306..  Test Accuracy: 0.100\n",
            "Epoch: 1/5..  Training Loss: 2.313..  Test Loss: 2.312..  Test Accuracy: 0.100\n",
            "Epoch: 1/5..  Training Loss: 2.310..  Test Loss: 2.311..  Test Accuracy: 0.101\n",
            "Epoch: 1/5..  Training Loss: 2.312..  Test Loss: 2.315..  Test Accuracy: 0.100\n",
            "Epoch: 1/5..  Training Loss: 2.315..  Test Loss: 2.311..  Test Accuracy: 0.100\n",
            "Epoch: 2/5..  Training Loss: 2.309..  Test Loss: 2.311..  Test Accuracy: 0.100\n",
            "Epoch: 2/5..  Training Loss: 2.312..  Test Loss: 2.311..  Test Accuracy: 0.100\n",
            "Epoch: 2/5..  Training Loss: 2.313..  Test Loss: 2.309..  Test Accuracy: 0.100\n",
            "Epoch: 2/5..  Training Loss: 2.309..  Test Loss: 2.306..  Test Accuracy: 0.100\n",
            "Epoch: 2/5..  Training Loss: 2.311..  Test Loss: 2.314..  Test Accuracy: 0.100\n",
            "Epoch: 2/5..  Training Loss: 67.637..  Test Loss: 2.315..  Test Accuracy: 0.100\n",
            "Epoch: 2/5..  Training Loss: 2.931..  Test Loss: 2.309..  Test Accuracy: 0.100\n",
            "Epoch: 2/5..  Training Loss: 4.826..  Test Loss: 2.319..  Test Accuracy: 0.100\n",
            "Epoch: 2/5..  Training Loss: 2.316..  Test Loss: 2.313..  Test Accuracy: 0.100\n",
            "Epoch: 2/5..  Training Loss: 2.313..  Test Loss: 2.310..  Test Accuracy: 0.100\n",
            "Epoch: 2/5..  Training Loss: 2.311..  Test Loss: 2.320..  Test Accuracy: 0.100\n",
            "Epoch: 2/5..  Training Loss: 2.534..  Test Loss: 2.313..  Test Accuracy: 0.100\n",
            "Epoch: 2/5..  Training Loss: 2.313..  Test Loss: 2.311..  Test Accuracy: 0.101\n",
            "Epoch: 2/5..  Training Loss: 2.313..  Test Loss: 2.308..  Test Accuracy: 0.100\n",
            "Epoch: 2/5..  Training Loss: 2.310..  Test Loss: 2.308..  Test Accuracy: 0.100\n",
            "Epoch: 2/5..  Training Loss: 2.309..  Test Loss: 2.314..  Test Accuracy: 0.100\n",
            "Epoch: 2/5..  Training Loss: 2.313..  Test Loss: 2.317..  Test Accuracy: 0.100\n",
            "Epoch: 2/5..  Training Loss: 2.312..  Test Loss: 2.311..  Test Accuracy: 0.100\n",
            "Epoch: 2/5..  Training Loss: 2.311..  Test Loss: 2.305..  Test Accuracy: 0.101\n",
            "Epoch: 2/5..  Training Loss: 2.311..  Test Loss: 2.314..  Test Accuracy: 0.100\n",
            "Epoch: 2/5..  Training Loss: 2.311..  Test Loss: 2.311..  Test Accuracy: 0.100\n",
            "Epoch: 2/5..  Training Loss: 2.310..  Test Loss: 2.310..  Test Accuracy: 0.100\n",
            "Epoch: 2/5..  Training Loss: 2.312..  Test Loss: 2.316..  Test Accuracy: 0.100\n",
            "Epoch: 3/5..  Training Loss: 2.314..  Test Loss: 2.309..  Test Accuracy: 0.100\n",
            "Epoch: 3/5..  Training Loss: 2.310..  Test Loss: 2.310..  Test Accuracy: 0.100\n",
            "Epoch: 3/5..  Training Loss: 2.312..  Test Loss: 2.308..  Test Accuracy: 0.100\n",
            "Epoch: 3/5..  Training Loss: 2.307..  Test Loss: 2.311..  Test Accuracy: 0.100\n",
            "Epoch: 3/5..  Training Loss: 2.311..  Test Loss: 2.311..  Test Accuracy: 0.100\n",
            "Epoch: 3/5..  Training Loss: 2.311..  Test Loss: 2.310..  Test Accuracy: 0.100\n",
            "Epoch: 3/5..  Training Loss: 2.308..  Test Loss: 2.312..  Test Accuracy: 0.100\n",
            "Epoch: 3/5..  Training Loss: 2.313..  Test Loss: 2.319..  Test Accuracy: 0.100\n",
            "Epoch: 3/5..  Training Loss: 2.309..  Test Loss: 2.309..  Test Accuracy: 0.100\n",
            "Epoch: 3/5..  Training Loss: 2.315..  Test Loss: 2.311..  Test Accuracy: 0.100\n",
            "Epoch: 3/5..  Training Loss: 2.307..  Test Loss: 2.310..  Test Accuracy: 0.100\n",
            "Epoch: 3/5..  Training Loss: 2.316..  Test Loss: 2.312..  Test Accuracy: 0.100\n",
            "Epoch: 3/5..  Training Loss: 2.311..  Test Loss: 2.317..  Test Accuracy: 0.100\n",
            "Epoch: 3/5..  Training Loss: 2.312..  Test Loss: 2.308..  Test Accuracy: 0.100\n",
            "Epoch: 3/5..  Training Loss: 2.311..  Test Loss: 2.313..  Test Accuracy: 0.100\n",
            "Epoch: 3/5..  Training Loss: 2.313..  Test Loss: 2.308..  Test Accuracy: 0.101\n",
            "Epoch: 3/5..  Training Loss: 2.312..  Test Loss: 2.307..  Test Accuracy: 0.100\n",
            "Epoch: 3/5..  Training Loss: 2.310..  Test Loss: 2.304..  Test Accuracy: 0.100\n",
            "Epoch: 3/5..  Training Loss: 2.311..  Test Loss: 2.317..  Test Accuracy: 0.100\n",
            "Epoch: 3/5..  Training Loss: 2.309..  Test Loss: 2.315..  Test Accuracy: 0.101\n",
            "Epoch: 3/5..  Training Loss: 2.315..  Test Loss: 2.310..  Test Accuracy: 0.100\n",
            "Epoch: 3/5..  Training Loss: 2.308..  Test Loss: 2.316..  Test Accuracy: 0.100\n",
            "Epoch: 3/5..  Training Loss: 2.314..  Test Loss: 2.320..  Test Accuracy: 0.100\n",
            "Epoch: 3/5..  Training Loss: 2.315..  Test Loss: 2.315..  Test Accuracy: 0.100\n",
            "Epoch: 4/5..  Training Loss: 2.406..  Test Loss: 2.310..  Test Accuracy: 0.100\n",
            "Epoch: 4/5..  Training Loss: 2.310..  Test Loss: 2.311..  Test Accuracy: 0.100\n",
            "Epoch: 4/5..  Training Loss: 2.313..  Test Loss: 2.309..  Test Accuracy: 0.100\n",
            "Epoch: 4/5..  Training Loss: 4.253..  Test Loss: 2.306..  Test Accuracy: 0.100\n",
            "Epoch: 4/5..  Training Loss: 2.310..  Test Loss: 2.316..  Test Accuracy: 0.100\n",
            "Epoch: 4/5..  Training Loss: 2.315..  Test Loss: 2.311..  Test Accuracy: 0.100\n",
            "Epoch: 4/5..  Training Loss: 2.311..  Test Loss: 2.311..  Test Accuracy: 0.101\n",
            "Epoch: 4/5..  Training Loss: 2.309..  Test Loss: 2.306..  Test Accuracy: 0.100\n",
            "Epoch: 4/5..  Training Loss: 2.312..  Test Loss: 2.309..  Test Accuracy: 0.100\n",
            "Epoch: 4/5..  Training Loss: 2.312..  Test Loss: 2.310..  Test Accuracy: 0.100\n",
            "Epoch: 4/5..  Training Loss: 2.315..  Test Loss: 2.308..  Test Accuracy: 0.101\n",
            "Epoch: 4/5..  Training Loss: 2.313..  Test Loss: 2.308..  Test Accuracy: 0.100\n",
            "Epoch: 4/5..  Training Loss: 2.310..  Test Loss: 2.313..  Test Accuracy: 0.100\n",
            "Epoch: 4/5..  Training Loss: 2.315..  Test Loss: 2.308..  Test Accuracy: 0.100\n",
            "Epoch: 4/5..  Training Loss: 2.312..  Test Loss: 2.312..  Test Accuracy: 0.100\n",
            "Epoch: 4/5..  Training Loss: 2.313..  Test Loss: 2.312..  Test Accuracy: 0.100\n",
            "Epoch: 4/5..  Training Loss: 2.312..  Test Loss: 2.313..  Test Accuracy: 0.100\n",
            "Epoch: 4/5..  Training Loss: 2.313..  Test Loss: 2.308..  Test Accuracy: 0.100\n",
            "Epoch: 4/5..  Training Loss: 2.309..  Test Loss: 2.314..  Test Accuracy: 0.100\n",
            "Epoch: 4/5..  Training Loss: 2.310..  Test Loss: 2.311..  Test Accuracy: 0.100\n",
            "Epoch: 4/5..  Training Loss: 2.311..  Test Loss: 2.307..  Test Accuracy: 0.100\n",
            "Epoch: 4/5..  Training Loss: 2.309..  Test Loss: 2.312..  Test Accuracy: 0.100\n",
            "Epoch: 4/5..  Training Loss: 2.312..  Test Loss: 2.310..  Test Accuracy: 0.100\n",
            "Epoch: 5/5..  Training Loss: 2.312..  Test Loss: 2.315..  Test Accuracy: 0.100\n",
            "Epoch: 5/5..  Training Loss: 2.312..  Test Loss: 2.313..  Test Accuracy: 0.101\n",
            "Epoch: 5/5..  Training Loss: 2.312..  Test Loss: 2.309..  Test Accuracy: 0.100\n",
            "Epoch: 5/5..  Training Loss: 2.310..  Test Loss: 2.316..  Test Accuracy: 0.100\n",
            "Epoch: 5/5..  Training Loss: 4.377..  Test Loss: 2.306..  Test Accuracy: 0.100\n",
            "Epoch: 5/5..  Training Loss: 2.311..  Test Loss: 2.306..  Test Accuracy: 0.100\n",
            "Epoch: 5/5..  Training Loss: 2.311..  Test Loss: 2.309..  Test Accuracy: 0.100\n",
            "Epoch: 5/5..  Training Loss: 2.313..  Test Loss: 2.307..  Test Accuracy: 0.100\n",
            "Epoch: 5/5..  Training Loss: 2.314..  Test Loss: 2.305..  Test Accuracy: 0.101\n",
            "Epoch: 5/5..  Training Loss: 2.310..  Test Loss: 2.323..  Test Accuracy: 0.101\n",
            "Epoch: 5/5..  Training Loss: 2.310..  Test Loss: 2.319..  Test Accuracy: 0.100\n",
            "Epoch: 5/5..  Training Loss: 2.314..  Test Loss: 2.312..  Test Accuracy: 0.100\n",
            "Epoch: 5/5..  Training Loss: 2.308..  Test Loss: 2.314..  Test Accuracy: 0.100\n",
            "Epoch: 5/5..  Training Loss: 2.312..  Test Loss: 2.306..  Test Accuracy: 0.100\n",
            "Epoch: 5/5..  Training Loss: 2.307..  Test Loss: 2.316..  Test Accuracy: 0.100\n",
            "Epoch: 5/5..  Training Loss: 2.311..  Test Loss: 2.306..  Test Accuracy: 0.100\n",
            "Epoch: 5/5..  Training Loss: 2.308..  Test Loss: 2.311..  Test Accuracy: 0.100\n",
            "Epoch: 5/5..  Training Loss: 2.311..  Test Loss: 2.312..  Test Accuracy: 0.100\n",
            "Epoch: 5/5..  Training Loss: 2.311..  Test Loss: 2.307..  Test Accuracy: 0.100\n",
            "Epoch: 5/5..  Training Loss: 2.311..  Test Loss: 2.312..  Test Accuracy: 0.100\n",
            "Epoch: 5/5..  Training Loss: 2.310..  Test Loss: 2.316..  Test Accuracy: 0.100\n",
            "Epoch: 5/5..  Training Loss: 2.314..  Test Loss: 2.309..  Test Accuracy: 0.100\n",
            "Epoch: 5/5..  Training Loss: 2.311..  Test Loss: 2.305..  Test Accuracy: 0.101\n",
            "Epoch: 5/5..  Training Loss: 2.318..  Test Loss: 2.315..  Test Accuracy: 0.100\n"
          ]
        }
      ]
    },
    {
      "cell_type": "code",
      "source": [
        "model.state_dict()"
      ],
      "metadata": {
        "colab": {
          "base_uri": "https://localhost:8080/"
        },
        "id": "T5A-1cMYO2IU",
        "outputId": "d787b6b9-9862-4f66-c506-2b51ace53416"
      },
      "execution_count": null,
      "outputs": [
        {
          "output_type": "execute_result",
          "data": {
            "text/plain": [
              "OrderedDict([('0.weight',\n",
              "              tensor([[ 0.0267, -0.0074,  0.0083,  ...,  0.0588,  0.0598, -0.0065],\n",
              "                      [ 0.0054,  0.0490,  0.0081,  ...,  0.0296,  0.0629,  0.0452],\n",
              "                      [-0.0312, -0.0202, -0.0132,  ..., -0.0213,  0.0140,  0.0119],\n",
              "                      ...,\n",
              "                      [ 0.0113, -0.0171, -0.0061,  ...,  0.0247,  0.0367,  0.0379],\n",
              "                      [-0.0176,  0.0032, -0.0056,  ..., -0.0293, -0.0203,  0.0019],\n",
              "                      [ 0.0176, -0.0229,  0.0116,  ..., -0.0120, -0.0091, -0.0173]])),\n",
              "             ('0.bias',\n",
              "              tensor([ 8.9180e-03, -3.2655e-02, -5.2555e-03,  7.9455e-03, -2.0074e-02,\n",
              "                      -5.4201e-02, -2.1492e-02, -1.5535e-02,  6.1771e-03, -2.1870e-02,\n",
              "                       2.1911e-02,  2.9486e-02,  1.8268e-03, -2.1690e-02, -2.7084e-02,\n",
              "                       1.2460e-02, -2.2234e-02, -4.4910e-02,  8.9614e-03,  1.3112e-02,\n",
              "                       1.4899e-02, -3.5842e-02,  1.7597e-02,  1.7702e-03, -3.8941e-02,\n",
              "                      -1.1445e-02, -1.8025e-02, -3.2979e-02, -3.1257e-03, -3.5990e-02,\n",
              "                      -2.2374e-02,  5.7293e-03,  2.5528e-02, -1.9471e-02,  2.9544e-02,\n",
              "                       1.7626e-02, -5.6810e-03, -1.2845e-02, -1.9140e-02, -5.9253e-03,\n",
              "                      -2.3346e-02,  1.1905e-02, -2.4286e-02,  6.9618e-03,  1.8482e-02,\n",
              "                       1.8756e-03, -1.7916e-02,  1.3699e-02,  3.4685e-03,  3.1353e-02,\n",
              "                      -2.1504e-02, -3.8738e-02,  2.2568e-02,  2.0406e-03, -6.8945e-03,\n",
              "                      -3.5234e-02, -3.0519e-02, -2.2515e-02, -9.1398e-03, -3.4869e-03,\n",
              "                       4.4473e-02,  2.4423e-02,  3.8902e-02, -4.1884e-02, -2.9539e-02,\n",
              "                      -2.1645e-03, -2.3670e-02,  1.3573e-02, -4.6812e-02, -1.7445e-03,\n",
              "                      -2.2677e-02,  2.2221e-02, -3.7374e-02, -7.5213e-03, -2.8422e-02,\n",
              "                       5.3911e-02, -4.1704e-02, -2.2707e-02,  2.8579e-02, -4.0255e-02,\n",
              "                       9.4202e-03, -1.3519e-02, -4.9112e-02,  5.7835e-03, -4.9647e-02,\n",
              "                      -4.2893e-02,  2.5201e-02,  1.8446e-02, -4.0521e-02, -2.1770e-02,\n",
              "                       9.1960e-03,  4.1018e-03, -2.4237e-02, -2.8785e-02,  3.2024e-03,\n",
              "                      -1.9583e-02, -3.7645e-02, -2.8499e-02,  1.0996e-03,  1.0768e-02,\n",
              "                      -3.5343e-03,  2.1050e-02, -2.7881e-02,  6.6517e-03, -1.3885e-03,\n",
              "                      -1.6716e-02,  4.7504e-03,  5.0544e-04, -3.8704e-02,  4.8450e-03,\n",
              "                      -2.4043e-02,  7.3240e-03, -2.7616e-02, -3.0722e-03, -2.0368e-03,\n",
              "                      -1.2604e-02, -4.5027e-02, -2.5325e-03, -2.9339e-02, -3.6184e-02,\n",
              "                      -1.2313e-02,  2.4980e-02, -2.0922e-02, -5.5599e-03, -8.4577e-03,\n",
              "                      -5.9944e-02,  1.1730e-02,  3.6250e-02, -2.6469e-02,  3.1901e-02,\n",
              "                      -1.7296e-02, -2.4883e-02, -5.6179e-02,  2.7184e-02, -1.2501e-02,\n",
              "                       4.4306e-02, -6.3221e-03,  1.6604e-02,  5.7115e-03,  9.9875e-03,\n",
              "                       3.3803e-02,  8.3700e-03,  3.1954e-02,  2.6742e-02, -1.5084e-02,\n",
              "                       2.5953e-02, -3.2220e-02, -1.5787e-03,  1.6119e-02, -3.4780e-02,\n",
              "                      -2.4110e-02, -4.2095e-02, -5.1972e-02,  4.5639e-03,  2.3719e-03,\n",
              "                      -9.0495e-04, -5.6435e-03,  1.3970e-02, -6.3389e-03,  3.5228e-02,\n",
              "                      -1.6271e-02,  1.0586e-02, -5.2856e-02, -4.4170e-02, -6.1799e-03,\n",
              "                       9.3831e-03,  1.3964e-02, -2.2651e-02, -5.8991e-02, -3.5617e-03,\n",
              "                       1.8458e-02, -2.1185e-02,  5.5045e-03, -3.5605e-02,  1.8354e-02,\n",
              "                      -1.8541e-02, -1.6146e-02,  8.8379e-04, -2.5444e-02, -2.9204e-02,\n",
              "                      -1.5694e-02,  2.2430e-03,  5.4592e-03, -1.3817e-02, -3.5565e-02,\n",
              "                      -2.7264e-02,  2.8925e-03, -4.8822e-04, -1.0943e-02, -5.9092e-06,\n",
              "                      -2.4897e-02,  5.4280e-03, -3.1742e-02, -2.3828e-02,  5.5126e-03,\n",
              "                      -1.8123e-02,  7.2296e-03, -1.7179e-02,  2.3988e-02,  2.1899e-02,\n",
              "                      -3.0067e-02,  1.3682e-02, -9.6241e-04,  1.7930e-02,  2.5312e-02,\n",
              "                      -3.1330e-02,  5.7502e-03,  3.9946e-02, -1.8423e-02,  1.2129e-02,\n",
              "                       2.5307e-02, -2.0033e-02,  4.9002e-03, -3.6026e-03, -3.0581e-02,\n",
              "                       9.1236e-03, -2.9080e-02,  9.6597e-03, -4.3330e-02, -2.7062e-02,\n",
              "                       1.7513e-02, -1.8010e-03, -6.2799e-03,  4.0585e-02, -2.0626e-02,\n",
              "                       1.8063e-02,  4.1406e-02, -7.5670e-03, -6.7567e-04,  3.4168e-02,\n",
              "                      -2.2742e-02, -1.2742e-02,  9.9102e-03, -1.6535e-02, -2.0794e-02,\n",
              "                       1.0322e-02, -2.1418e-02,  1.6289e-02, -1.5173e-02, -2.8919e-02,\n",
              "                       1.3058e-02, -2.7839e-02, -3.2834e-02, -2.2710e-02, -5.7874e-02,\n",
              "                       1.9880e-02, -9.2956e-03, -4.3696e-02,  4.9325e-03,  1.4921e-02,\n",
              "                       1.9819e-02,  1.9221e-02, -2.6680e-02, -3.4444e-03, -2.2953e-02,\n",
              "                      -6.4086e-03])),\n",
              "             ('2.weight',\n",
              "              tensor([[-0.1023,  0.0141, -0.0853,  ...,  0.0247,  0.0380,  0.0147],\n",
              "                      [-0.0678, -0.0581, -0.0752,  ..., -0.0411,  0.0110,  0.0836],\n",
              "                      [-0.0614,  0.0202, -0.0071,  ..., -0.0110,  0.0357,  0.0305],\n",
              "                      ...,\n",
              "                      [ 0.0817, -0.0470, -0.0348,  ...,  0.0591,  0.1065, -0.0224],\n",
              "                      [ 0.0734,  0.0120, -0.0130,  ..., -0.0491, -0.0323, -0.0109],\n",
              "                      [ 0.0576, -0.0660, -0.0010,  ...,  0.0073, -0.0907,  0.0744]])),\n",
              "             ('2.bias',\n",
              "              tensor([-0.0493, -0.0557,  0.0064, -0.0632,  0.0030, -0.0105, -0.0179,  0.0879,\n",
              "                      -0.1028,  0.0880,  0.0429, -0.0803, -0.0489,  0.1598,  0.0597,  0.0213,\n",
              "                       0.0035,  0.0701,  0.1395,  0.0177, -0.0924, -0.0529,  0.0694,  0.0932,\n",
              "                      -0.0277,  0.0338,  0.0773,  0.0158, -0.0693, -0.0169, -0.0603, -0.0292,\n",
              "                       0.1926,  0.0711, -0.0801,  0.0573, -0.0411, -0.0944,  0.1548, -0.0221,\n",
              "                       0.0990,  0.0072, -0.0166,  0.0240,  0.0527, -0.0470, -0.0380, -0.0265,\n",
              "                      -0.1342,  0.0300, -0.0457,  0.0573, -0.0307,  0.0752,  0.1048, -0.0198,\n",
              "                       0.0053, -0.0435,  0.1244,  0.0369, -0.0859,  0.1515,  0.0873, -0.0413,\n",
              "                      -0.0240, -0.0385,  0.1125,  0.1621,  0.0305,  0.0147, -0.0093, -0.0354,\n",
              "                       0.0007, -0.0121,  0.0765,  0.1614,  0.0304, -0.0623,  0.0942, -0.0369,\n",
              "                      -0.0728,  0.1219,  0.0676,  0.0084, -0.0375, -0.0304,  0.0397,  0.0973,\n",
              "                      -0.0474, -0.0150, -0.0383,  0.0426, -0.0426,  0.0435, -0.0053,  0.0919,\n",
              "                      -0.0184,  0.0410, -0.0241, -0.0231,  0.1724,  0.0240, -0.0166, -0.0551,\n",
              "                       0.0450, -0.0375,  0.0265, -0.0055, -0.0265,  0.0271,  0.0749,  0.0515,\n",
              "                      -0.0743,  0.1328,  0.0060, -0.0554,  0.0061,  0.0707,  0.0244,  0.0509,\n",
              "                       0.1346, -0.0390, -0.0083, -0.0217, -0.0485, -0.0117, -0.0453,  0.1067])),\n",
              "             ('4.weight',\n",
              "              tensor([[ 8.4205e-02, -8.8023e-05,  6.8520e-03,  ...,  5.0330e-02,\n",
              "                       -3.1273e-02, -9.2458e-03],\n",
              "                      [-2.1992e-02, -4.8341e-02, -2.6440e-02,  ..., -7.0528e-02,\n",
              "                       -5.5859e-02,  1.0720e-01],\n",
              "                      [-9.7773e-02, -5.5873e-02, -1.5671e-03,  ..., -4.1021e-02,\n",
              "                       -2.2375e-02,  2.7146e-02],\n",
              "                      ...,\n",
              "                      [ 3.5566e-02,  3.7479e-03,  6.4890e-02,  ..., -6.0138e-02,\n",
              "                        7.7505e-02,  8.3344e-02],\n",
              "                      [-9.5437e-02,  2.6430e-02,  5.8039e-02,  ..., -2.2776e-02,\n",
              "                        4.3584e-03, -1.6990e-02],\n",
              "                      [ 3.0219e-02,  3.6160e-02,  9.3814e-03,  ...,  2.3858e-02,\n",
              "                        2.9257e-02, -5.5808e-02]])),\n",
              "             ('4.bias',\n",
              "              tensor([-0.0528, -0.0155,  0.2016, -0.0029,  0.1572,  0.0269, -0.0470,  0.1686,\n",
              "                      -0.0481,  0.0946, -0.0055,  0.2077,  0.0136, -0.0171,  0.2316,  0.1758,\n",
              "                      -0.0258, -0.0710,  0.2466,  0.3069,  0.0843,  0.0381,  0.0146,  0.0178,\n",
              "                       0.1809, -0.0875,  0.3765,  0.0471,  0.1164, -0.0193,  0.0157,  0.2432,\n",
              "                      -0.0982,  0.2675,  0.1709, -0.0239, -0.0496, -0.1151,  0.0746,  0.0025,\n",
              "                       0.3281, -0.0463, -0.0240, -0.0938,  0.2277,  0.1673,  0.1213,  0.0044,\n",
              "                       0.0772,  0.1962,  0.0458,  0.0414,  0.1308,  0.1623, -0.0444,  0.0835,\n",
              "                       0.1002, -0.0385, -0.0530,  0.0123,  0.1048,  0.1046,  0.0614,  0.2191])),\n",
              "             ('6.weight',\n",
              "              tensor([[-0.0973,  0.0953, -0.1390,  ..., -0.0637,  0.3402, -0.0758],\n",
              "                      [ 0.0575, -0.0729,  0.0413,  ..., -0.0239, -0.0275,  0.0302],\n",
              "                      [-0.1454, -0.1034, -0.0877,  ...,  0.0612,  0.2436, -0.1109],\n",
              "                      ...,\n",
              "                      [-0.1331, -0.0286,  0.1257,  ...,  0.1374,  0.0681,  0.1528],\n",
              "                      [-0.1556,  0.0275, -0.1211,  ..., -0.1396, -0.0682, -0.0076],\n",
              "                      [-0.0034, -0.1284, -0.1416,  ...,  0.0600, -0.2787,  0.0428]])),\n",
              "             ('6.bias',\n",
              "              tensor([ 0.0504,  0.1024,  0.2215, -0.0738,  0.3444,  0.0170, -0.0675,  0.3086,\n",
              "                       0.1265,  0.1969,  0.0040, -0.0508,  0.2441, -0.0926,  0.0467,  0.1971,\n",
              "                       0.1890,  0.0911,  0.0075,  0.2751,  0.3022,  0.1701,  0.3057, -0.1409,\n",
              "                       0.3946,  0.0900,  0.3481,  0.2225,  0.1898,  0.4831, -0.0402,  0.0062])),\n",
              "             ('8.weight',\n",
              "              tensor([[ 0.3271, -0.0226,  0.0120, -0.2458,  0.1183,  0.1093,  0.0208,  0.3174,\n",
              "                       -0.6183,  0.1360,  0.1099,  0.1724, -0.3007,  0.0977,  0.7678,  0.4083,\n",
              "                       -0.4086,  0.4252,  0.0893, -0.0173,  0.6311,  0.5740,  0.0848,  0.1186,\n",
              "                        0.1349, -0.5431,  0.0072,  0.2194,  0.0472, -0.4406,  0.1242, -0.1357],\n",
              "                      [-0.3949, -0.2085,  0.0180,  0.3986, -0.2558, -0.0618,  0.0329, -0.4078,\n",
              "                       -0.2221, -0.2505,  0.0164,  0.1408, -0.0216,  0.1059, -0.2012,  0.5999,\n",
              "                        0.4731,  0.3738,  0.1215, -0.3099,  0.2256, -0.4373,  0.0481, -0.1446,\n",
              "                       -0.3647, -0.2547, -0.0504, -0.3015, -0.3510, -0.2866,  0.5985,  0.0432],\n",
              "                      [-0.2685, -0.1878, -0.1887,  0.0530,  0.9404, -0.1456, -0.1485, -0.2844,\n",
              "                        0.0231, -0.3255,  0.1988, -0.0754, -0.0068,  0.0362, -0.0632, -0.1884,\n",
              "                       -0.3542,  0.1271, -0.0109, -0.1514, -0.2150,  0.3445,  0.4262, -0.3167,\n",
              "                        0.8429, -0.2412,  0.0780, -0.1360, -0.0756,  0.2411,  0.1221, -0.0951],\n",
              "                      [-0.1090, -0.2216, -0.3337, -0.1095, -0.5584, -0.1562, -0.0188, -0.3714,\n",
              "                       -0.2137, -0.2943, -0.0076,  0.0371, -0.1455, -0.1098,  0.1223,  0.5127,\n",
              "                        0.4159,  0.3741,  0.1765,  0.1606,  0.4589,  0.1808,  0.6110, -0.1391,\n",
              "                        0.3159, -0.4585, -0.4711, -0.2927,  0.4864, -0.0042, -0.3337, -0.3199],\n",
              "                      [-0.3655,  0.1393, -0.1631,  0.1799,  0.5154, -0.0731, -0.1219, -0.3561,\n",
              "                        0.1428, -0.2252, -0.2855,  0.0992,  0.7419, -0.0388, -0.2412,  0.0192,\n",
              "                       -0.0376, -0.2760, -0.1603, -0.1197,  0.3526, -0.5160,  0.7202, -0.0537,\n",
              "                        0.9899, -0.2641, -0.0945,  0.0103, -0.0555,  0.5216, -0.2359, -0.0874],\n",
              "                      [ 0.4786,  0.0548,  0.1938, -0.0584, -0.4605, -0.0091,  0.1549,  0.2955,\n",
              "                        0.5661,  0.7209, -0.2781,  0.0815, -0.1669,  0.0800, -0.1001, -0.5241,\n",
              "                        0.2973, -0.4050, -0.1429,  0.1813, -0.6320,  0.0529, -0.7686, -0.0852,\n",
              "                       -0.7454,  0.6718,  0.1664, -0.2413,  0.2392, -0.1791,  0.2496, -0.1543],\n",
              "                      [-0.2249,  0.1299, -0.1587, -0.0399,  0.3395,  0.0881, -0.0296, -0.1349,\n",
              "                        0.3751,  0.0746,  0.0544,  0.1389,  0.1239,  0.0051,  0.4789,  0.1513,\n",
              "                       -0.4764,  0.0313,  0.0646, -0.4366,  0.7153,  0.5650,  0.6114, -0.1099,\n",
              "                        0.2742, -0.4900,  0.2903,  0.4602, -0.0275,  0.3153, -0.2706, -0.0331],\n",
              "                      [-0.0534,  0.3033,  0.2126,  0.0210, -0.4172, -0.0074, -0.0451,  0.4984,\n",
              "                       -0.2012,  0.4584,  0.1213, -0.0564, -0.2710, -0.0761, -0.1280, -0.2488,\n",
              "                        0.2458, -0.1409,  0.0578,  0.3263, -0.7536, -0.2441, -0.6195,  0.0340,\n",
              "                       -0.6223,  1.0837, -0.1550, -0.2169,  0.1061, -0.5128,  0.1216,  0.5436],\n",
              "                      [-0.0313,  0.0263,  0.7179, -0.0973, -0.2662, -0.1536, -0.2774,  0.5095,\n",
              "                       -0.1685, -0.1284,  0.0848, -0.1286,  0.0074,  0.0420,  0.0142,  0.2430,\n",
              "                       -0.1800, -0.1638,  0.2326,  0.4379, -0.0589, -0.2360, -0.9829, -0.0491,\n",
              "                        0.1008, -0.5200,  0.5854, -0.2155,  0.2362,  0.5968, -0.2402,  0.1671],\n",
              "                      [-0.1001,  0.0060,  0.1175, -0.0737, -0.3594,  0.1339,  0.3462,  0.2529,\n",
              "                        0.3500,  0.2949,  0.2777, -0.0961, -0.2452,  0.0330, -0.0810, -0.5285,\n",
              "                       -0.6827,  0.0395,  0.1040,  0.2590, -0.5178,  0.1999, -0.3365,  0.4853,\n",
              "                       -0.4944,  1.0214,  0.0665, -0.2438, -0.3101, -0.5091,  0.2658,  0.6142]])),\n",
              "             ('8.bias',\n",
              "              tensor([-0.0586, -0.2895,  0.2283,  0.2308, -0.2926,  0.0836,  0.3824, -0.2832,\n",
              "                       0.4153, -0.8587]))])"
            ]
          },
          "metadata": {},
          "execution_count": 58
        }
      ]
    },
    {
      "cell_type": "code",
      "source": [
        "torch.save(model.state_dict(),'checkpoint.pth')"
      ],
      "metadata": {
        "id": "voFHqR-uRnIY"
      },
      "execution_count": null,
      "outputs": []
    },
    {
      "cell_type": "code",
      "source": [
        "state_dict=torch.load('checkpoint.pth')"
      ],
      "metadata": {
        "id": "CqpE1YOwR34l"
      },
      "execution_count": null,
      "outputs": []
    },
    {
      "cell_type": "code",
      "source": [
        "model = Network(input_size=784, output_size=10, hidden_layers=[256,128,64,32])\n",
        "model.load_state_dict(state_dict)"
      ],
      "metadata": {
        "colab": {
          "base_uri": "https://localhost:8080/",
          "height": 401
        },
        "id": "rcOU4Vy6SEX2",
        "outputId": "fc57f6a9-bbe8-4713-92b2-464f680a5c9f"
      },
      "execution_count": null,
      "outputs": [
        {
          "output_type": "error",
          "ename": "RuntimeError",
          "evalue": "ignored",
          "traceback": [
            "\u001b[0;31m---------------------------------------------------------------------------\u001b[0m",
            "\u001b[0;31mRuntimeError\u001b[0m                              Traceback (most recent call last)",
            "\u001b[0;32m<ipython-input-61-2f385efaf28d>\u001b[0m in \u001b[0;36m<module>\u001b[0;34m\u001b[0m\n\u001b[1;32m      1\u001b[0m \u001b[0mmodel\u001b[0m \u001b[0;34m=\u001b[0m \u001b[0mNetwork\u001b[0m\u001b[0;34m(\u001b[0m\u001b[0minput_size\u001b[0m\u001b[0;34m=\u001b[0m\u001b[0;36m784\u001b[0m\u001b[0;34m,\u001b[0m \u001b[0moutput_size\u001b[0m\u001b[0;34m=\u001b[0m\u001b[0;36m10\u001b[0m\u001b[0;34m,\u001b[0m \u001b[0mhidden_layers\u001b[0m\u001b[0;34m=\u001b[0m\u001b[0;34m[\u001b[0m\u001b[0;36m256\u001b[0m\u001b[0;34m,\u001b[0m\u001b[0;36m128\u001b[0m\u001b[0;34m,\u001b[0m\u001b[0;36m64\u001b[0m\u001b[0;34m,\u001b[0m\u001b[0;36m32\u001b[0m\u001b[0;34m]\u001b[0m\u001b[0;34m)\u001b[0m\u001b[0;34m\u001b[0m\u001b[0;34m\u001b[0m\u001b[0m\n\u001b[0;32m----> 2\u001b[0;31m \u001b[0mmodel\u001b[0m\u001b[0;34m.\u001b[0m\u001b[0mload_state_dict\u001b[0m\u001b[0;34m(\u001b[0m\u001b[0mstate_dict\u001b[0m\u001b[0;34m)\u001b[0m\u001b[0;34m\u001b[0m\u001b[0;34m\u001b[0m\u001b[0m\n\u001b[0m",
            "\u001b[0;32m/usr/local/lib/python3.8/dist-packages/torch/nn/modules/module.py\u001b[0m in \u001b[0;36mload_state_dict\u001b[0;34m(self, state_dict, strict)\u001b[0m\n\u001b[1;32m   1669\u001b[0m \u001b[0;34m\u001b[0m\u001b[0m\n\u001b[1;32m   1670\u001b[0m         \u001b[0;32mif\u001b[0m \u001b[0mlen\u001b[0m\u001b[0;34m(\u001b[0m\u001b[0merror_msgs\u001b[0m\u001b[0;34m)\u001b[0m \u001b[0;34m>\u001b[0m \u001b[0;36m0\u001b[0m\u001b[0;34m:\u001b[0m\u001b[0;34m\u001b[0m\u001b[0;34m\u001b[0m\u001b[0m\n\u001b[0;32m-> 1671\u001b[0;31m             raise RuntimeError('Error(s) in loading state_dict for {}:\\n\\t{}'.format(\n\u001b[0m\u001b[1;32m   1672\u001b[0m                                self.__class__.__name__, \"\\n\\t\".join(error_msgs)))\n\u001b[1;32m   1673\u001b[0m         \u001b[0;32mreturn\u001b[0m \u001b[0m_IncompatibleKeys\u001b[0m\u001b[0;34m(\u001b[0m\u001b[0mmissing_keys\u001b[0m\u001b[0;34m,\u001b[0m \u001b[0munexpected_keys\u001b[0m\u001b[0;34m)\u001b[0m\u001b[0;34m\u001b[0m\u001b[0;34m\u001b[0m\u001b[0m\n",
            "\u001b[0;31mRuntimeError\u001b[0m: Error(s) in loading state_dict for Network:\n\tMissing key(s) in state_dict: \"hidden_layers.0.weight\", \"hidden_layers.0.bias\", \"hidden_layers.1.weight\", \"hidden_layers.1.bias\", \"hidden_layers.2.weight\", \"hidden_layers.2.bias\", \"hidden_layers.3.weight\", \"hidden_layers.3.bias\", \"output.weight\", \"output.bias\". \n\tUnexpected key(s) in state_dict: \"0.weight\", \"0.bias\", \"2.weight\", \"2.bias\", \"4.weight\", \"4.bias\", \"6.weight\", \"6.bias\", \"8.weight\", \"8.bias\". "
          ]
        }
      ]
    },
    {
      "cell_type": "code",
      "source": [
        "transforms =  transforms.Compose([transforms.Resize(255),\n",
        "                                 transforms.CenterCrop(224),\n",
        "                                 transforms.ToTensor()])"
      ],
      "metadata": {
        "id": "xi1oPrZYSufQ",
        "colab": {
          "base_uri": "https://localhost:8080/",
          "height": 204
        },
        "outputId": "e1aa35c3-d22c-49dd-d12e-8e0e8a5e6338"
      },
      "execution_count": 62,
      "outputs": [
        {
          "output_type": "error",
          "ename": "AttributeError",
          "evalue": "ignored",
          "traceback": [
            "\u001b[0;31m---------------------------------------------------------------------------\u001b[0m",
            "\u001b[0;31mAttributeError\u001b[0m                            Traceback (most recent call last)",
            "\u001b[0;32m<ipython-input-62-1da33b81f9b3>\u001b[0m in \u001b[0;36m<module>\u001b[0;34m\u001b[0m\n\u001b[0;32m----> 1\u001b[0;31m transforms =  transforms.Compose([transforms.Resize(255),\n\u001b[0m\u001b[1;32m      2\u001b[0m                                  \u001b[0mtransforms\u001b[0m\u001b[0;34m.\u001b[0m\u001b[0mCenterCrop\u001b[0m\u001b[0;34m(\u001b[0m\u001b[0;36m224\u001b[0m\u001b[0;34m)\u001b[0m\u001b[0;34m,\u001b[0m\u001b[0;34m\u001b[0m\u001b[0;34m\u001b[0m\u001b[0m\n\u001b[1;32m      3\u001b[0m                                  transforms.ToTensor()])\n",
            "\u001b[0;31mAttributeError\u001b[0m: 'Compose' object has no attribute 'Compose'"
          ]
        }
      ]
    },
    {
      "cell_type": "code",
      "source": [
        "import os\n",
        "os.chdir('/content/Dogs__cats/')\n",
        "!rm -rf .*\n",
        "print(os.listdir())\n",
        "from torchvision import datasets, transforms\n",
        "transforms =  transforms.Compose([transforms.Resize(255),\n",
        "                                 transforms.CenterCrop(224),\n",
        "                                 transforms.ToTensor()])\n",
        "dataset =  datasets.ImageFolder('/content/Dogs__cats/',transform=transforms)\n",
        "dataloader  = torch.utils.data.DataLoader(dataset,batch_size=32,shuffle=True)"
      ],
      "metadata": {
        "colab": {
          "base_uri": "https://localhost:8080/"
        },
        "id": "A3-b4PFEgZ7A",
        "outputId": "56259696-0030-40c9-b03c-e964bb293920"
      },
      "execution_count": 91,
      "outputs": [
        {
          "output_type": "stream",
          "name": "stdout",
          "text": [
            "rm: refusing to remove '.' or '..' directory: skipping '.'\n",
            "rm: refusing to remove '.' or '..' directory: skipping '..'\n",
            "['cats', 'dogs']\n"
          ]
        }
      ]
    },
    {
      "cell_type": "code",
      "source": [
        "import  cv2\n",
        "\n",
        "from google.colab.patches import cv2_imshow\n",
        "images, labels=next(iter(dataloader))\n",
        " \n",
        "imshow(images[0])"
      ],
      "metadata": {
        "colab": {
          "base_uri": "https://localhost:8080/",
          "height": 266
        },
        "id": "AQj9-_8BgjI5",
        "outputId": "d51a7f86-c189-4ec0-93b4-6f7c1c4827a6"
      },
      "execution_count": 106,
      "outputs": [
        {
          "output_type": "execute_result",
          "data": {
            "text/plain": [
              "<matplotlib.axes._subplots.AxesSubplot at 0x7fb50978d190>"
            ]
          },
          "metadata": {},
          "execution_count": 106
        },
        {
          "output_type": "display_data",
          "data": {
            "text/plain": [
              "<Figure size 432x288 with 1 Axes>"
            ],
            "image/png": "[encoded data removed]"
          },
          "metadata": {
            "needs_background": "light"
          }
        }
      ]
    },
    {
      "cell_type": "code",
      "source": [],
      "metadata": {
        "id": "nlyF-QwRsGUN",
        "colab": {
          "base_uri": "https://localhost:8080/"
        },
        "outputId": "95a98557-5520-4f71-9f01-0bc12fdb372d"
      },
      "execution_count": 105,
      "outputs": [
        {
          "output_type": "execute_result",
          "data": {
            "text/plain": [
              "torch.Size([224, 224])"
            ]
          },
          "metadata": {},
          "execution_count": 105
        }
      ]
    },
    {
      "cell_type": "code",
      "source": [],
      "metadata": {
        "id": "a4DuTs2LSNzJ"
      },
      "execution_count": 82,
      "outputs": []
    },
    {
      "cell_type": "code",
      "source": [],
      "metadata": {
        "id": "uUMjq-u1VzpW"
      },
      "execution_count": null,
      "outputs": []
    }
  ]
}